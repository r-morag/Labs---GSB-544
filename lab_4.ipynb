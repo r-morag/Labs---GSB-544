{
 "cells": [
  {
   "cell_type": "raw",
   "metadata": {
    "vscode": {
     "languageId": "raw"
    }
   },
   "source": [
    "---\n",
    "title: \"Lab 3 - A Christmas Carol\"\n",
    "author: \"Roee Morag\"\n",
    "date: \"2024-10-11\"\n",
    "output: \n",
    "  html_document:\n",
    "    theme: \"cosmo\" \n",
    "--- "
   ]
  },
  {
   "cell_type": "code",
   "execution_count": 126,
   "metadata": {},
   "outputs": [],
   "source": [
    "import pandas as pd\n",
    "import numpy as np"
   ]
  },
  {
   "cell_type": "code",
   "execution_count": 127,
   "metadata": {},
   "outputs": [],
   "source": [
    "import requests\n",
    "star_response = requests.get(\"https://worldpopulationreview.com/state-rankings/starbucks-stores-by-state\")"
   ]
  },
  {
   "cell_type": "code",
   "execution_count": 128,
   "metadata": {},
   "outputs": [],
   "source": [
    "from bs4 import BeautifulSoup\n",
    "star_soup = BeautifulSoup(response.content, \"html.parser\")"
   ]
  },
  {
   "cell_type": "code",
   "execution_count": 129,
   "metadata": {},
   "outputs": [
    {
     "data": {
      "text/plain": [
       "<table class=\"wpr-table\"><thead class=\"table-head bg-wpr-table_header_bg relative z-40 px-0 py-0 text-xs uppercase tracking-wider\"><tr><th class=\"datatable-th bg-wpr-table_header_bg text-wpr-table_header border-wpr-table_border sticky top-0 border-b bg-clip-padding px-3 py-2 text-left align-bottom leading-4 md:px-4 pin left-0 z-50 border-l-0\"><div class=\"flex flex-col items-stretch justify-start\"><div class=\"flex flex-row items-center cursor-pointer select-none\">State</div></div></th><th class=\"datatable-th bg-wpr-table_header_bg text-wpr-table_header border-wpr-table_border sticky top-0 border-b bg-clip-padding px-3 py-2 text-left align-bottom leading-4 md:px-4 z-40\"><div class=\"flex flex-col items-stretch justify-start\"><div class=\"flex flex-row items-center cursor-pointer select-none\">Starbucks Stores 2023<svg class=\"icon icon-tabler icon-tabler-chevron-down\" fill=\"none\" height=\"14\" stroke=\"currentColor\" stroke-linecap=\"round\" stroke-linejoin=\"round\" stroke-width=\"2\" viewbox=\"0 0 24 24\" width=\"14\" xmlns=\"http://www.w3.org/2000/svg\"><path d=\"M0 0h24v24H0z\" fill=\"none\" stroke=\"none\"></path><polyline points=\"6 9 12 15 18 9\"></polyline></svg></div></div></th><th class=\"datatable-th bg-wpr-table_header_bg text-wpr-table_header border-wpr-table_border sticky top-0 border-b bg-clip-padding px-3 py-2 text-left align-bottom leading-4 md:px-4 z-40\"><div class=\"flex flex-col items-stretch justify-start\"><div class=\"flex flex-row items-center cursor-pointer select-none\">Starbucks Stores 2021</div></div></th><th class=\"datatable-th bg-wpr-table_header_bg text-wpr-table_header border-wpr-table_border sticky top-0 border-b bg-clip-padding px-3 py-2 text-left align-bottom leading-4 md:px-4 z-40\"><div class=\"flex flex-col items-stretch justify-start\"><div class=\"flex flex-row items-center cursor-pointer select-none\">Starbucks Stores 2024</div></div></th></tr></thead><tbody class=\"relative z-10 text-sm\"><tr class=\"table-row\" data-state=\"false\"><th class=\"text-wpr-table_header sticky left-0 z-50 bg-clip-padding py-1.5 pl-3 text-left align-middle text-sm md:px-4\"><a class=\"text-wpr-link\" href=\"/states/california\" to=\"/states/california\">California</a></th><td class=\"text-wpr-table_text z-40 px-3 py-1.5 text-sm md:px-4\">3,080</td><td class=\"text-wpr-table_text z-40 px-3 py-1.5 text-sm md:px-4\">2,959</td><td class=\"text-wpr-table_text z-40 px-3 py-1.5 text-sm md:px-4\">3,117</td></tr><tr class=\"table-row\" data-state=\"false\"><th class=\"text-wpr-table_header sticky left-0 z-50 bg-clip-padding py-1.5 pl-3 text-left align-middle text-sm md:px-4\"><a class=\"text-wpr-link\" href=\"/states/texas\" to=\"/states/texas\">Texas</a></th><td class=\"text-wpr-table_text z-40 px-3 py-1.5 text-sm md:px-4\">1,346</td><td class=\"text-wpr-table_text z-40 px-3 py-1.5 text-sm md:px-4\">1,215</td><td class=\"text-wpr-table_text z-40 px-3 py-1.5 text-sm md:px-4\">1,409</td></tr><tr class=\"table-row\" data-state=\"false\"><th class=\"text-wpr-table_header sticky left-0 z-50 bg-clip-padding py-1.5 pl-3 text-left align-middle text-sm md:px-4\"><a class=\"text-wpr-link\" href=\"/states/florida\" to=\"/states/florida\">Florida</a></th><td class=\"text-wpr-table_text z-40 px-3 py-1.5 text-sm md:px-4\">844</td><td class=\"text-wpr-table_text z-40 px-3 py-1.5 text-sm md:px-4\">786</td><td class=\"text-wpr-table_text z-40 px-3 py-1.5 text-sm md:px-4\">892</td></tr><tr class=\"table-row\" data-state=\"false\"><th class=\"text-wpr-table_header sticky left-0 z-50 bg-clip-padding py-1.5 pl-3 text-left align-middle text-sm md:px-4\"><a class=\"text-wpr-link\" href=\"/states/washington\" to=\"/states/washington\">Washington</a></th><td class=\"text-wpr-table_text z-40 px-3 py-1.5 text-sm md:px-4\">741</td><td class=\"text-wpr-table_text z-40 px-3 py-1.5 text-sm md:px-4\">739</td><td class=\"text-wpr-table_text z-40 px-3 py-1.5 text-sm md:px-4\">736</td></tr><tr class=\"table-row\" data-state=\"false\"><th class=\"text-wpr-table_header sticky left-0 z-50 bg-clip-padding py-1.5 pl-3 text-left align-middle text-sm md:px-4\"><a class=\"text-wpr-link\" href=\"/states/new-york\" to=\"/states/new-york\">New York</a></th><td class=\"text-wpr-table_text z-40 px-3 py-1.5 text-sm md:px-4\">692</td><td class=\"text-wpr-table_text z-40 px-3 py-1.5 text-sm md:px-4\">643</td><td class=\"text-wpr-table_text z-40 px-3 py-1.5 text-sm md:px-4\">715</td></tr><tr class=\"table-row\" data-state=\"false\"><th class=\"text-wpr-table_header sticky left-0 z-50 bg-clip-padding py-1.5 pl-3 text-left align-middle text-sm md:px-4\"><a class=\"text-wpr-link\" href=\"/states/illinois\" to=\"/states/illinois\">Illinois</a></th><td class=\"text-wpr-table_text z-40 px-3 py-1.5 text-sm md:px-4\">677</td><td class=\"text-wpr-table_text z-40 px-3 py-1.5 text-sm md:px-4\">621</td><td class=\"text-wpr-table_text z-40 px-3 py-1.5 text-sm md:px-4\">685</td></tr><tr class=\"table-row\" data-state=\"false\"><th class=\"text-wpr-table_header sticky left-0 z-50 bg-clip-padding py-1.5 pl-3 text-left align-middle text-sm md:px-4\"><a class=\"text-wpr-link\" href=\"/states/arizona\" to=\"/states/arizona\">Arizona</a></th><td class=\"text-wpr-table_text z-40 px-3 py-1.5 text-sm md:px-4\">548</td><td class=\"text-wpr-table_text z-40 px-3 py-1.5 text-sm md:px-4\">535</td><td class=\"text-wpr-table_text z-40 px-3 py-1.5 text-sm md:px-4\">579</td></tr><tr class=\"table-row\" data-state=\"false\"><th class=\"text-wpr-table_header sticky left-0 z-50 bg-clip-padding py-1.5 pl-3 text-left align-middle text-sm md:px-4\"><a class=\"text-wpr-link\" href=\"/states/colorado\" to=\"/states/colorado\">Colorado</a></th><td class=\"text-wpr-table_text z-40 px-3 py-1.5 text-sm md:px-4\">495</td><td class=\"text-wpr-table_text z-40 px-3 py-1.5 text-sm md:px-4\">497</td><td class=\"text-wpr-table_text z-40 px-3 py-1.5 text-sm md:px-4\">506</td></tr><tr class=\"table-row\" data-state=\"false\"><th class=\"text-wpr-table_header sticky left-0 z-50 bg-clip-padding py-1.5 pl-3 text-left align-middle text-sm md:px-4\"><a class=\"text-wpr-link\" href=\"/states/ohio\" to=\"/states/ohio\">Ohio</a></th><td class=\"text-wpr-table_text z-40 px-3 py-1.5 text-sm md:px-4\">491</td><td class=\"text-wpr-table_text z-40 px-3 py-1.5 text-sm md:px-4\">446</td><td class=\"text-wpr-table_text z-40 px-3 py-1.5 text-sm md:px-4\">499</td></tr><tr class=\"table-row\" data-state=\"false\"><th class=\"text-wpr-table_header sticky left-0 z-50 bg-clip-padding py-1.5 pl-3 text-left align-middle text-sm md:px-4\"><a class=\"text-wpr-link\" href=\"/states/virginia\" to=\"/states/virginia\">Virginia</a></th><td class=\"text-wpr-table_text z-40 px-3 py-1.5 text-sm md:px-4\">489</td><td class=\"text-wpr-table_text z-40 px-3 py-1.5 text-sm md:px-4\">456</td><td class=\"text-wpr-table_text z-40 px-3 py-1.5 text-sm md:px-4\">510</td></tr><tr class=\"table-row\" data-state=\"false\"><th class=\"text-wpr-table_header sticky left-0 z-50 bg-clip-padding py-1.5 pl-3 text-left align-middle text-sm md:px-4\"><a class=\"text-wpr-link\" href=\"/states/oregon\" to=\"/states/oregon\">Oregon</a></th><td class=\"text-wpr-table_text z-40 px-3 py-1.5 text-sm md:px-4\">359</td><td class=\"text-wpr-table_text z-40 px-3 py-1.5 text-sm md:px-4\">345</td><td class=\"text-wpr-table_text z-40 px-3 py-1.5 text-sm md:px-4\"></td></tr><tr class=\"table-row\" data-state=\"false\"><th class=\"text-wpr-table_header sticky left-0 z-50 bg-clip-padding py-1.5 pl-3 text-left align-middle text-sm md:px-4\"><a class=\"text-wpr-link\" href=\"/states/pennsylvania\" to=\"/states/pennsylvania\">Pennsylvania</a></th><td class=\"text-wpr-table_text z-40 px-3 py-1.5 text-sm md:px-4\">357</td><td class=\"text-wpr-table_text z-40 px-3 py-1.5 text-sm md:px-4\">406</td><td class=\"text-wpr-table_text z-40 px-3 py-1.5 text-sm md:px-4\"></td></tr><tr class=\"table-row\" data-state=\"false\"><th class=\"text-wpr-table_header sticky left-0 z-50 bg-clip-padding py-1.5 pl-3 text-left align-middle text-sm md:px-4\"><a class=\"text-wpr-link\" href=\"/states/north-carolina\" to=\"/states/north-carolina\">North Carolina</a></th><td class=\"text-wpr-table_text z-40 px-3 py-1.5 text-sm md:px-4\">338</td><td class=\"text-wpr-table_text z-40 px-3 py-1.5 text-sm md:px-4\">422</td><td class=\"text-wpr-table_text z-40 px-3 py-1.5 text-sm md:px-4\"></td></tr><tr class=\"table-row\" data-state=\"false\"><th class=\"text-wpr-table_header sticky left-0 z-50 bg-clip-padding py-1.5 pl-3 text-left align-middle text-sm md:px-4\"><a class=\"text-wpr-link\" href=\"/states/georgia\" to=\"/states/georgia\">Georgia</a></th><td class=\"text-wpr-table_text z-40 px-3 py-1.5 text-sm md:px-4\">326</td><td class=\"text-wpr-table_text z-40 px-3 py-1.5 text-sm md:px-4\">379</td><td class=\"text-wpr-table_text z-40 px-3 py-1.5 text-sm md:px-4\"></td></tr><tr class=\"table-row\" data-state=\"false\"><th class=\"text-wpr-table_header sticky left-0 z-50 bg-clip-padding py-1.5 pl-3 text-left align-middle text-sm md:px-4\"><a class=\"text-wpr-link\" href=\"/states/michigan\" to=\"/states/michigan\">Michigan</a></th><td class=\"text-wpr-table_text z-40 px-3 py-1.5 text-sm md:px-4\">283</td><td class=\"text-wpr-table_text z-40 px-3 py-1.5 text-sm md:px-4\">310</td><td class=\"text-wpr-table_text z-40 px-3 py-1.5 text-sm md:px-4\"></td></tr><tr class=\"table-row\" data-state=\"false\"><th class=\"text-wpr-table_header sticky left-0 z-50 bg-clip-padding py-1.5 pl-3 text-left align-middle text-sm md:px-4\"><a class=\"text-wpr-link\" href=\"/states/massachusetts\" to=\"/states/massachusetts\">Massachusetts</a></th><td class=\"text-wpr-table_text z-40 px-3 py-1.5 text-sm md:px-4\">273</td><td class=\"text-wpr-table_text z-40 px-3 py-1.5 text-sm md:px-4\">279</td><td class=\"text-wpr-table_text z-40 px-3 py-1.5 text-sm md:px-4\"></td></tr><tr class=\"table-row\" data-state=\"false\"><th class=\"text-wpr-table_header sticky left-0 z-50 bg-clip-padding py-1.5 pl-3 text-left align-middle text-sm md:px-4\"><a class=\"text-wpr-link\" href=\"/states/new-jersey\" to=\"/states/new-jersey\">New Jersey</a></th><td class=\"text-wpr-table_text z-40 px-3 py-1.5 text-sm md:px-4\">261</td><td class=\"text-wpr-table_text z-40 px-3 py-1.5 text-sm md:px-4\">293</td><td class=\"text-wpr-table_text z-40 px-3 py-1.5 text-sm md:px-4\"></td></tr><tr class=\"table-row\" data-state=\"false\"><th class=\"text-wpr-table_header sticky left-0 z-50 bg-clip-padding py-1.5 pl-3 text-left align-middle text-sm md:px-4\"><a class=\"text-wpr-link\" href=\"/states/maryland\" to=\"/states/maryland\">Maryland</a></th><td class=\"text-wpr-table_text z-40 px-3 py-1.5 text-sm md:px-4\">257</td><td class=\"text-wpr-table_text z-40 px-3 py-1.5 text-sm md:px-4\">274</td><td class=\"text-wpr-table_text z-40 px-3 py-1.5 text-sm md:px-4\"></td></tr><tr class=\"table-row\" data-state=\"false\"><th class=\"text-wpr-table_header sticky left-0 z-50 bg-clip-padding py-1.5 pl-3 text-left align-middle text-sm md:px-4\"><a class=\"text-wpr-link\" href=\"/states/nevada\" to=\"/states/nevada\">Nevada</a></th><td class=\"text-wpr-table_text z-40 px-3 py-1.5 text-sm md:px-4\">253</td><td class=\"text-wpr-table_text z-40 px-3 py-1.5 text-sm md:px-4\">269</td><td class=\"text-wpr-table_text z-40 px-3 py-1.5 text-sm md:px-4\"></td></tr><tr class=\"table-row\" data-state=\"false\"><th class=\"text-wpr-table_header sticky left-0 z-50 bg-clip-padding py-1.5 pl-3 text-left align-middle text-sm md:px-4\"><a class=\"text-wpr-link\" href=\"/states/indiana\" to=\"/states/indiana\">Indiana</a></th><td class=\"text-wpr-table_text z-40 px-3 py-1.5 text-sm md:px-4\">221</td><td class=\"text-wpr-table_text z-40 px-3 py-1.5 text-sm md:px-4\">265</td><td class=\"text-wpr-table_text z-40 px-3 py-1.5 text-sm md:px-4\"></td></tr><tr class=\"table-row\" data-state=\"false\"><th class=\"text-wpr-table_header sticky left-0 z-50 bg-clip-padding py-1.5 pl-3 text-left align-middle text-sm md:px-4\"><a class=\"text-wpr-link\" href=\"/states/missouri\" to=\"/states/missouri\">Missouri</a></th><td class=\"text-wpr-table_text z-40 px-3 py-1.5 text-sm md:px-4\">188</td><td class=\"text-wpr-table_text z-40 px-3 py-1.5 text-sm md:px-4\">208</td><td class=\"text-wpr-table_text z-40 px-3 py-1.5 text-sm md:px-4\"></td></tr><tr class=\"table-row\" data-state=\"false\"><th class=\"text-wpr-table_header sticky left-0 z-50 bg-clip-padding py-1.5 pl-3 text-left align-middle text-sm md:px-4\"><a class=\"text-wpr-link\" href=\"/states/minnesota\" to=\"/states/minnesota\">Minnesota</a></th><td class=\"text-wpr-table_text z-40 px-3 py-1.5 text-sm md:px-4\">184</td><td class=\"text-wpr-table_text z-40 px-3 py-1.5 text-sm md:px-4\">212</td><td class=\"text-wpr-table_text z-40 px-3 py-1.5 text-sm md:px-4\"></td></tr><tr class=\"table-row\" data-state=\"false\"><th class=\"text-wpr-table_header sticky left-0 z-50 bg-clip-padding py-1.5 pl-3 text-left align-middle text-sm md:px-4\"><a class=\"text-wpr-link\" href=\"/states/tennessee\" to=\"/states/tennessee\">Tennessee</a></th><td class=\"text-wpr-table_text z-40 px-3 py-1.5 text-sm md:px-4\">180</td><td class=\"text-wpr-table_text z-40 px-3 py-1.5 text-sm md:px-4\">237</td><td class=\"text-wpr-table_text z-40 px-3 py-1.5 text-sm md:px-4\"></td></tr><tr class=\"table-row\" data-state=\"false\"><th class=\"text-wpr-table_header sticky left-0 z-50 bg-clip-padding py-1.5 pl-3 text-left align-middle text-sm md:px-4\"><a class=\"text-wpr-link\" href=\"/states/kentucky\" to=\"/states/kentucky\">Kentucky</a></th><td class=\"text-wpr-table_text z-40 px-3 py-1.5 text-sm md:px-4\">166</td><td class=\"text-wpr-table_text z-40 px-3 py-1.5 text-sm md:px-4\">131</td><td class=\"text-wpr-table_text z-40 px-3 py-1.5 text-sm md:px-4\"></td></tr><tr class=\"table-row\" data-state=\"false\"><th class=\"text-wpr-table_header sticky left-0 z-50 bg-clip-padding py-1.5 pl-3 text-left align-middle text-sm md:px-4\"><a class=\"text-wpr-link\" href=\"/states/wisconsin\" to=\"/states/wisconsin\">Wisconsin</a></th><td class=\"text-wpr-table_text z-40 px-3 py-1.5 text-sm md:px-4\">145</td><td class=\"text-wpr-table_text z-40 px-3 py-1.5 text-sm md:px-4\">176</td><td class=\"text-wpr-table_text z-40 px-3 py-1.5 text-sm md:px-4\"></td></tr><tr class=\"table-row\" data-state=\"false\"><th class=\"text-wpr-table_header sticky left-0 z-50 bg-clip-padding py-1.5 pl-3 text-left align-middle text-sm md:px-4\"><a class=\"text-wpr-link\" href=\"/states/south-carolina\" to=\"/states/south-carolina\">South Carolina</a></th><td class=\"text-wpr-table_text z-40 px-3 py-1.5 text-sm md:px-4\">131</td><td class=\"text-wpr-table_text z-40 px-3 py-1.5 text-sm md:px-4\">207</td><td class=\"text-wpr-table_text z-40 px-3 py-1.5 text-sm md:px-4\"></td></tr><tr class=\"table-row\" data-state=\"false\"><th class=\"text-wpr-table_header sticky left-0 z-50 bg-clip-padding py-1.5 pl-3 text-left align-middle text-sm md:px-4\"><a class=\"text-wpr-link\" href=\"/states/connecticut\" to=\"/states/connecticut\">Connecticut</a></th><td class=\"text-wpr-table_text z-40 px-3 py-1.5 text-sm md:px-4\">123</td><td class=\"text-wpr-table_text z-40 px-3 py-1.5 text-sm md:px-4\">125</td><td class=\"text-wpr-table_text z-40 px-3 py-1.5 text-sm md:px-4\"></td></tr><tr class=\"table-row\" data-state=\"false\"><th class=\"text-wpr-table_header sticky left-0 z-50 bg-clip-padding py-1.5 pl-3 text-left align-middle text-sm md:px-4\"><a class=\"text-wpr-link\" href=\"/states/utah\" to=\"/states/utah\">Utah</a></th><td class=\"text-wpr-table_text z-40 px-3 py-1.5 text-sm md:px-4\">101</td><td class=\"text-wpr-table_text z-40 px-3 py-1.5 text-sm md:px-4\">126</td><td class=\"text-wpr-table_text z-40 px-3 py-1.5 text-sm md:px-4\"></td></tr><tr class=\"table-row\" data-state=\"false\"><th class=\"text-wpr-table_header sticky left-0 z-50 bg-clip-padding py-1.5 pl-3 text-left align-middle text-sm md:px-4\"><a class=\"text-wpr-link\" href=\"/states/hawaii\" to=\"/states/hawaii\">Hawaii</a></th><td class=\"text-wpr-table_text z-40 px-3 py-1.5 text-sm md:px-4\">99</td><td class=\"text-wpr-table_text z-40 px-3 py-1.5 text-sm md:px-4\">105</td><td class=\"text-wpr-table_text z-40 px-3 py-1.5 text-sm md:px-4\"></td></tr><tr class=\"table-row\" data-state=\"false\"><th class=\"text-wpr-table_header sticky left-0 z-50 bg-clip-padding py-1.5 pl-3 text-left align-middle text-sm md:px-4\"><a class=\"text-wpr-link\" href=\"/states/kansas\" to=\"/states/kansas\">Kansas</a></th><td class=\"text-wpr-table_text z-40 px-3 py-1.5 text-sm md:px-4\">94</td><td class=\"text-wpr-table_text z-40 px-3 py-1.5 text-sm md:px-4\">120</td><td class=\"text-wpr-table_text z-40 px-3 py-1.5 text-sm md:px-4\"></td></tr><tr class=\"table-row\" data-state=\"false\"><th class=\"text-wpr-table_header sticky left-0 z-50 bg-clip-padding py-1.5 pl-3 text-left align-middle text-sm md:px-4\"><a class=\"text-wpr-link\" href=\"/states/district-of-columbia\" to=\"/states/district-of-columbia\">District of Columbia</a></th><td class=\"text-wpr-table_text z-40 px-3 py-1.5 text-sm md:px-4\">91</td><td class=\"text-wpr-table_text z-40 px-3 py-1.5 text-sm md:px-4\"></td><td class=\"text-wpr-table_text z-40 px-3 py-1.5 text-sm md:px-4\"></td></tr><tr class=\"table-row\" data-state=\"false\"><th class=\"text-wpr-table_header sticky left-0 z-50 bg-clip-padding py-1.5 pl-3 text-left align-middle text-sm md:px-4\"><a class=\"text-wpr-link\" href=\"/states/iowa\" to=\"/states/iowa\">Iowa</a></th><td class=\"text-wpr-table_text z-40 px-3 py-1.5 text-sm md:px-4\">89</td><td class=\"text-wpr-table_text z-40 px-3 py-1.5 text-sm md:px-4\">142</td><td class=\"text-wpr-table_text z-40 px-3 py-1.5 text-sm md:px-4\"></td></tr><tr class=\"table-row\" data-state=\"false\"><th class=\"text-wpr-table_header sticky left-0 z-50 bg-clip-padding py-1.5 pl-3 text-left align-middle text-sm md:px-4\"><a class=\"text-wpr-link\" href=\"/states/alabama\" to=\"/states/alabama\">Alabama</a></th><td class=\"text-wpr-table_text z-40 px-3 py-1.5 text-sm md:px-4\">85</td><td class=\"text-wpr-table_text z-40 px-3 py-1.5 text-sm md:px-4\">99</td><td class=\"text-wpr-table_text z-40 px-3 py-1.5 text-sm md:px-4\"></td></tr><tr class=\"table-row\" data-state=\"false\"><th class=\"text-wpr-table_header sticky left-0 z-50 bg-clip-padding py-1.5 pl-3 text-left align-middle text-sm md:px-4\"><a class=\"text-wpr-link\" href=\"/states/louisiana\" to=\"/states/louisiana\">Louisiana</a></th><td class=\"text-wpr-table_text z-40 px-3 py-1.5 text-sm md:px-4\">84</td><td class=\"text-wpr-table_text z-40 px-3 py-1.5 text-sm md:px-4\">10</td><td class=\"text-wpr-table_text z-40 px-3 py-1.5 text-sm md:px-4\"></td></tr><tr class=\"table-row\" data-state=\"false\"><th class=\"text-wpr-table_header sticky left-0 z-50 bg-clip-padding py-1.5 pl-3 text-left align-middle text-sm md:px-4\"><a class=\"text-wpr-link\" href=\"/states/oklahoma\" to=\"/states/oklahoma\">Oklahoma</a></th><td class=\"text-wpr-table_text z-40 px-3 py-1.5 text-sm md:px-4\">79</td><td class=\"text-wpr-table_text z-40 px-3 py-1.5 text-sm md:px-4\">94</td><td class=\"text-wpr-table_text z-40 px-3 py-1.5 text-sm md:px-4\"></td></tr><tr class=\"table-row\" data-state=\"false\"><th class=\"text-wpr-table_header sticky left-0 z-50 bg-clip-padding py-1.5 pl-3 text-left align-middle text-sm md:px-4\"><a class=\"text-wpr-link\" href=\"/states/new-mexico\" to=\"/states/new-mexico\">New Mexico</a></th><td class=\"text-wpr-table_text z-40 px-3 py-1.5 text-sm md:px-4\">76</td><td class=\"text-wpr-table_text z-40 px-3 py-1.5 text-sm md:px-4\">92</td><td class=\"text-wpr-table_text z-40 px-3 py-1.5 text-sm md:px-4\"></td></tr><tr class=\"table-row\" data-state=\"false\"><th class=\"text-wpr-table_header sticky left-0 z-50 bg-clip-padding py-1.5 pl-3 text-left align-middle text-sm md:px-4\"><a class=\"text-wpr-link\" href=\"/states/idaho\" to=\"/states/idaho\">Idaho</a></th><td class=\"text-wpr-table_text z-40 px-3 py-1.5 text-sm md:px-4\">67</td><td class=\"text-wpr-table_text z-40 px-3 py-1.5 text-sm md:px-4\">78</td><td class=\"text-wpr-table_text z-40 px-3 py-1.5 text-sm md:px-4\"></td></tr><tr class=\"table-row\" data-state=\"false\"><th class=\"text-wpr-table_header sticky left-0 z-50 bg-clip-padding py-1.5 pl-3 text-left align-middle text-sm md:px-4\"><a class=\"text-wpr-link\" href=\"/states/nebraska\" to=\"/states/nebraska\">Nebraska</a></th><td class=\"text-wpr-table_text z-40 px-3 py-1.5 text-sm md:px-4\">58</td><td class=\"text-wpr-table_text z-40 px-3 py-1.5 text-sm md:px-4\">87</td><td class=\"text-wpr-table_text z-40 px-3 py-1.5 text-sm md:px-4\"></td></tr><tr class=\"table-row\" data-state=\"false\"><th class=\"text-wpr-table_header sticky left-0 z-50 bg-clip-padding py-1.5 pl-3 text-left align-middle text-sm md:px-4\"><a class=\"text-wpr-link\" href=\"/states/arkansas\" to=\"/states/arkansas\">Arkansas</a></th><td class=\"text-wpr-table_text z-40 px-3 py-1.5 text-sm md:px-4\">55</td><td class=\"text-wpr-table_text z-40 px-3 py-1.5 text-sm md:px-4\">66</td><td class=\"text-wpr-table_text z-40 px-3 py-1.5 text-sm md:px-4\"></td></tr><tr class=\"table-row\" data-state=\"false\"><th class=\"text-wpr-table_header sticky left-0 z-50 bg-clip-padding py-1.5 pl-3 text-left align-middle text-sm md:px-4\"><a class=\"text-wpr-link\" href=\"/states/alaska\" to=\"/states/alaska\">Alaska</a></th><td class=\"text-wpr-table_text z-40 px-3 py-1.5 text-sm md:px-4\">49</td><td class=\"text-wpr-table_text z-40 px-3 py-1.5 text-sm md:px-4\">49</td><td class=\"text-wpr-table_text z-40 px-3 py-1.5 text-sm md:px-4\"></td></tr><tr class=\"table-row\" data-state=\"false\"><th class=\"text-wpr-table_header sticky left-0 z-50 bg-clip-padding py-1.5 pl-3 text-left align-middle text-sm md:px-4\"><a class=\"text-wpr-link\" href=\"/states/mississippi\" to=\"/states/mississippi\">Mississippi</a></th><td class=\"text-wpr-table_text z-40 px-3 py-1.5 text-sm md:px-4\">32</td><td class=\"text-wpr-table_text z-40 px-3 py-1.5 text-sm md:px-4\">36</td><td class=\"text-wpr-table_text z-40 px-3 py-1.5 text-sm md:px-4\"></td></tr><tr class=\"table-row\" data-state=\"false\"><th class=\"text-wpr-table_header sticky left-0 z-50 bg-clip-padding py-1.5 pl-3 text-left align-middle text-sm md:px-4\"><a class=\"text-wpr-link\" href=\"/states/montana\" to=\"/states/montana\">Montana</a></th><td class=\"text-wpr-table_text z-40 px-3 py-1.5 text-sm md:px-4\">32</td><td class=\"text-wpr-table_text z-40 px-3 py-1.5 text-sm md:px-4\">45</td><td class=\"text-wpr-table_text z-40 px-3 py-1.5 text-sm md:px-4\"></td></tr><tr class=\"table-row\" data-state=\"false\"><th class=\"text-wpr-table_header sticky left-0 z-50 bg-clip-padding py-1.5 pl-3 text-left align-middle text-sm md:px-4\"><a class=\"text-wpr-link\" href=\"/states/maine\" to=\"/states/maine\">Maine</a></th><td class=\"text-wpr-table_text z-40 px-3 py-1.5 text-sm md:px-4\">30</td><td class=\"text-wpr-table_text z-40 px-3 py-1.5 text-sm md:px-4\">31</td><td class=\"text-wpr-table_text z-40 px-3 py-1.5 text-sm md:px-4\"></td></tr><tr class=\"table-row\" data-state=\"false\"><th class=\"text-wpr-table_header sticky left-0 z-50 bg-clip-padding py-1.5 pl-3 text-left align-middle text-sm md:px-4\"><a class=\"text-wpr-link\" href=\"/states/new-hampshire\" to=\"/states/new-hampshire\">New Hampshire</a></th><td class=\"text-wpr-table_text z-40 px-3 py-1.5 text-sm md:px-4\">29</td><td class=\"text-wpr-table_text z-40 px-3 py-1.5 text-sm md:px-4\">35</td><td class=\"text-wpr-table_text z-40 px-3 py-1.5 text-sm md:px-4\"></td></tr><tr class=\"table-row\" data-state=\"false\"><th class=\"text-wpr-table_header sticky left-0 z-50 bg-clip-padding py-1.5 pl-3 text-left align-middle text-sm md:px-4\"><a class=\"text-wpr-link\" href=\"/states/rhode-island\" to=\"/states/rhode-island\">Rhode Island</a></th><td class=\"text-wpr-table_text z-40 px-3 py-1.5 text-sm md:px-4\">27</td><td class=\"text-wpr-table_text z-40 px-3 py-1.5 text-sm md:px-4\">26</td><td class=\"text-wpr-table_text z-40 px-3 py-1.5 text-sm md:px-4\"></td></tr><tr class=\"table-row\" data-state=\"false\"><th class=\"text-wpr-table_header sticky left-0 z-50 bg-clip-padding py-1.5 pl-3 text-left align-middle text-sm md:px-4\"><a class=\"text-wpr-link\" href=\"/states/delaware\" to=\"/states/delaware\">Delaware</a></th><td class=\"text-wpr-table_text z-40 px-3 py-1.5 text-sm md:px-4\">25</td><td class=\"text-wpr-table_text z-40 px-3 py-1.5 text-sm md:px-4\">39</td><td class=\"text-wpr-table_text z-40 px-3 py-1.5 text-sm md:px-4\"></td></tr><tr class=\"table-row\" data-state=\"false\"><th class=\"text-wpr-table_header sticky left-0 z-50 bg-clip-padding py-1.5 pl-3 text-left align-middle text-sm md:px-4\"><a class=\"text-wpr-link\" href=\"/states/south-dakota\" to=\"/states/south-dakota\">South Dakota</a></th><td class=\"text-wpr-table_text z-40 px-3 py-1.5 text-sm md:px-4\">25</td><td class=\"text-wpr-table_text z-40 px-3 py-1.5 text-sm md:px-4\">52</td><td class=\"text-wpr-table_text z-40 px-3 py-1.5 text-sm md:px-4\"></td></tr><tr class=\"table-row\" data-state=\"false\"><th class=\"text-wpr-table_header sticky left-0 z-50 bg-clip-padding py-1.5 pl-3 text-left align-middle text-sm md:px-4\"><a class=\"text-wpr-link\" href=\"/states/west-virginia\" to=\"/states/west-virginia\">West Virginia</a></th><td class=\"text-wpr-table_text z-40 px-3 py-1.5 text-sm md:px-4\">25</td><td class=\"text-wpr-table_text z-40 px-3 py-1.5 text-sm md:px-4\">64</td><td class=\"text-wpr-table_text z-40 px-3 py-1.5 text-sm md:px-4\"></td></tr><tr class=\"table-row\" data-state=\"false\"><th class=\"text-wpr-table_header sticky left-0 z-50 bg-clip-padding py-1.5 pl-3 text-left align-middle text-sm md:px-4\"><a class=\"text-wpr-link\" href=\"/states/wyoming\" to=\"/states/wyoming\">Wyoming</a></th><td class=\"text-wpr-table_text z-40 px-3 py-1.5 text-sm md:px-4\">23</td><td class=\"text-wpr-table_text z-40 px-3 py-1.5 text-sm md:px-4\">26</td><td class=\"text-wpr-table_text z-40 px-3 py-1.5 text-sm md:px-4\"></td></tr><tr class=\"table-row\" data-state=\"false\"><th class=\"text-wpr-table_header sticky left-0 z-50 bg-clip-padding py-1.5 pl-3 text-left align-middle text-sm md:px-4\"><a class=\"text-wpr-link\" href=\"/states/north-dakota\" to=\"/states/north-dakota\">North Dakota</a></th><td class=\"text-wpr-table_text z-40 px-3 py-1.5 text-sm md:px-4\">13</td><td class=\"text-wpr-table_text z-40 px-3 py-1.5 text-sm md:px-4\">20</td><td class=\"text-wpr-table_text z-40 px-3 py-1.5 text-sm md:px-4\"></td></tr><tr class=\"table-row\" data-state=\"false\"><th class=\"text-wpr-table_header sticky left-0 z-50 bg-clip-padding py-1.5 pl-3 text-left align-middle text-sm md:px-4\"><a class=\"text-wpr-link\" href=\"/states/vermont\" to=\"/states/vermont\">Vermont</a></th><td class=\"text-wpr-table_text z-40 px-3 py-1.5 text-sm md:px-4\">8</td><td class=\"text-wpr-table_text z-40 px-3 py-1.5 text-sm md:px-4\">35</td><td class=\"text-wpr-table_text z-40 px-3 py-1.5 text-sm md:px-4\"></td></tr></tbody></table>"
      ]
     },
     "execution_count": null,
     "metadata": {},
     "output_type": "execute_result"
    }
   ],
   "source": [
    "star_table = soup.find_all(\"table\")[0]\n",
    "star_table"
   ]
  },
  {
   "cell_type": "code",
   "execution_count": 130,
   "metadata": {},
   "outputs": [
    {
     "data": {
      "text/plain": [
       "'California'"
      ]
     },
     "execution_count": null,
     "metadata": {},
     "output_type": "execute_result"
    }
   ],
   "source": [
    "row_1 = star_table.find_all(\"tr\")[1]\n",
    "state_tag = row_1.find(\"th\")\n",
    "state_tag.text"
   ]
  },
  {
   "cell_type": "code",
   "execution_count": 131,
   "metadata": {},
   "outputs": [
    {
     "data": {
      "text/plain": [
       "'3,080'"
      ]
     },
     "execution_count": null,
     "metadata": {},
     "output_type": "execute_result"
    }
   ],
   "source": [
    "store_tag = row_1.find(\"td\")\n",
    "store_tag.text"
   ]
  },
  {
   "cell_type": "code",
   "execution_count": 132,
   "metadata": {},
   "outputs": [],
   "source": [
    "rows = []\n",
    "\n",
    "# iterate over all rows in the faculty table\n",
    "for row in star_table.find_all(\"tr\")[1:]:\n",
    "\n",
    "    # The information we need is the text between tags.\n",
    "\n",
    "    state_tag = row.find(\"th\")\n",
    "    state = state_tag.text\n",
    "\n",
    "    store_tag = row.find(\"td\")\n",
    "    store = store_tag.text\n",
    "\n",
    "    # Append this data.\n",
    "    rows.append({\n",
    "        \"state\": state,\n",
    "        \"starbucks_store_2023\": store\n",
    "    })"
   ]
  },
  {
   "cell_type": "code",
   "execution_count": 133,
   "metadata": {},
   "outputs": [],
   "source": [
    "bux_df = pd.DataFrame(rows)"
   ]
  },
  {
   "cell_type": "code",
   "execution_count": 134,
   "metadata": {},
   "outputs": [],
   "source": [
    "dunkin_response = requests.get(\"https://worldpopulationreview.com/state-rankings/dunkin-donuts-by-state\")"
   ]
  },
  {
   "cell_type": "code",
   "execution_count": 135,
   "metadata": {},
   "outputs": [],
   "source": [
    "dunkin_soup = BeautifulSoup(dunkin_response.content, \"html.parser\")"
   ]
  },
  {
   "cell_type": "code",
   "execution_count": 136,
   "metadata": {},
   "outputs": [
    {
     "data": {
      "text/plain": [
       "<table class=\"wpr-table\"><thead class=\"table-head bg-wpr-table_header_bg relative z-40 px-0 py-0 text-xs uppercase tracking-wider\"><tr><th class=\"datatable-th bg-wpr-table_header_bg text-wpr-table_header border-wpr-table_border sticky top-0 border-b bg-clip-padding px-3 py-2 text-left align-bottom leading-4 md:px-4 pin left-0 z-50 border-l-0\"><div class=\"flex flex-col items-stretch justify-start\"><div class=\"flex flex-row items-center cursor-pointer select-none\">State</div></div></th><th class=\"datatable-th bg-wpr-table_header_bg text-wpr-table_header border-wpr-table_border sticky top-0 border-b bg-clip-padding px-3 py-2 text-left align-bottom leading-4 md:px-4 z-40\"><div class=\"flex flex-col items-stretch justify-start\"><div class=\"flex flex-row items-center cursor-pointer select-none\">Dunkin Locations 2024<svg class=\"icon icon-tabler icon-tabler-chevron-down\" fill=\"none\" height=\"14\" stroke=\"currentColor\" stroke-linecap=\"round\" stroke-linejoin=\"round\" stroke-width=\"2\" viewbox=\"0 0 24 24\" width=\"14\" xmlns=\"http://www.w3.org/2000/svg\"><path d=\"M0 0h24v24H0z\" fill=\"none\" stroke=\"none\"></path><polyline points=\"6 9 12 15 18 9\"></polyline></svg></div></div></th><th class=\"datatable-th bg-wpr-table_header_bg text-wpr-table_header border-wpr-table_border sticky top-0 border-b bg-clip-padding px-3 py-2 text-left align-bottom leading-4 md:px-4 z-40\"><div class=\"flex flex-col items-stretch justify-start\"><div class=\"flex flex-row items-center cursor-pointer select-none\">Dunkin Locations 2023</div></div></th></tr></thead><tbody class=\"relative z-10 text-sm\"><tr class=\"table-row\" data-state=\"false\"><th class=\"text-wpr-table_header sticky left-0 z-50 bg-clip-padding py-1.5 pl-3 text-left align-middle text-sm md:px-4\"><a class=\"text-wpr-link\" href=\"/states/new-york\" to=\"/states/new-york\">New York</a></th><td class=\"text-wpr-table_text z-40 px-3 py-1.5 text-sm md:px-4\">1,431</td><td class=\"text-wpr-table_text z-40 px-3 py-1.5 text-sm md:px-4\">1,414</td></tr><tr class=\"table-row\" data-state=\"false\"><th class=\"text-wpr-table_header sticky left-0 z-50 bg-clip-padding py-1.5 pl-3 text-left align-middle text-sm md:px-4\"><a class=\"text-wpr-link\" href=\"/states/massachusetts\" to=\"/states/massachusetts\">Massachusetts</a></th><td class=\"text-wpr-table_text z-40 px-3 py-1.5 text-sm md:px-4\">1,042</td><td class=\"text-wpr-table_text z-40 px-3 py-1.5 text-sm md:px-4\">1,068</td></tr><tr class=\"table-row\" data-state=\"false\"><th class=\"text-wpr-table_header sticky left-0 z-50 bg-clip-padding py-1.5 pl-3 text-left align-middle text-sm md:px-4\"><a class=\"text-wpr-link\" href=\"/states/florida\" to=\"/states/florida\">Florida</a></th><td class=\"text-wpr-table_text z-40 px-3 py-1.5 text-sm md:px-4\">909</td><td class=\"text-wpr-table_text z-40 px-3 py-1.5 text-sm md:px-4\">883</td></tr><tr class=\"table-row\" data-state=\"false\"><th class=\"text-wpr-table_header sticky left-0 z-50 bg-clip-padding py-1.5 pl-3 text-left align-middle text-sm md:px-4\"><a class=\"text-wpr-link\" href=\"/states/new-jersey\" to=\"/states/new-jersey\">New Jersey</a></th><td class=\"text-wpr-table_text z-40 px-3 py-1.5 text-sm md:px-4\">872</td><td class=\"text-wpr-table_text z-40 px-3 py-1.5 text-sm md:px-4\">866</td></tr><tr class=\"table-row\" data-state=\"false\"><th class=\"text-wpr-table_header sticky left-0 z-50 bg-clip-padding py-1.5 pl-3 text-left align-middle text-sm md:px-4\"><a class=\"text-wpr-link\" href=\"/states/illinois\" to=\"/states/illinois\">Illinois</a></th><td class=\"text-wpr-table_text z-40 px-3 py-1.5 text-sm md:px-4\">711</td><td class=\"text-wpr-table_text z-40 px-3 py-1.5 text-sm md:px-4\">692</td></tr><tr class=\"table-row\" data-state=\"false\"><th class=\"text-wpr-table_header sticky left-0 z-50 bg-clip-padding py-1.5 pl-3 text-left align-middle text-sm md:px-4\"><a class=\"text-wpr-link\" href=\"/states/pennsylvania\" to=\"/states/pennsylvania\">Pennsylvania</a></th><td class=\"text-wpr-table_text z-40 px-3 py-1.5 text-sm md:px-4\">650</td><td class=\"text-wpr-table_text z-40 px-3 py-1.5 text-sm md:px-4\">629</td></tr><tr class=\"table-row\" data-state=\"false\"><th class=\"text-wpr-table_header sticky left-0 z-50 bg-clip-padding py-1.5 pl-3 text-left align-middle text-sm md:px-4\"><a class=\"text-wpr-link\" href=\"/states/connecticut\" to=\"/states/connecticut\">Connecticut</a></th><td class=\"text-wpr-table_text z-40 px-3 py-1.5 text-sm md:px-4\">476</td><td class=\"text-wpr-table_text z-40 px-3 py-1.5 text-sm md:px-4\">480</td></tr><tr class=\"table-row\" data-state=\"false\"><th class=\"text-wpr-table_header sticky left-0 z-50 bg-clip-padding py-1.5 pl-3 text-left align-middle text-sm md:px-4\"><a class=\"text-wpr-link\" href=\"/states/maryland\" to=\"/states/maryland\">Maryland</a></th><td class=\"text-wpr-table_text z-40 px-3 py-1.5 text-sm md:px-4\">311</td><td class=\"text-wpr-table_text z-40 px-3 py-1.5 text-sm md:px-4\">303</td></tr><tr class=\"table-row\" data-state=\"false\"><th class=\"text-wpr-table_header sticky left-0 z-50 bg-clip-padding py-1.5 pl-3 text-left align-middle text-sm md:px-4\"><a class=\"text-wpr-link\" href=\"/states/georgia\" to=\"/states/georgia\">Georgia</a></th><td class=\"text-wpr-table_text z-40 px-3 py-1.5 text-sm md:px-4\">287</td><td class=\"text-wpr-table_text z-40 px-3 py-1.5 text-sm md:px-4\">265</td></tr><tr class=\"table-row\" data-state=\"false\"><th class=\"text-wpr-table_header sticky left-0 z-50 bg-clip-padding py-1.5 pl-3 text-left align-middle text-sm md:px-4\"><a class=\"text-wpr-link\" href=\"/states/ohio\" to=\"/states/ohio\">Ohio</a></th><td class=\"text-wpr-table_text z-40 px-3 py-1.5 text-sm md:px-4\">261</td><td class=\"text-wpr-table_text z-40 px-3 py-1.5 text-sm md:px-4\">245</td></tr><tr class=\"table-row\" data-state=\"false\"><th class=\"text-wpr-table_header sticky left-0 z-50 bg-clip-padding py-1.5 pl-3 text-left align-middle text-sm md:px-4\"><a class=\"text-wpr-link\" href=\"/states/virginia\" to=\"/states/virginia\">Virginia</a></th><td class=\"text-wpr-table_text z-40 px-3 py-1.5 text-sm md:px-4\">244</td><td class=\"text-wpr-table_text z-40 px-3 py-1.5 text-sm md:px-4\">230</td></tr><tr class=\"table-row\" data-state=\"false\"><th class=\"text-wpr-table_header sticky left-0 z-50 bg-clip-padding py-1.5 pl-3 text-left align-middle text-sm md:px-4\"><a class=\"text-wpr-link\" href=\"/states/texas\" to=\"/states/texas\">Texas</a></th><td class=\"text-wpr-table_text z-40 px-3 py-1.5 text-sm md:px-4\">226</td><td class=\"text-wpr-table_text z-40 px-3 py-1.5 text-sm md:px-4\">196</td></tr><tr class=\"table-row\" data-state=\"false\"><th class=\"text-wpr-table_header sticky left-0 z-50 bg-clip-padding py-1.5 pl-3 text-left align-middle text-sm md:px-4\"><a class=\"text-wpr-link\" href=\"/states/north-carolina\" to=\"/states/north-carolina\">North Carolina</a></th><td class=\"text-wpr-table_text z-40 px-3 py-1.5 text-sm md:px-4\">224</td><td class=\"text-wpr-table_text z-40 px-3 py-1.5 text-sm md:px-4\">206</td></tr><tr class=\"table-row\" data-state=\"false\"><th class=\"text-wpr-table_header sticky left-0 z-50 bg-clip-padding py-1.5 pl-3 text-left align-middle text-sm md:px-4\"><a class=\"text-wpr-link\" href=\"/states/new-hampshire\" to=\"/states/new-hampshire\">New Hampshire</a></th><td class=\"text-wpr-table_text z-40 px-3 py-1.5 text-sm md:px-4\">216</td><td class=\"text-wpr-table_text z-40 px-3 py-1.5 text-sm md:px-4\">218</td></tr><tr class=\"table-row\" data-state=\"false\"><th class=\"text-wpr-table_header sticky left-0 z-50 bg-clip-padding py-1.5 pl-3 text-left align-middle text-sm md:px-4\"><a class=\"text-wpr-link\" href=\"/states/maine\" to=\"/states/maine\">Maine</a></th><td class=\"text-wpr-table_text z-40 px-3 py-1.5 text-sm md:px-4\">164</td><td class=\"text-wpr-table_text z-40 px-3 py-1.5 text-sm md:px-4\">159</td></tr><tr class=\"table-row\" data-state=\"false\"><th class=\"text-wpr-table_header sticky left-0 z-50 bg-clip-padding py-1.5 pl-3 text-left align-middle text-sm md:px-4\"><a class=\"text-wpr-link\" href=\"/states/rhode-island\" to=\"/states/rhode-island\">Rhode Island</a></th><td class=\"text-wpr-table_text z-40 px-3 py-1.5 text-sm md:px-4\">159</td><td class=\"text-wpr-table_text z-40 px-3 py-1.5 text-sm md:px-4\">160</td></tr><tr class=\"table-row\" data-state=\"false\"><th class=\"text-wpr-table_header sticky left-0 z-50 bg-clip-padding py-1.5 pl-3 text-left align-middle text-sm md:px-4\"><a class=\"text-wpr-link\" href=\"/states/california\" to=\"/states/california\">California</a></th><td class=\"text-wpr-table_text z-40 px-3 py-1.5 text-sm md:px-4\">143</td><td class=\"text-wpr-table_text z-40 px-3 py-1.5 text-sm md:px-4\">134</td></tr><tr class=\"table-row\" data-state=\"false\"><th class=\"text-wpr-table_header sticky left-0 z-50 bg-clip-padding py-1.5 pl-3 text-left align-middle text-sm md:px-4\"><a class=\"text-wpr-link\" href=\"/states/tennessee\" to=\"/states/tennessee\">Tennessee</a></th><td class=\"text-wpr-table_text z-40 px-3 py-1.5 text-sm md:px-4\">137</td><td class=\"text-wpr-table_text z-40 px-3 py-1.5 text-sm md:px-4\">123</td></tr><tr class=\"table-row\" data-state=\"false\"><th class=\"text-wpr-table_header sticky left-0 z-50 bg-clip-padding py-1.5 pl-3 text-left align-middle text-sm md:px-4\"><a class=\"text-wpr-link\" href=\"/states/indiana\" to=\"/states/indiana\">Indiana</a></th><td class=\"text-wpr-table_text z-40 px-3 py-1.5 text-sm md:px-4\">117</td><td class=\"text-wpr-table_text z-40 px-3 py-1.5 text-sm md:px-4\">104</td></tr><tr class=\"table-row\" data-state=\"false\"><th class=\"text-wpr-table_header sticky left-0 z-50 bg-clip-padding py-1.5 pl-3 text-left align-middle text-sm md:px-4\"><a class=\"text-wpr-link\" href=\"/states/south-carolina\" to=\"/states/south-carolina\">South Carolina</a></th><td class=\"text-wpr-table_text z-40 px-3 py-1.5 text-sm md:px-4\">116</td><td class=\"text-wpr-table_text z-40 px-3 py-1.5 text-sm md:px-4\">103</td></tr><tr class=\"table-row\" data-state=\"false\"><th class=\"text-wpr-table_header sticky left-0 z-50 bg-clip-padding py-1.5 pl-3 text-left align-middle text-sm md:px-4\"><a class=\"text-wpr-link\" href=\"/states/michigan\" to=\"/states/michigan\">Michigan</a></th><td class=\"text-wpr-table_text z-40 px-3 py-1.5 text-sm md:px-4\">112</td><td class=\"text-wpr-table_text z-40 px-3 py-1.5 text-sm md:px-4\">105</td></tr><tr class=\"table-row\" data-state=\"false\"><th class=\"text-wpr-table_header sticky left-0 z-50 bg-clip-padding py-1.5 pl-3 text-left align-middle text-sm md:px-4\"><a class=\"text-wpr-link\" href=\"/states/arizona\" to=\"/states/arizona\">Arizona</a></th><td class=\"text-wpr-table_text z-40 px-3 py-1.5 text-sm md:px-4\">110</td><td class=\"text-wpr-table_text z-40 px-3 py-1.5 text-sm md:px-4\">102</td></tr><tr class=\"table-row\" data-state=\"false\"><th class=\"text-wpr-table_header sticky left-0 z-50 bg-clip-padding py-1.5 pl-3 text-left align-middle text-sm md:px-4\"><a class=\"text-wpr-link\" href=\"/states/wisconsin\" to=\"/states/wisconsin\">Wisconsin</a></th><td class=\"text-wpr-table_text z-40 px-3 py-1.5 text-sm md:px-4\">100</td><td class=\"text-wpr-table_text z-40 px-3 py-1.5 text-sm md:px-4\">83</td></tr><tr class=\"table-row\" data-state=\"false\"><th class=\"text-wpr-table_header sticky left-0 z-50 bg-clip-padding py-1.5 pl-3 text-left align-middle text-sm md:px-4\"><a class=\"text-wpr-link\" href=\"/states/alabama\" to=\"/states/alabama\">Alabama</a></th><td class=\"text-wpr-table_text z-40 px-3 py-1.5 text-sm md:px-4\">69</td><td class=\"text-wpr-table_text z-40 px-3 py-1.5 text-sm md:px-4\">59</td></tr><tr class=\"table-row\" data-state=\"false\"><th class=\"text-wpr-table_header sticky left-0 z-50 bg-clip-padding py-1.5 pl-3 text-left align-middle text-sm md:px-4\"><a class=\"text-wpr-link\" href=\"/states/delaware\" to=\"/states/delaware\">Delaware</a></th><td class=\"text-wpr-table_text z-40 px-3 py-1.5 text-sm md:px-4\">67</td><td class=\"text-wpr-table_text z-40 px-3 py-1.5 text-sm md:px-4\">66</td></tr><tr class=\"table-row\" data-state=\"false\"><th class=\"text-wpr-table_header sticky left-0 z-50 bg-clip-padding py-1.5 pl-3 text-left align-middle text-sm md:px-4\"><a class=\"text-wpr-link\" href=\"/states/missouri\" to=\"/states/missouri\">Missouri</a></th><td class=\"text-wpr-table_text z-40 px-3 py-1.5 text-sm md:px-4\">54</td><td class=\"text-wpr-table_text z-40 px-3 py-1.5 text-sm md:px-4\">50</td></tr><tr class=\"table-row\" data-state=\"false\"><th class=\"text-wpr-table_header sticky left-0 z-50 bg-clip-padding py-1.5 pl-3 text-left align-middle text-sm md:px-4\"><a class=\"text-wpr-link\" href=\"/states/kentucky\" to=\"/states/kentucky\">Kentucky</a></th><td class=\"text-wpr-table_text z-40 px-3 py-1.5 text-sm md:px-4\">50</td><td class=\"text-wpr-table_text z-40 px-3 py-1.5 text-sm md:px-4\">41</td></tr><tr class=\"table-row\" data-state=\"false\"><th class=\"text-wpr-table_header sticky left-0 z-50 bg-clip-padding py-1.5 pl-3 text-left align-middle text-sm md:px-4\"><a class=\"text-wpr-link\" href=\"/states/vermont\" to=\"/states/vermont\">Vermont</a></th><td class=\"text-wpr-table_text z-40 px-3 py-1.5 text-sm md:px-4\">50</td><td class=\"text-wpr-table_text z-40 px-3 py-1.5 text-sm md:px-4\">49</td></tr><tr class=\"table-row\" data-state=\"false\"><th class=\"text-wpr-table_header sticky left-0 z-50 bg-clip-padding py-1.5 pl-3 text-left align-middle text-sm md:px-4\"><a class=\"text-wpr-link\" href=\"/states/colorado\" to=\"/states/colorado\">Colorado</a></th><td class=\"text-wpr-table_text z-40 px-3 py-1.5 text-sm md:px-4\">48</td><td class=\"text-wpr-table_text z-40 px-3 py-1.5 text-sm md:px-4\">43</td></tr><tr class=\"table-row\" data-state=\"false\"><th class=\"text-wpr-table_header sticky left-0 z-50 bg-clip-padding py-1.5 pl-3 text-left align-middle text-sm md:px-4\"><a class=\"text-wpr-link\" href=\"/states/nevada\" to=\"/states/nevada\">Nevada</a></th><td class=\"text-wpr-table_text z-40 px-3 py-1.5 text-sm md:px-4\">42</td><td class=\"text-wpr-table_text z-40 px-3 py-1.5 text-sm md:px-4\">38</td></tr><tr class=\"table-row\" data-state=\"false\"><th class=\"text-wpr-table_header sticky left-0 z-50 bg-clip-padding py-1.5 pl-3 text-left align-middle text-sm md:px-4\"><a class=\"text-wpr-link\" href=\"/states/minnesota\" to=\"/states/minnesota\">Minnesota</a></th><td class=\"text-wpr-table_text z-40 px-3 py-1.5 text-sm md:px-4\">38</td><td class=\"text-wpr-table_text z-40 px-3 py-1.5 text-sm md:px-4\">34</td></tr><tr class=\"table-row\" data-state=\"false\"><th class=\"text-wpr-table_header sticky left-0 z-50 bg-clip-padding py-1.5 pl-3 text-left align-middle text-sm md:px-4\"><a class=\"text-wpr-link\" href=\"/states/iowa\" to=\"/states/iowa\">Iowa</a></th><td class=\"text-wpr-table_text z-40 px-3 py-1.5 text-sm md:px-4\">36</td><td class=\"text-wpr-table_text z-40 px-3 py-1.5 text-sm md:px-4\">34</td></tr><tr class=\"table-row\" data-state=\"false\"><th class=\"text-wpr-table_header sticky left-0 z-50 bg-clip-padding py-1.5 pl-3 text-left align-middle text-sm md:px-4\"><a class=\"text-wpr-link\" href=\"/states/west-virginia\" to=\"/states/west-virginia\">West Virginia</a></th><td class=\"text-wpr-table_text z-40 px-3 py-1.5 text-sm md:px-4\">31</td><td class=\"text-wpr-table_text z-40 px-3 py-1.5 text-sm md:px-4\">27</td></tr><tr class=\"table-row\" data-state=\"false\"><th class=\"text-wpr-table_header sticky left-0 z-50 bg-clip-padding py-1.5 pl-3 text-left align-middle text-sm md:px-4\"><a class=\"text-wpr-link\" href=\"/states/kansas\" to=\"/states/kansas\">Kansas</a></th><td class=\"text-wpr-table_text z-40 px-3 py-1.5 text-sm md:px-4\">26</td><td class=\"text-wpr-table_text z-40 px-3 py-1.5 text-sm md:px-4\">28</td></tr><tr class=\"table-row\" data-state=\"false\"><th class=\"text-wpr-table_header sticky left-0 z-50 bg-clip-padding py-1.5 pl-3 text-left align-middle text-sm md:px-4\"><a class=\"text-wpr-link\" href=\"/states/nebraska\" to=\"/states/nebraska\">Nebraska</a></th><td class=\"text-wpr-table_text z-40 px-3 py-1.5 text-sm md:px-4\">24</td><td class=\"text-wpr-table_text z-40 px-3 py-1.5 text-sm md:px-4\">23</td></tr><tr class=\"table-row\" data-state=\"false\"><th class=\"text-wpr-table_header sticky left-0 z-50 bg-clip-padding py-1.5 pl-3 text-left align-middle text-sm md:px-4\"><a class=\"text-wpr-link\" href=\"/states/oklahoma\" to=\"/states/oklahoma\">Oklahoma</a></th><td class=\"text-wpr-table_text z-40 px-3 py-1.5 text-sm md:px-4\">23</td><td class=\"text-wpr-table_text z-40 px-3 py-1.5 text-sm md:px-4\">18</td></tr><tr class=\"table-row\" data-state=\"false\"><th class=\"text-wpr-table_header sticky left-0 z-50 bg-clip-padding py-1.5 pl-3 text-left align-middle text-sm md:px-4\"><a class=\"text-wpr-link\" href=\"/states/district-of-columbia\" to=\"/states/district-of-columbia\">District of Columbia</a></th><td class=\"text-wpr-table_text z-40 px-3 py-1.5 text-sm md:px-4\">19</td><td class=\"text-wpr-table_text z-40 px-3 py-1.5 text-sm md:px-4\"></td></tr><tr class=\"table-row\" data-state=\"false\"><th class=\"text-wpr-table_header sticky left-0 z-50 bg-clip-padding py-1.5 pl-3 text-left align-middle text-sm md:px-4\"><a class=\"text-wpr-link\" href=\"/states/new-mexico\" to=\"/states/new-mexico\">New Mexico</a></th><td class=\"text-wpr-table_text z-40 px-3 py-1.5 text-sm md:px-4\">19</td><td class=\"text-wpr-table_text z-40 px-3 py-1.5 text-sm md:px-4\">19</td></tr><tr class=\"table-row\" data-state=\"false\"><th class=\"text-wpr-table_header sticky left-0 z-50 bg-clip-padding py-1.5 pl-3 text-left align-middle text-sm md:px-4\"><a class=\"text-wpr-link\" href=\"/states/louisiana\" to=\"/states/louisiana\">Louisiana</a></th><td class=\"text-wpr-table_text z-40 px-3 py-1.5 text-sm md:px-4\">15</td><td class=\"text-wpr-table_text z-40 px-3 py-1.5 text-sm md:px-4\">16</td></tr><tr class=\"table-row\" data-state=\"false\"><th class=\"text-wpr-table_header sticky left-0 z-50 bg-clip-padding py-1.5 pl-3 text-left align-middle text-sm md:px-4\"><a class=\"text-wpr-link\" href=\"/states/arkansas\" to=\"/states/arkansas\">Arkansas</a></th><td class=\"text-wpr-table_text z-40 px-3 py-1.5 text-sm md:px-4\">14</td><td class=\"text-wpr-table_text z-40 px-3 py-1.5 text-sm md:px-4\">9</td></tr><tr class=\"table-row\" data-state=\"false\"><th class=\"text-wpr-table_header sticky left-0 z-50 bg-clip-padding py-1.5 pl-3 text-left align-middle text-sm md:px-4\"><a class=\"text-wpr-link\" href=\"/states/mississippi\" to=\"/states/mississippi\">Mississippi</a></th><td class=\"text-wpr-table_text z-40 px-3 py-1.5 text-sm md:px-4\">14</td><td class=\"text-wpr-table_text z-40 px-3 py-1.5 text-sm md:px-4\">12</td></tr><tr class=\"table-row\" data-state=\"false\"><th class=\"text-wpr-table_header sticky left-0 z-50 bg-clip-padding py-1.5 pl-3 text-left align-middle text-sm md:px-4\"><a class=\"text-wpr-link\" href=\"/states/hawaii\" to=\"/states/hawaii\">Hawaii</a></th><td class=\"text-wpr-table_text z-40 px-3 py-1.5 text-sm md:px-4\">6</td><td class=\"text-wpr-table_text z-40 px-3 py-1.5 text-sm md:px-4\">6</td></tr><tr class=\"table-row\" data-state=\"false\"><th class=\"text-wpr-table_header sticky left-0 z-50 bg-clip-padding py-1.5 pl-3 text-left align-middle text-sm md:px-4\"><a class=\"text-wpr-link\" href=\"/states/utah\" to=\"/states/utah\">Utah</a></th><td class=\"text-wpr-table_text z-40 px-3 py-1.5 text-sm md:px-4\">2</td><td class=\"text-wpr-table_text z-40 px-3 py-1.5 text-sm md:px-4\">1</td></tr><tr class=\"table-row\" data-state=\"false\"><th class=\"text-wpr-table_header sticky left-0 z-50 bg-clip-padding py-1.5 pl-3 text-left align-middle text-sm md:px-4\"><a class=\"text-wpr-link\" href=\"/states/wyoming\" to=\"/states/wyoming\">Wyoming</a></th><td class=\"text-wpr-table_text z-40 px-3 py-1.5 text-sm md:px-4\">1</td><td class=\"text-wpr-table_text z-40 px-3 py-1.5 text-sm md:px-4\">1</td></tr><tr class=\"table-row\" data-state=\"false\"><th class=\"text-wpr-table_header sticky left-0 z-50 bg-clip-padding py-1.5 pl-3 text-left align-middle text-sm md:px-4\"><a class=\"text-wpr-link\" href=\"/states/alaska\" to=\"/states/alaska\">Alaska</a></th><td class=\"text-wpr-table_text z-40 px-3 py-1.5 text-sm md:px-4\">0</td><td class=\"text-wpr-table_text z-40 px-3 py-1.5 text-sm md:px-4\">0</td></tr><tr class=\"table-row\" data-state=\"false\"><th class=\"text-wpr-table_header sticky left-0 z-50 bg-clip-padding py-1.5 pl-3 text-left align-middle text-sm md:px-4\"><a class=\"text-wpr-link\" href=\"/states/idaho\" to=\"/states/idaho\">Idaho</a></th><td class=\"text-wpr-table_text z-40 px-3 py-1.5 text-sm md:px-4\">0</td><td class=\"text-wpr-table_text z-40 px-3 py-1.5 text-sm md:px-4\">0</td></tr><tr class=\"table-row\" data-state=\"false\"><th class=\"text-wpr-table_header sticky left-0 z-50 bg-clip-padding py-1.5 pl-3 text-left align-middle text-sm md:px-4\"><a class=\"text-wpr-link\" href=\"/states/montana\" to=\"/states/montana\">Montana</a></th><td class=\"text-wpr-table_text z-40 px-3 py-1.5 text-sm md:px-4\">0</td><td class=\"text-wpr-table_text z-40 px-3 py-1.5 text-sm md:px-4\">0</td></tr><tr class=\"table-row\" data-state=\"false\"><th class=\"text-wpr-table_header sticky left-0 z-50 bg-clip-padding py-1.5 pl-3 text-left align-middle text-sm md:px-4\"><a class=\"text-wpr-link\" href=\"/states/north-dakota\" to=\"/states/north-dakota\">North Dakota</a></th><td class=\"text-wpr-table_text z-40 px-3 py-1.5 text-sm md:px-4\">0</td><td class=\"text-wpr-table_text z-40 px-3 py-1.5 text-sm md:px-4\">0</td></tr><tr class=\"table-row\" data-state=\"false\"><th class=\"text-wpr-table_header sticky left-0 z-50 bg-clip-padding py-1.5 pl-3 text-left align-middle text-sm md:px-4\"><a class=\"text-wpr-link\" href=\"/states/oregon\" to=\"/states/oregon\">Oregon</a></th><td class=\"text-wpr-table_text z-40 px-3 py-1.5 text-sm md:px-4\">0</td><td class=\"text-wpr-table_text z-40 px-3 py-1.5 text-sm md:px-4\">0</td></tr><tr class=\"table-row\" data-state=\"false\"><th class=\"text-wpr-table_header sticky left-0 z-50 bg-clip-padding py-1.5 pl-3 text-left align-middle text-sm md:px-4\"><a class=\"text-wpr-link\" href=\"/states/south-dakota\" to=\"/states/south-dakota\">South Dakota</a></th><td class=\"text-wpr-table_text z-40 px-3 py-1.5 text-sm md:px-4\">0</td><td class=\"text-wpr-table_text z-40 px-3 py-1.5 text-sm md:px-4\">0</td></tr><tr class=\"table-row\" data-state=\"false\"><th class=\"text-wpr-table_header sticky left-0 z-50 bg-clip-padding py-1.5 pl-3 text-left align-middle text-sm md:px-4\"><a class=\"text-wpr-link\" href=\"/states/washington\" to=\"/states/washington\">Washington</a></th><td class=\"text-wpr-table_text z-40 px-3 py-1.5 text-sm md:px-4\">0</td><td class=\"text-wpr-table_text z-40 px-3 py-1.5 text-sm md:px-4\">19</td></tr></tbody></table>"
      ]
     },
     "execution_count": null,
     "metadata": {},
     "output_type": "execute_result"
    }
   ],
   "source": [
    "dunkin_table = dunkin_soup.find_all(\"table\")[0]\n",
    "dunkin_table"
   ]
  },
  {
   "cell_type": "code",
   "execution_count": 137,
   "metadata": {},
   "outputs": [],
   "source": [
    "dunkin_rows = []\n",
    "\n",
    "# iterate over all rows in the faculty table\n",
    "for row in dunkin_table.find_all(\"tr\")[1:]:\n",
    "\n",
    "    # The information we need is the text between tags.\n",
    "\n",
    "    state_tag = row.find(\"th\")\n",
    "    state = state_tag.text\n",
    "\n",
    "    store_tag = row.find(\"td\")\n",
    "    store = store_tag.text\n",
    "\n",
    "    # Append this data.\n",
    "    dunkin_rows.append({\n",
    "        \"state\": state,\n",
    "        \"dunkin_store_2023\": store\n",
    "    })"
   ]
  },
  {
   "cell_type": "code",
   "execution_count": 138,
   "metadata": {},
   "outputs": [],
   "source": [
    "dunkin_df = pd.DataFrame(dunkin_rows)"
   ]
  },
  {
   "cell_type": "code",
   "execution_count": 139,
   "metadata": {},
   "outputs": [],
   "source": [
    "coffee_df = pd.merge(bux_df, dunkin_df, how=\"inner\", on=\"state\")"
   ]
  },
  {
   "cell_type": "code",
   "execution_count": 140,
   "metadata": {},
   "outputs": [],
   "source": [
    "pop_response = requests.get(\"https://simple.wikipedia.org/wiki/List_of_U.S._states_by_population\")"
   ]
  },
  {
   "cell_type": "code",
   "execution_count": 141,
   "metadata": {},
   "outputs": [],
   "source": [
    "pop_soup = BeautifulSoup(pop_response.content, \"html.parser\")"
   ]
  },
  {
   "cell_type": "code",
   "execution_count": 142,
   "metadata": {},
   "outputs": [],
   "source": [
    "pop_table = pop_soup.find_all(\"table\")[0]"
   ]
  },
  {
   "cell_type": "code",
   "execution_count": 145,
   "metadata": {},
   "outputs": [],
   "source": [
    "pop_rows = []\n",
    "\n",
    "# iterate over all rows in the faculty table\n",
    "for row in pop_table.find_all(\"tr\")[1:]:\n",
    "\n",
    "    # Get all the cells (<td>) in the row.\n",
    "    cells = row.find_all(\"td\")\n",
    "\n",
    "    # The information we need is the text between tags.\n",
    "\n",
    "    state_tag = cells[2].find(\"strong\") or cells[2]\n",
    "    state = state_tag.get_text(strip=True)\n",
    "\n",
    "    pop_tag = cells[3].find(\"strong\") or cells[3]\n",
    "    pop = pop_tag.get_text(strip=True)\n",
    "\n",
    "    # Append this data.\n",
    "    pop_rows.append({\n",
    "        \"state\": state,\n",
    "        \"pop_2020\": pop\n",
    "    })"
   ]
  },
  {
   "cell_type": "code",
   "execution_count": 151,
   "metadata": {},
   "outputs": [],
   "source": [
    "pop_df = pd.DataFrame(pop_rows)\n",
    "coffee_df = pd.merge(coffee_df, pop_df, how=\"inner\")"
   ]
  },
  {
   "cell_type": "code",
   "execution_count": 196,
   "metadata": {},
   "outputs": [],
   "source": [
    "bux_stock = 96.83\n",
    "dunk_stock = 106.48\n",
    "\n",
    "coffee_df[\"starbucks_stock\"] = bux_stock\n",
    "coffee_df[\"dunkin_stock\"] = dunk_stock"
   ]
  },
  {
   "cell_type": "code",
   "execution_count": 205,
   "metadata": {},
   "outputs": [],
   "source": [
    "state_to_region = {\n",
    "    \"Connecticut\": \"Northeast\", \"Maine\": \"Northeast\", \"Massachusetts\": \"Northeast\",\n",
    "    \"New Hampshire\": \"Northeast\", \"Rhode Island\": \"Northeast\", \"Vermont\": \"Northeast\",\n",
    "    \"New Jersey\": \"Northeast\", \"New York\": \"Northeast\", \"Pennsylvania\": \"Northeast\",\n",
    "    \n",
    "    \"Illinois\": \"Midwest\", \"Indiana\": \"Midwest\", \"Michigan\": \"Midwest\", \n",
    "    \"Ohio\": \"Midwest\", \"Wisconsin\": \"Midwest\", \"Iowa\": \"Midwest\", \n",
    "    \"Kansas\": \"Midwest\", \"Minnesota\": \"Midwest\", \"Missouri\": \"Midwest\", \n",
    "    \"Nebraska\": \"Midwest\", \"North Dakota\": \"Midwest\", \"South Dakota\": \"Midwest\",\n",
    "    \n",
    "    \"Delaware\": \"South\", \"Florida\": \"South\", \"Georgia\": \"South\",\n",
    "    \"Maryland\": \"South\", \"North Carolina\": \"South\", \"South Carolina\": \"South\",\n",
    "    \"Virginia\": \"South\", \"Washington, D.C.\": \"South\", \"West Virginia\": \"South\",\n",
    "    \"Alabama\": \"South\", \"Kentucky\": \"South\", \"Mississippi\": \"South\", \n",
    "    \"Tennessee\": \"South\", \"Arkansas\": \"South\", \"Louisiana\": \"South\", \n",
    "    \"Oklahoma\": \"South\", \"Texas\": \"South\",\n",
    "    \n",
    "    \"Arizona\": \"West\", \"Colorado\": \"West\", \"Idaho\": \"West\", \n",
    "    \"Montana\": \"West\", \"Nevada\": \"West\", \"New Mexico\": \"West\", \n",
    "    \"Utah\": \"West\", \"Wyoming\": \"West\", \"Alaska\": \"West\", \n",
    "    \"California\": \"West\", \"Hawaii\": \"West\", \"Oregon\": \"West\", \n",
    "    \"Washington\": \"West\"\n",
    "}\n",
    "\n",
    "coffee_df[\"region\"] = coffee_df[\"state\"].map(state_to_region)"
   ]
  },
  {
   "cell_type": "code",
   "execution_count": 220,
   "metadata": {},
   "outputs": [],
   "source": [
    "def webscrape_company(url):\n",
    "    \"\"\"\n",
    "    \"\"\"\n",
    "    response = requests.get(url)\n",
    "    soup = BeautifulSoup(response.content, \"html.parser\")\n",
    "    table = soup.find_all(\"table\")[0]\n",
    "\n",
    "    rows = []\n",
    "\n",
    "    for row in table.find_all(\"tr\")[1:]:\n",
    "\n",
    "        state_tag = row.find(\"th\")\n",
    "        state = state_tag.text\n",
    "\n",
    "        store_tag = row.find(\"td\")\n",
    "        store = store_tag.text\n",
    "\n",
    "        rows.append({\n",
    "            \"state\": state,\n",
    "            \"stores\": store\n",
    "    })\n",
    "\n",
    "    return pd.DataFrame(rows)"
   ]
  },
  {
   "cell_type": "code",
   "execution_count": 223,
   "metadata": {},
   "outputs": [
    {
     "data": {
      "text/html": [
       "<div>\n",
       "<style scoped>\n",
       "    .dataframe tbody tr th:only-of-type {\n",
       "        vertical-align: middle;\n",
       "    }\n",
       "\n",
       "    .dataframe tbody tr th {\n",
       "        vertical-align: top;\n",
       "    }\n",
       "\n",
       "    .dataframe thead th {\n",
       "        text-align: right;\n",
       "    }\n",
       "</style>\n",
       "<table border=\"1\" class=\"dataframe\">\n",
       "  <thead>\n",
       "    <tr style=\"text-align: right;\">\n",
       "      <th></th>\n",
       "      <th>state</th>\n",
       "      <th>stores</th>\n",
       "    </tr>\n",
       "  </thead>\n",
       "  <tbody>\n",
       "    <tr>\n",
       "      <th>0</th>\n",
       "      <td>Texas</td>\n",
       "      <td>517</td>\n",
       "    </tr>\n",
       "    <tr>\n",
       "      <th>1</th>\n",
       "      <td>Florida</td>\n",
       "      <td>341</td>\n",
       "    </tr>\n",
       "    <tr>\n",
       "      <th>2</th>\n",
       "      <td>California</td>\n",
       "      <td>280</td>\n",
       "    </tr>\n",
       "    <tr>\n",
       "      <th>3</th>\n",
       "      <td>North Carolina</td>\n",
       "      <td>192</td>\n",
       "    </tr>\n",
       "    <tr>\n",
       "      <th>4</th>\n",
       "      <td>Georgia</td>\n",
       "      <td>189</td>\n",
       "    </tr>\n",
       "    <tr>\n",
       "      <th>5</th>\n",
       "      <td>Illinois</td>\n",
       "      <td>161</td>\n",
       "    </tr>\n",
       "    <tr>\n",
       "      <th>6</th>\n",
       "      <td>Ohio</td>\n",
       "      <td>146</td>\n",
       "    </tr>\n",
       "    <tr>\n",
       "      <th>7</th>\n",
       "      <td>Missouri</td>\n",
       "      <td>137</td>\n",
       "    </tr>\n",
       "    <tr>\n",
       "      <th>8</th>\n",
       "      <td>Tennessee</td>\n",
       "      <td>137</td>\n",
       "    </tr>\n",
       "    <tr>\n",
       "      <th>9</th>\n",
       "      <td>Pennsylvania</td>\n",
       "      <td>134</td>\n",
       "    </tr>\n",
       "    <tr>\n",
       "      <th>10</th>\n",
       "      <td>Virginia</td>\n",
       "      <td>134</td>\n",
       "    </tr>\n",
       "    <tr>\n",
       "      <th>11</th>\n",
       "      <td>Alabama</td>\n",
       "      <td>131</td>\n",
       "    </tr>\n",
       "    <tr>\n",
       "      <th>12</th>\n",
       "      <td>Oklahoma</td>\n",
       "      <td>122</td>\n",
       "    </tr>\n",
       "    <tr>\n",
       "      <th>13</th>\n",
       "      <td>Arkansas</td>\n",
       "      <td>120</td>\n",
       "    </tr>\n",
       "    <tr>\n",
       "      <th>14</th>\n",
       "      <td>Louisiana</td>\n",
       "      <td>116</td>\n",
       "    </tr>\n",
       "    <tr>\n",
       "      <th>15</th>\n",
       "      <td>Indiana</td>\n",
       "      <td>113</td>\n",
       "    </tr>\n",
       "    <tr>\n",
       "      <th>16</th>\n",
       "      <td>Arizona</td>\n",
       "      <td>112</td>\n",
       "    </tr>\n",
       "    <tr>\n",
       "      <th>17</th>\n",
       "      <td>South Carolina</td>\n",
       "      <td>110</td>\n",
       "    </tr>\n",
       "    <tr>\n",
       "      <th>18</th>\n",
       "      <td>New York</td>\n",
       "      <td>98</td>\n",
       "    </tr>\n",
       "    <tr>\n",
       "      <th>19</th>\n",
       "      <td>Michigan</td>\n",
       "      <td>94</td>\n",
       "    </tr>\n",
       "    <tr>\n",
       "      <th>20</th>\n",
       "      <td>Kentucky</td>\n",
       "      <td>93</td>\n",
       "    </tr>\n",
       "    <tr>\n",
       "      <th>21</th>\n",
       "      <td>Wisconsin</td>\n",
       "      <td>89</td>\n",
       "    </tr>\n",
       "    <tr>\n",
       "      <th>22</th>\n",
       "      <td>Colorado</td>\n",
       "      <td>88</td>\n",
       "    </tr>\n",
       "    <tr>\n",
       "      <th>23</th>\n",
       "      <td>Mississippi</td>\n",
       "      <td>78</td>\n",
       "    </tr>\n",
       "    <tr>\n",
       "      <th>24</th>\n",
       "      <td>Kansas</td>\n",
       "      <td>74</td>\n",
       "    </tr>\n",
       "    <tr>\n",
       "      <th>25</th>\n",
       "      <td>Minnesota</td>\n",
       "      <td>68</td>\n",
       "    </tr>\n",
       "    <tr>\n",
       "      <th>26</th>\n",
       "      <td>Washington</td>\n",
       "      <td>66</td>\n",
       "    </tr>\n",
       "    <tr>\n",
       "      <th>27</th>\n",
       "      <td>New Jersey</td>\n",
       "      <td>62</td>\n",
       "    </tr>\n",
       "    <tr>\n",
       "      <th>28</th>\n",
       "      <td>Iowa</td>\n",
       "      <td>60</td>\n",
       "    </tr>\n",
       "    <tr>\n",
       "      <th>29</th>\n",
       "      <td>Utah</td>\n",
       "      <td>53</td>\n",
       "    </tr>\n",
       "    <tr>\n",
       "      <th>30</th>\n",
       "      <td>Maryland</td>\n",
       "      <td>48</td>\n",
       "    </tr>\n",
       "    <tr>\n",
       "      <th>31</th>\n",
       "      <td>Massachusetts</td>\n",
       "      <td>48</td>\n",
       "    </tr>\n",
       "    <tr>\n",
       "      <th>32</th>\n",
       "      <td>New Mexico</td>\n",
       "      <td>46</td>\n",
       "    </tr>\n",
       "    <tr>\n",
       "      <th>33</th>\n",
       "      <td>Oregon</td>\n",
       "      <td>45</td>\n",
       "    </tr>\n",
       "    <tr>\n",
       "      <th>34</th>\n",
       "      <td>Nevada</td>\n",
       "      <td>43</td>\n",
       "    </tr>\n",
       "    <tr>\n",
       "      <th>35</th>\n",
       "      <td>Nebraska</td>\n",
       "      <td>42</td>\n",
       "    </tr>\n",
       "    <tr>\n",
       "      <th>36</th>\n",
       "      <td>West Virginia</td>\n",
       "      <td>39</td>\n",
       "    </tr>\n",
       "    <tr>\n",
       "      <th>37</th>\n",
       "      <td>Connecticut</td>\n",
       "      <td>33</td>\n",
       "    </tr>\n",
       "    <tr>\n",
       "      <th>38</th>\n",
       "      <td>Idaho</td>\n",
       "      <td>26</td>\n",
       "    </tr>\n",
       "    <tr>\n",
       "      <th>39</th>\n",
       "      <td>New Hampshire</td>\n",
       "      <td>26</td>\n",
       "    </tr>\n",
       "    <tr>\n",
       "      <th>40</th>\n",
       "      <td>Maine</td>\n",
       "      <td>22</td>\n",
       "    </tr>\n",
       "    <tr>\n",
       "      <th>41</th>\n",
       "      <td>South Dakota</td>\n",
       "      <td>15</td>\n",
       "    </tr>\n",
       "    <tr>\n",
       "      <th>42</th>\n",
       "      <td>Montana</td>\n",
       "      <td>14</td>\n",
       "    </tr>\n",
       "    <tr>\n",
       "      <th>43</th>\n",
       "      <td>North Dakota</td>\n",
       "      <td>14</td>\n",
       "    </tr>\n",
       "    <tr>\n",
       "      <th>44</th>\n",
       "      <td>Wyoming</td>\n",
       "      <td>12</td>\n",
       "    </tr>\n",
       "    <tr>\n",
       "      <th>45</th>\n",
       "      <td>Hawaii</td>\n",
       "      <td>10</td>\n",
       "    </tr>\n",
       "    <tr>\n",
       "      <th>46</th>\n",
       "      <td>Alaska</td>\n",
       "      <td>9</td>\n",
       "    </tr>\n",
       "    <tr>\n",
       "      <th>47</th>\n",
       "      <td>Rhode Island</td>\n",
       "      <td>9</td>\n",
       "    </tr>\n",
       "    <tr>\n",
       "      <th>48</th>\n",
       "      <td>Vermont</td>\n",
       "      <td>6</td>\n",
       "    </tr>\n",
       "    <tr>\n",
       "      <th>49</th>\n",
       "      <td>District of Columbia</td>\n",
       "      <td>3</td>\n",
       "    </tr>\n",
       "  </tbody>\n",
       "</table>\n",
       "</div>"
      ],
      "text/plain": [
       "                   state stores\n",
       "0                  Texas    517\n",
       "1                Florida    341\n",
       "2             California    280\n",
       "3         North Carolina    192\n",
       "4                Georgia    189\n",
       "5               Illinois    161\n",
       "6                   Ohio    146\n",
       "7               Missouri    137\n",
       "8              Tennessee    137\n",
       "9           Pennsylvania    134\n",
       "10              Virginia    134\n",
       "11               Alabama    131\n",
       "12              Oklahoma    122\n",
       "13              Arkansas    120\n",
       "14             Louisiana    116\n",
       "15               Indiana    113\n",
       "16               Arizona    112\n",
       "17        South Carolina    110\n",
       "18              New York     98\n",
       "19              Michigan     94\n",
       "20              Kentucky     93\n",
       "21             Wisconsin     89\n",
       "22              Colorado     88\n",
       "23           Mississippi     78\n",
       "24                Kansas     74\n",
       "25             Minnesota     68\n",
       "26            Washington     66\n",
       "27            New Jersey     62\n",
       "28                  Iowa     60\n",
       "29                  Utah     53\n",
       "30              Maryland     48\n",
       "31         Massachusetts     48\n",
       "32            New Mexico     46\n",
       "33                Oregon     45\n",
       "34                Nevada     43\n",
       "35              Nebraska     42\n",
       "36         West Virginia     39\n",
       "37           Connecticut     33\n",
       "38                 Idaho     26\n",
       "39         New Hampshire     26\n",
       "40                 Maine     22\n",
       "41          South Dakota     15\n",
       "42               Montana     14\n",
       "43          North Dakota     14\n",
       "44               Wyoming     12\n",
       "45                Hawaii     10\n",
       "46                Alaska      9\n",
       "47          Rhode Island      9\n",
       "48               Vermont      6\n",
       "49  District of Columbia      3"
      ]
     },
     "execution_count": null,
     "metadata": {},
     "output_type": "execute_result"
    }
   ],
   "source": [
    "walmart_df = webscrape_company(url = \"https://worldpopulationreview.com/state-rankings/walmart-stores-by-state\")\n",
    "walmart_df"
   ]
  }
 ],
 "metadata": {
  "language_info": {
   "name": "python"
  }
 },
 "nbformat": 4,
 "nbformat_minor": 2
}

{
 "cells": [
  {
   "cell_type": "raw",
   "metadata": {},
   "source": [
    "---\n",
    "title: \"Lab 6 - Baseball\"\n",
    "author: \"Roee Morag\"\n",
    "date: \"2024-11-08\"\n",
    "output: \n",
    "  html_document:\n",
    "    theme: \"cosmo\" \n",
    "embed-resources: true\n",
    "--- "
   ]
  },
  {
   "cell_type": "code",
   "execution_count": 538,
   "metadata": {
    "vscode": {
     "languageId": "python"
    }
   },
   "outputs": [],
   "source": [
    "import pandas as pd\n",
    "import numpy as np"
   ]
  },
  {
   "cell_type": "code",
   "execution_count": 539,
   "metadata": {
    "vscode": {
     "languageId": "python"
    }
   },
   "outputs": [],
   "source": [
    "import pandas as pd\n",
    "import numpy as np\n",
    "from sklearn.pipeline import Pipeline\n",
    "from sklearn.compose import make_column_selector, ColumnTransformer\n",
    "from sklearn.preprocessing import StandardScaler, OneHotEncoder, PolynomialFeatures\n",
    "from sklearn.linear_model import LinearRegression, Ridge, Lasso, ElasticNet \n",
    "from sklearn.model_selection import train_test_split, cross_val_score\n",
    "from sklearn.metrics import r2_score\n",
    "from sklearn.model_selection import GridSearchCV"
   ]
  },
  {
   "cell_type": "markdown",
   "metadata": {},
   "source": [
    "**Data Cleaning**"
   ]
  },
  {
   "cell_type": "code",
   "execution_count": 540,
   "metadata": {
    "vscode": {
     "languageId": "python"
    }
   },
   "outputs": [],
   "source": [
    "df_baseball = pd.read_csv(\"Hitters.csv\")"
   ]
  },
  {
   "cell_type": "code",
   "execution_count": 541,
   "metadata": {
    "vscode": {
     "languageId": "python"
    }
   },
   "outputs": [
    {
     "data": {
      "text/html": [
       "<div>\n",
       "<style scoped>\n",
       "    .dataframe tbody tr th:only-of-type {\n",
       "        vertical-align: middle;\n",
       "    }\n",
       "\n",
       "    .dataframe tbody tr th {\n",
       "        vertical-align: top;\n",
       "    }\n",
       "\n",
       "    .dataframe thead th {\n",
       "        text-align: right;\n",
       "    }\n",
       "</style>\n",
       "<table border=\"1\" class=\"dataframe\">\n",
       "  <thead>\n",
       "    <tr style=\"text-align: right;\">\n",
       "      <th></th>\n",
       "      <th>AtBat</th>\n",
       "      <th>Hits</th>\n",
       "      <th>HmRun</th>\n",
       "      <th>Runs</th>\n",
       "      <th>RBI</th>\n",
       "      <th>Walks</th>\n",
       "      <th>Years</th>\n",
       "      <th>CAtBat</th>\n",
       "      <th>CHits</th>\n",
       "      <th>CHmRun</th>\n",
       "      <th>CRuns</th>\n",
       "      <th>CRBI</th>\n",
       "      <th>CWalks</th>\n",
       "      <th>League</th>\n",
       "      <th>Division</th>\n",
       "      <th>PutOuts</th>\n",
       "      <th>Assists</th>\n",
       "      <th>Errors</th>\n",
       "      <th>Salary</th>\n",
       "      <th>NewLeague</th>\n",
       "    </tr>\n",
       "  </thead>\n",
       "  <tbody>\n",
       "    <tr>\n",
       "      <th>0</th>\n",
       "      <td>293</td>\n",
       "      <td>66</td>\n",
       "      <td>1</td>\n",
       "      <td>30</td>\n",
       "      <td>29</td>\n",
       "      <td>14</td>\n",
       "      <td>1</td>\n",
       "      <td>293</td>\n",
       "      <td>66</td>\n",
       "      <td>1</td>\n",
       "      <td>30</td>\n",
       "      <td>29</td>\n",
       "      <td>14</td>\n",
       "      <td>A</td>\n",
       "      <td>E</td>\n",
       "      <td>446</td>\n",
       "      <td>33</td>\n",
       "      <td>20</td>\n",
       "      <td>NaN</td>\n",
       "      <td>A</td>\n",
       "    </tr>\n",
       "    <tr>\n",
       "      <th>1</th>\n",
       "      <td>315</td>\n",
       "      <td>81</td>\n",
       "      <td>7</td>\n",
       "      <td>24</td>\n",
       "      <td>38</td>\n",
       "      <td>39</td>\n",
       "      <td>14</td>\n",
       "      <td>3449</td>\n",
       "      <td>835</td>\n",
       "      <td>69</td>\n",
       "      <td>321</td>\n",
       "      <td>414</td>\n",
       "      <td>375</td>\n",
       "      <td>N</td>\n",
       "      <td>W</td>\n",
       "      <td>632</td>\n",
       "      <td>43</td>\n",
       "      <td>10</td>\n",
       "      <td>475.0</td>\n",
       "      <td>N</td>\n",
       "    </tr>\n",
       "    <tr>\n",
       "      <th>2</th>\n",
       "      <td>479</td>\n",
       "      <td>130</td>\n",
       "      <td>18</td>\n",
       "      <td>66</td>\n",
       "      <td>72</td>\n",
       "      <td>76</td>\n",
       "      <td>3</td>\n",
       "      <td>1624</td>\n",
       "      <td>457</td>\n",
       "      <td>63</td>\n",
       "      <td>224</td>\n",
       "      <td>266</td>\n",
       "      <td>263</td>\n",
       "      <td>A</td>\n",
       "      <td>W</td>\n",
       "      <td>880</td>\n",
       "      <td>82</td>\n",
       "      <td>14</td>\n",
       "      <td>480.0</td>\n",
       "      <td>A</td>\n",
       "    </tr>\n",
       "    <tr>\n",
       "      <th>3</th>\n",
       "      <td>496</td>\n",
       "      <td>141</td>\n",
       "      <td>20</td>\n",
       "      <td>65</td>\n",
       "      <td>78</td>\n",
       "      <td>37</td>\n",
       "      <td>11</td>\n",
       "      <td>5628</td>\n",
       "      <td>1575</td>\n",
       "      <td>225</td>\n",
       "      <td>828</td>\n",
       "      <td>838</td>\n",
       "      <td>354</td>\n",
       "      <td>N</td>\n",
       "      <td>E</td>\n",
       "      <td>200</td>\n",
       "      <td>11</td>\n",
       "      <td>3</td>\n",
       "      <td>500.0</td>\n",
       "      <td>N</td>\n",
       "    </tr>\n",
       "    <tr>\n",
       "      <th>4</th>\n",
       "      <td>321</td>\n",
       "      <td>87</td>\n",
       "      <td>10</td>\n",
       "      <td>39</td>\n",
       "      <td>42</td>\n",
       "      <td>30</td>\n",
       "      <td>2</td>\n",
       "      <td>396</td>\n",
       "      <td>101</td>\n",
       "      <td>12</td>\n",
       "      <td>48</td>\n",
       "      <td>46</td>\n",
       "      <td>33</td>\n",
       "      <td>N</td>\n",
       "      <td>E</td>\n",
       "      <td>805</td>\n",
       "      <td>40</td>\n",
       "      <td>4</td>\n",
       "      <td>91.5</td>\n",
       "      <td>N</td>\n",
       "    </tr>\n",
       "  </tbody>\n",
       "</table>\n",
       "</div>"
      ],
      "text/plain": [
       "   AtBat  Hits  HmRun  Runs  RBI  ...  PutOuts  Assists  Errors  Salary  NewLeague\n",
       "0    293    66      1    30   29  ...      446       33      20     NaN          A\n",
       "1    315    81      7    24   38  ...      632       43      10   475.0          N\n",
       "2    479   130     18    66   72  ...      880       82      14   480.0          A\n",
       "3    496   141     20    65   78  ...      200       11       3   500.0          N\n",
       "4    321    87     10    39   42  ...      805       40       4    91.5          N\n",
       "\n",
       "[5 rows x 20 columns]"
      ]
     },
     "execution_count": null,
     "metadata": {},
     "output_type": "execute_result"
    }
   ],
   "source": [
    "df_baseball.head()"
   ]
  },
  {
   "cell_type": "markdown",
   "metadata": {},
   "source": [
    "We have missing data in the salary column. There are several routes we could take here. If we really prioritized each data point, and we assumed that the NAs in salary are randomly distributed in the population, we could treat the observations with missing salaries as the test data and fit the model on the other data.\n",
    "\n",
    "However, in this case, we want to tune our model using GridSearch() so we want to remove all NAs, because cross-validation uses all points from our dataset as training and test data."
   ]
  },
  {
   "cell_type": "code",
   "execution_count": 542,
   "metadata": {
    "vscode": {
     "languageId": "python"
    }
   },
   "outputs": [
    {
     "data": {
      "text/plain": [
       "59"
      ]
     },
     "execution_count": null,
     "metadata": {},
     "output_type": "execute_result"
    }
   ],
   "source": [
    "df_baseball[\"Salary\"].isna().sum()"
   ]
  },
  {
   "cell_type": "code",
   "execution_count": 543,
   "metadata": {
    "vscode": {
     "languageId": "python"
    }
   },
   "outputs": [
    {
     "data": {
      "text/plain": [
       "263"
      ]
     },
     "execution_count": null,
     "metadata": {},
     "output_type": "execute_result"
    }
   ],
   "source": [
    "# I am aware I am dropping 59 observations with dropna().\n",
    "\n",
    "df_baseball = df_baseball.dropna(subset=[\"Salary\"])\n",
    "len(df_baseball)"
   ]
  },
  {
   "cell_type": "markdown",
   "metadata": {},
   "source": [
    "**Part I: Different Model Specs**\n",
    "\n",
    "A. Regression without regularization"
   ]
  },
  {
   "cell_type": "code",
   "execution_count": 544,
   "metadata": {
    "vscode": {
     "languageId": "python"
    }
   },
   "outputs": [],
   "source": [
    "X = df_baseball.drop(\"Salary\", axis = 1)\n",
    "y = df_baseball[\"Salary\"]"
   ]
  },
  {
   "cell_type": "code",
   "execution_count": 545,
   "metadata": {
    "vscode": {
     "languageId": "python"
    }
   },
   "outputs": [],
   "source": [
    "def roee_pipeline(model=LinearRegression()):\n",
    "  \"\"\"\n",
    "  Creates a pipeline that dummifies the categorical variables and standardizes the numerical.\n",
    "  \n",
    "  Parameters\n",
    "  ----------\n",
    "  model: a sci-kit learn function\n",
    "    model specification\n",
    "    \n",
    "  Return\n",
    "  ------\n",
    "  fit pipeline\n",
    "  \"\"\"\n",
    "\n",
    "  ct = ColumnTransformer(\n",
    "    [\n",
    "      (\"dummify\", \n",
    "      OneHotEncoder(sparse_output = False, handle_unknown='ignore', drop=\"first\"),\n",
    "      make_column_selector(dtype_include=object)),\n",
    "      (\"standardize\", \n",
    "      StandardScaler(), \n",
    "      make_column_selector(dtype_include=np.number))\n",
    "    ],\n",
    "    remainder = \"drop\"\n",
    "  )\n",
    "\n",
    "  pipeline = Pipeline(\n",
    "    [(\"preprocessing\", ct),\n",
    "    (\"model\", model)])\n",
    "    \n",
    "  return pipeline"
   ]
  },
  {
   "cell_type": "code",
   "execution_count": 546,
   "metadata": {
    "vscode": {
     "languageId": "python"
    }
   },
   "outputs": [],
   "source": [
    "def get_coefficients(dataset, model=LinearRegression()):\n",
    "  \"\"\"\n",
    "  Creates a pipeline that dummifies the categorical variables and standardizes the numerical.\n",
    "  \n",
    "  Parameters\n",
    "  ----------\n",
    "  model: a sci-kit learn function\n",
    "    model specification\n",
    "    \n",
    "  Return\n",
    "  ------\n",
    "  coefficients\n",
    "  \"\"\"\n",
    "  X = dataset.drop(\"Salary\", axis = 1)\n",
    "  y = dataset[\"Salary\"]\n",
    "  \n",
    "  ct = ColumnTransformer(\n",
    "    [\n",
    "      (\"dummify\", \n",
    "      OneHotEncoder(sparse_output = False, handle_unknown='ignore', drop=\"first\"),\n",
    "      make_column_selector(dtype_include=object)),\n",
    "      (\"standardize\", \n",
    "      StandardScaler(), \n",
    "      make_column_selector(dtype_include=np.number))\n",
    "    ],\n",
    "    remainder = \"passthrough\"\n",
    "  )\n",
    "\n",
    "  pipeline = Pipeline(\n",
    "    [(\"preprocessing\", ct),\n",
    "    (\"model\", model)]).set_output(transform=\"pandas\")\n",
    "\n",
    "  pipeline_fit = pipeline.fit(X, y)\n",
    "  coefficients = pipeline.named_steps['model'].coef_\n",
    "  var_names = ct.fit_transform(X).columns\n",
    "\n",
    "  df_coef = pd.DataFrame({\n",
    "    \"Predictor\": var_names,\n",
    "    \"Coefficient\": coefficients\n",
    "  }).sort_values(by=\"Coefficient\", ascending=False)\n",
    "\n",
    "  return df_coef"
   ]
  },
  {
   "cell_type": "code",
   "execution_count": 547,
   "metadata": {
    "vscode": {
     "languageId": "python"
    }
   },
   "outputs": [
    {
     "data": {
      "text/html": [
       "<div>\n",
       "<style scoped>\n",
       "    .dataframe tbody tr th:only-of-type {\n",
       "        vertical-align: middle;\n",
       "    }\n",
       "\n",
       "    .dataframe tbody tr th {\n",
       "        vertical-align: top;\n",
       "    }\n",
       "\n",
       "    .dataframe thead th {\n",
       "        text-align: right;\n",
       "    }\n",
       "</style>\n",
       "<table border=\"1\" class=\"dataframe\">\n",
       "  <thead>\n",
       "    <tr style=\"text-align: right;\">\n",
       "      <th></th>\n",
       "      <th>Predictor</th>\n",
       "      <th>Coefficient</th>\n",
       "    </tr>\n",
       "  </thead>\n",
       "  <tbody>\n",
       "    <tr>\n",
       "      <th>13</th>\n",
       "      <td>standardize__CRuns</td>\n",
       "      <td>480.747135</td>\n",
       "    </tr>\n",
       "    <tr>\n",
       "      <th>4</th>\n",
       "      <td>standardize__Hits</td>\n",
       "      <td>337.830479</td>\n",
       "    </tr>\n",
       "    <tr>\n",
       "      <th>14</th>\n",
       "      <td>standardize__CRBI</td>\n",
       "      <td>260.689886</td>\n",
       "    </tr>\n",
       "  </tbody>\n",
       "</table>\n",
       "</div>"
      ],
      "text/plain": [
       "             Predictor  Coefficient\n",
       "13  standardize__CRuns   480.747135\n",
       "4    standardize__Hits   337.830479\n",
       "14   standardize__CRBI   260.689886"
      ]
     },
     "execution_count": null,
     "metadata": {},
     "output_type": "execute_result"
    }
   ],
   "source": [
    "get_coefficients(dataset=df_baseball).head(n=3)"
   ]
  },
  {
   "cell_type": "code",
   "execution_count": 548,
   "metadata": {
    "vscode": {
     "languageId": "python"
    }
   },
   "outputs": [
    {
     "data": {
      "text/plain": [
       "331.19857059564885"
      ]
     },
     "execution_count": null,
     "metadata": {},
     "output_type": "execute_result"
    }
   ],
   "source": [
    "df_baseball[\"CRuns\"].std()"
   ]
  },
  {
   "cell_type": "code",
   "execution_count": 549,
   "metadata": {
    "vscode": {
     "languageId": "python"
    }
   },
   "outputs": [
    {
     "data": {
      "text/plain": [
       "45.12532592258135"
      ]
     },
     "execution_count": null,
     "metadata": {},
     "output_type": "execute_result"
    }
   ],
   "source": [
    "df_baseball[\"Hits\"].std()"
   ]
  },
  {
   "cell_type": "code",
   "execution_count": 550,
   "metadata": {
    "vscode": {
     "languageId": "python"
    }
   },
   "outputs": [
    {
     "data": {
      "text/plain": [
       "323.3676681827309"
      ]
     },
     "execution_count": null,
     "metadata": {},
     "output_type": "execute_result"
    }
   ],
   "source": [
    "df_baseball[\"CRBI\"].std()"
   ]
  },
  {
   "cell_type": "markdown",
   "metadata": {},
   "source": [
    "Career runs, hits in the previous season, and career RBIs are the most significant coefficients by magnitude. \n",
    "\n",
    "One standard deviation increase in career runs, 331, is associated with an average increase of $480,000 in salary, holding all other variables constant.\n",
    "\n",
    "One standard deviation increase in hits from the previous season, 45, is associated with an average increase of $337,000 in salary, holding all other variables constant.\n",
    "\n",
    "One standard deviation increase in career RBIs, 323, is associated with an average increase of $260,000 in salary, holding all other variables constant."
   ]
  },
  {
   "cell_type": "code",
   "execution_count": 551,
   "metadata": {
    "vscode": {
     "languageId": "python"
    }
   },
   "outputs": [
    {
     "data": {
      "text/plain": [
       "121136.31031816879"
      ]
     },
     "execution_count": null,
     "metadata": {},
     "output_type": "execute_result"
    }
   ],
   "source": [
    "linear_pipeline = roee_pipeline()\n",
    "cross_val_score(linear_pipeline, X, y, cv = 5, scoring = \"neg_mean_squared_error\").mean() * -1"
   ]
  },
  {
   "cell_type": "markdown",
   "metadata": {},
   "source": [
    "B. Ridge Regression"
   ]
  },
  {
   "cell_type": "code",
   "execution_count": 552,
   "metadata": {
    "vscode": {
     "languageId": "python"
    }
   },
   "outputs": [],
   "source": [
    "def grid_search_df(dataset, pipeline, model = \"ridge\"):\n",
    "  \"\"\"\n",
    "  Tunes the model and outputs a Data Frame\n",
    "  \n",
    "  Parameters\n",
    "  ----------\n",
    "  pipeline: a sci-kit learn Pipeline object\n",
    "  \n",
    "  model: str\n",
    "  can be \"linear\", \"ridge\", \"lasso\", \"elastic\"\n",
    "\n",
    "  dataset: pandas Data Frame\n",
    "    \n",
    "  Return\n",
    "  ------\n",
    "  coefficients\n",
    "  \"\"\"\n",
    "  X = dataset.drop(\"Salary\", axis = 1)\n",
    "  y = dataset[\"Salary\"]\n",
    "\n",
    "  if model == \"elastic\":\n",
    "    alphas = {\n",
    "    'model__l1_ratio': [0.2, 0.4, 0.6, 0.8],\n",
    "    'model__alpha': [0.01, 0.1, 1, 10]\n",
    "    }\n",
    "  \n",
    "  else:\n",
    "    alphas = {\n",
    "    'model__alpha': [0.001, 0.01, 0.1, 1, 10]\n",
    "    }\n",
    "\n",
    "  gscv = GridSearchCV(pipeline, alphas, cv=5, scoring='neg_mean_squared_error')\n",
    "\n",
    "  gscv_fitted = gscv.fit(X, y)\n",
    "\n",
    "  params_df = pd.DataFrame(gscv_fitted.cv_results_[\"params\"])\n",
    "  results_df = params_df.assign(scores=gscv_fitted.cv_results_[\"mean_test_score\"])\n",
    "\n",
    "  results_df[\"scores\"] = results_df[\"scores\"] * -1\n",
    "  return results_df.sort_values(by=\"scores\", ascending=True)"
   ]
  },
  {
   "cell_type": "code",
   "execution_count": 553,
   "metadata": {
    "vscode": {
     "languageId": "python"
    }
   },
   "outputs": [
    {
     "data": {
      "text/html": [
       "<div>\n",
       "<style scoped>\n",
       "    .dataframe tbody tr th:only-of-type {\n",
       "        vertical-align: middle;\n",
       "    }\n",
       "\n",
       "    .dataframe tbody tr th {\n",
       "        vertical-align: top;\n",
       "    }\n",
       "\n",
       "    .dataframe thead th {\n",
       "        text-align: right;\n",
       "    }\n",
       "</style>\n",
       "<table border=\"1\" class=\"dataframe\">\n",
       "  <thead>\n",
       "    <tr style=\"text-align: right;\">\n",
       "      <th></th>\n",
       "      <th>model__alpha</th>\n",
       "      <th>scores</th>\n",
       "    </tr>\n",
       "  </thead>\n",
       "  <tbody>\n",
       "    <tr>\n",
       "      <th>3</th>\n",
       "      <td>1.000</td>\n",
       "      <td>119034.332720</td>\n",
       "    </tr>\n",
       "    <tr>\n",
       "      <th>4</th>\n",
       "      <td>10.000</td>\n",
       "      <td>119073.956166</td>\n",
       "    </tr>\n",
       "    <tr>\n",
       "      <th>2</th>\n",
       "      <td>0.100</td>\n",
       "      <td>120329.936014</td>\n",
       "    </tr>\n",
       "    <tr>\n",
       "      <th>1</th>\n",
       "      <td>0.010</td>\n",
       "      <td>121021.508944</td>\n",
       "    </tr>\n",
       "    <tr>\n",
       "      <th>0</th>\n",
       "      <td>0.001</td>\n",
       "      <td>121124.318914</td>\n",
       "    </tr>\n",
       "  </tbody>\n",
       "</table>\n",
       "</div>"
      ],
      "text/plain": [
       "   model__alpha         scores\n",
       "3         1.000  119034.332720\n",
       "4        10.000  119073.956166\n",
       "2         0.100  120329.936014\n",
       "1         0.010  121021.508944\n",
       "0         0.001  121124.318914"
      ]
     },
     "execution_count": null,
     "metadata": {},
     "output_type": "execute_result"
    }
   ],
   "source": [
    "ridge_pipeline = roee_pipeline(model=Ridge())\n",
    "df_tuned_ridge = grid_search_df(pipeline=ridge_pipeline, model=\"ridge\", dataset=df_baseball)\n",
    "df_tuned_ridge"
   ]
  },
  {
   "cell_type": "markdown",
   "metadata": {},
   "source": [
    "2. The chosen lambda is 1."
   ]
  },
  {
   "cell_type": "code",
   "execution_count": 554,
   "metadata": {
    "vscode": {
     "languageId": "python"
    }
   },
   "outputs": [
    {
     "data": {
      "text/html": [
       "<div>\n",
       "<style scoped>\n",
       "    .dataframe tbody tr th:only-of-type {\n",
       "        vertical-align: middle;\n",
       "    }\n",
       "\n",
       "    .dataframe tbody tr th {\n",
       "        vertical-align: top;\n",
       "    }\n",
       "\n",
       "    .dataframe thead th {\n",
       "        text-align: right;\n",
       "    }\n",
       "</style>\n",
       "<table border=\"1\" class=\"dataframe\">\n",
       "  <thead>\n",
       "    <tr style=\"text-align: right;\">\n",
       "      <th></th>\n",
       "      <th>Predictor</th>\n",
       "      <th>Coefficient</th>\n",
       "    </tr>\n",
       "  </thead>\n",
       "  <tbody>\n",
       "    <tr>\n",
       "      <th>13</th>\n",
       "      <td>standardize__CRuns</td>\n",
       "      <td>320.802717</td>\n",
       "    </tr>\n",
       "    <tr>\n",
       "      <th>4</th>\n",
       "      <td>standardize__Hits</td>\n",
       "      <td>296.801967</td>\n",
       "    </tr>\n",
       "    <tr>\n",
       "      <th>14</th>\n",
       "      <td>standardize__CRBI</td>\n",
       "      <td>160.409497</td>\n",
       "    </tr>\n",
       "    <tr>\n",
       "      <th>11</th>\n",
       "      <td>standardize__CHits</td>\n",
       "      <td>126.210585</td>\n",
       "    </tr>\n",
       "  </tbody>\n",
       "</table>\n",
       "</div>"
      ],
      "text/plain": [
       "             Predictor  Coefficient\n",
       "13  standardize__CRuns   320.802717\n",
       "4    standardize__Hits   296.801967\n",
       "14   standardize__CRBI   160.409497\n",
       "11  standardize__CHits   126.210585"
      ]
     },
     "execution_count": null,
     "metadata": {},
     "output_type": "execute_result"
    }
   ],
   "source": [
    "ridge_coef = get_coefficients(dataset=df_baseball, model=Ridge(alpha=1))\n",
    "ridge_coef.head(n=4)"
   ]
  },
  {
   "cell_type": "markdown",
   "metadata": {},
   "source": [
    "Career runs, hits in the previous season, and career RBIs are the most significant coefficients by magnitude. \n",
    "\n",
    "One standard deviation increase in career runs, 331, is associated with an average increase of $320,000 in salary, holding all other variables constant.\n",
    "\n",
    "One standard deviation increase in hits from the previous season, 45, is associated with an average increase of $296,000 in salary, holding all other variables constant.\n",
    "\n",
    "One standard deviation increase in career RBIs, 323, is associated with an average increase of $160,000 in salary, holding all other variables constant."
   ]
  },
  {
   "cell_type": "markdown",
   "metadata": {},
   "source": [
    "4. With the tuning procedure on this data using Ridge Regression, the lowest MSE (with a lambda value of 0.1) is 119,034.33."
   ]
  },
  {
   "cell_type": "markdown",
   "metadata": {},
   "source": [
    "C. Lasso Regression"
   ]
  },
  {
   "cell_type": "code",
   "execution_count": 555,
   "metadata": {
    "vscode": {
     "languageId": "python"
    }
   },
   "outputs": [
    {
     "data": {
      "text/html": [
       "<div>\n",
       "<style scoped>\n",
       "    .dataframe tbody tr th:only-of-type {\n",
       "        vertical-align: middle;\n",
       "    }\n",
       "\n",
       "    .dataframe tbody tr th {\n",
       "        vertical-align: top;\n",
       "    }\n",
       "\n",
       "    .dataframe thead th {\n",
       "        text-align: right;\n",
       "    }\n",
       "</style>\n",
       "<table border=\"1\" class=\"dataframe\">\n",
       "  <thead>\n",
       "    <tr style=\"text-align: right;\">\n",
       "      <th></th>\n",
       "      <th>model__alpha</th>\n",
       "      <th>scores</th>\n",
       "    </tr>\n",
       "  </thead>\n",
       "  <tbody>\n",
       "    <tr>\n",
       "      <th>3</th>\n",
       "      <td>1.000</td>\n",
       "      <td>119758.108873</td>\n",
       "    </tr>\n",
       "    <tr>\n",
       "      <th>2</th>\n",
       "      <td>0.100</td>\n",
       "      <td>120758.508162</td>\n",
       "    </tr>\n",
       "    <tr>\n",
       "      <th>1</th>\n",
       "      <td>0.010</td>\n",
       "      <td>121096.159270</td>\n",
       "    </tr>\n",
       "    <tr>\n",
       "      <th>0</th>\n",
       "      <td>0.001</td>\n",
       "      <td>121132.276754</td>\n",
       "    </tr>\n",
       "    <tr>\n",
       "      <th>4</th>\n",
       "      <td>10.000</td>\n",
       "      <td>121828.141333</td>\n",
       "    </tr>\n",
       "  </tbody>\n",
       "</table>\n",
       "</div>"
      ],
      "text/plain": [
       "   model__alpha         scores\n",
       "3         1.000  119758.108873\n",
       "2         0.100  120758.508162\n",
       "1         0.010  121096.159270\n",
       "0         0.001  121132.276754\n",
       "4        10.000  121828.141333"
      ]
     },
     "execution_count": null,
     "metadata": {},
     "output_type": "execute_result"
    }
   ],
   "source": [
    "lasso_pipeline = roee_pipeline(model=Lasso(max_iter=100000))\n",
    "df_tuned_lasso = grid_search_df(pipeline=lasso_pipeline, model=\"lasso\", dataset=df_baseball)\n",
    "df_tuned_lasso"
   ]
  },
  {
   "cell_type": "markdown",
   "metadata": {},
   "source": [
    "2. The best lambda is 1."
   ]
  },
  {
   "cell_type": "code",
   "execution_count": 556,
   "metadata": {
    "vscode": {
     "languageId": "python"
    }
   },
   "outputs": [
    {
     "data": {
      "text/html": [
       "<div>\n",
       "<style scoped>\n",
       "    .dataframe tbody tr th:only-of-type {\n",
       "        vertical-align: middle;\n",
       "    }\n",
       "\n",
       "    .dataframe tbody tr th {\n",
       "        vertical-align: top;\n",
       "    }\n",
       "\n",
       "    .dataframe thead th {\n",
       "        text-align: right;\n",
       "    }\n",
       "</style>\n",
       "<table border=\"1\" class=\"dataframe\">\n",
       "  <thead>\n",
       "    <tr style=\"text-align: right;\">\n",
       "      <th></th>\n",
       "      <th>Predictor</th>\n",
       "      <th>Coefficient</th>\n",
       "    </tr>\n",
       "  </thead>\n",
       "  <tbody>\n",
       "    <tr>\n",
       "      <th>13</th>\n",
       "      <td>standardize__CRuns</td>\n",
       "      <td>375.565519</td>\n",
       "    </tr>\n",
       "    <tr>\n",
       "      <th>4</th>\n",
       "      <td>standardize__Hits</td>\n",
       "      <td>304.359509</td>\n",
       "    </tr>\n",
       "    <tr>\n",
       "      <th>14</th>\n",
       "      <td>standardize__CRBI</td>\n",
       "      <td>192.610892</td>\n",
       "    </tr>\n",
       "    <tr>\n",
       "      <th>8</th>\n",
       "      <td>standardize__Walks</td>\n",
       "      <td>120.695275</td>\n",
       "    </tr>\n",
       "  </tbody>\n",
       "</table>\n",
       "</div>"
      ],
      "text/plain": [
       "             Predictor  Coefficient\n",
       "13  standardize__CRuns   375.565519\n",
       "4    standardize__Hits   304.359509\n",
       "14   standardize__CRBI   192.610892\n",
       "8   standardize__Walks   120.695275"
      ]
     },
     "execution_count": null,
     "metadata": {},
     "output_type": "execute_result"
    }
   ],
   "source": [
    "lasso_coef = get_coefficients(dataset=df_baseball, model=Lasso(alpha=1))\n",
    "lasso_coef.head(n=4)"
   ]
  },
  {
   "cell_type": "markdown",
   "metadata": {},
   "source": [
    "Career runs, hits in the previous season, and career RBIs are the most significant coefficients by magnitude. \n",
    "\n",
    "One standard deviation increase in career runs, 331, is associated with an average increase of $375,000 in salary, holding all other variables constant.\n",
    "\n",
    "One standard deviation increase in hits from the previous season, 45, is associated with an average increase of $304,000 in salary, holding all other variables constant.\n",
    "\n",
    "One standard deviation increase in career RBIs, 323, is associated with an average increase of $192,000 in salary, holding all other variables constant."
   ]
  },
  {
   "cell_type": "markdown",
   "metadata": {},
   "source": [
    "4. With the tuning procedure on this data using Lasso Regression, the lowest MSE (with a lambda value of 0.1) is 119,034.33."
   ]
  },
  {
   "cell_type": "markdown",
   "metadata": {},
   "source": [
    "D. Elastic Net"
   ]
  },
  {
   "cell_type": "code",
   "execution_count": 557,
   "metadata": {
    "vscode": {
     "languageId": "python"
    }
   },
   "outputs": [
    {
     "data": {
      "text/html": [
       "<div>\n",
       "<style scoped>\n",
       "    .dataframe tbody tr th:only-of-type {\n",
       "        vertical-align: middle;\n",
       "    }\n",
       "\n",
       "    .dataframe tbody tr th {\n",
       "        vertical-align: top;\n",
       "    }\n",
       "\n",
       "    .dataframe thead th {\n",
       "        text-align: right;\n",
       "    }\n",
       "</style>\n",
       "<table border=\"1\" class=\"dataframe\">\n",
       "  <thead>\n",
       "    <tr style=\"text-align: right;\">\n",
       "      <th></th>\n",
       "      <th>model__alpha</th>\n",
       "      <th>model__l1_ratio</th>\n",
       "      <th>scores</th>\n",
       "    </tr>\n",
       "  </thead>\n",
       "  <tbody>\n",
       "    <tr>\n",
       "      <th>7</th>\n",
       "      <td>0.10</td>\n",
       "      <td>0.8</td>\n",
       "      <td>118750.189196</td>\n",
       "    </tr>\n",
       "    <tr>\n",
       "      <th>0</th>\n",
       "      <td>0.01</td>\n",
       "      <td>0.2</td>\n",
       "      <td>118836.651842</td>\n",
       "    </tr>\n",
       "    <tr>\n",
       "      <th>1</th>\n",
       "      <td>0.01</td>\n",
       "      <td>0.4</td>\n",
       "      <td>118936.657888</td>\n",
       "    </tr>\n",
       "  </tbody>\n",
       "</table>\n",
       "</div>"
      ],
      "text/plain": [
       "   model__alpha  model__l1_ratio         scores\n",
       "7          0.10              0.8  118750.189196\n",
       "0          0.01              0.2  118836.651842\n",
       "1          0.01              0.4  118936.657888"
      ]
     },
     "execution_count": null,
     "metadata": {},
     "output_type": "execute_result"
    }
   ],
   "source": [
    "elastic_pipeline = roee_pipeline(model=ElasticNet(max_iter=100000))\n",
    "df_tuned_elastic = grid_search_df(pipeline=elastic_pipeline, model=\"elastic\", dataset=df_baseball)\n",
    "df_tuned_elastic.head(n=3)"
   ]
  },
  {
   "cell_type": "markdown",
   "metadata": {},
   "source": [
    "2. The best lambda is 0.1 and the best alpha is 0.8 for an MSE of 118,750."
   ]
  },
  {
   "cell_type": "code",
   "execution_count": 558,
   "metadata": {
    "vscode": {
     "languageId": "python"
    }
   },
   "outputs": [
    {
     "data": {
      "text/html": [
       "<div>\n",
       "<style scoped>\n",
       "    .dataframe tbody tr th:only-of-type {\n",
       "        vertical-align: middle;\n",
       "    }\n",
       "\n",
       "    .dataframe tbody tr th {\n",
       "        vertical-align: top;\n",
       "    }\n",
       "\n",
       "    .dataframe thead th {\n",
       "        text-align: right;\n",
       "    }\n",
       "</style>\n",
       "<table border=\"1\" class=\"dataframe\">\n",
       "  <thead>\n",
       "    <tr style=\"text-align: right;\">\n",
       "      <th></th>\n",
       "      <th>Predictor</th>\n",
       "      <th>Coefficient</th>\n",
       "    </tr>\n",
       "  </thead>\n",
       "  <tbody>\n",
       "    <tr>\n",
       "      <th>4</th>\n",
       "      <td>standardize__Hits</td>\n",
       "      <td>200.830729</td>\n",
       "    </tr>\n",
       "    <tr>\n",
       "      <th>13</th>\n",
       "      <td>standardize__CRuns</td>\n",
       "      <td>163.907498</td>\n",
       "    </tr>\n",
       "    <tr>\n",
       "      <th>11</th>\n",
       "      <td>standardize__CHits</td>\n",
       "      <td>110.173426</td>\n",
       "    </tr>\n",
       "    <tr>\n",
       "      <th>14</th>\n",
       "      <td>standardize__CRBI</td>\n",
       "      <td>104.504476</td>\n",
       "    </tr>\n",
       "    <tr>\n",
       "      <th>8</th>\n",
       "      <td>standardize__Walks</td>\n",
       "      <td>97.341332</td>\n",
       "    </tr>\n",
       "  </tbody>\n",
       "</table>\n",
       "</div>"
      ],
      "text/plain": [
       "             Predictor  Coefficient\n",
       "4    standardize__Hits   200.830729\n",
       "13  standardize__CRuns   163.907498\n",
       "11  standardize__CHits   110.173426\n",
       "14   standardize__CRBI   104.504476\n",
       "8   standardize__Walks    97.341332"
      ]
     },
     "execution_count": null,
     "metadata": {},
     "output_type": "execute_result"
    }
   ],
   "source": [
    "elastic_coef = get_coefficients(dataset=df_baseball, model=ElasticNet(alpha=0.1, l1_ratio=0.8))\n",
    "elastic_coef.head(n=5)"
   ]
  },
  {
   "cell_type": "code",
   "execution_count": 559,
   "metadata": {
    "vscode": {
     "languageId": "python"
    }
   },
   "outputs": [
    {
     "data": {
      "text/plain": [
       "648.1996437306398"
      ]
     },
     "execution_count": null,
     "metadata": {},
     "output_type": "execute_result"
    }
   ],
   "source": [
    "df_baseball[\"CHits\"].std()"
   ]
  },
  {
   "cell_type": "markdown",
   "metadata": {},
   "source": [
    "Career runs, hits in the previous season, and career hits are the most significant coefficients by magnitude in this model.\n",
    "\n",
    "One standard deviation increase in hits from the previous season, 45, is associated with an average increase of $200,000 in salary, holding all other variables constant.\n",
    "\n",
    "One standard deviation increase in career runs, 331, is associated with an average increase of $163,000 in salary, holding all other variables constant.\n",
    "\n",
    "One standard deviation increase in career hits, 648, is associated with an average increase of $110,000 in salary, holding all other variables constant."
   ]
  },
  {
   "cell_type": "markdown",
   "metadata": {},
   "source": [
    "4. With the tuning procedure on this data using an Elastic Net, the lowest MSE (with a lambda value of 0.1 and alpha of 0.8) is 118,750.19."
   ]
  },
  {
   "cell_type": "markdown",
   "metadata": {},
   "source": [
    "**Part II. Variable Selection**"
   ]
  },
  {
   "cell_type": "markdown",
   "metadata": {},
   "source": [
    "I have determined career runs to be the most important numeric variable in a player's salary in 1987.\n",
    "\n",
    "I have determined that the five most important numeric variables are as follows:\n",
    "- Career Runs\n",
    "- Hits in 1986\n",
    "- Career Hits\n",
    "- Career RBIs\n",
    "- At Bats in 1986\n",
    "\n",
    "I have determined that the most important categorical variable is Division."
   ]
  },
  {
   "cell_type": "markdown",
   "metadata": {},
   "source": [
    "1. Using only the best numeric variable"
   ]
  },
  {
   "cell_type": "code",
   "execution_count": 560,
   "metadata": {
    "vscode": {
     "languageId": "python"
    }
   },
   "outputs": [],
   "source": [
    "df_baseball_best_numeric = df_baseball[[\"CRuns\", \"Salary\"]]"
   ]
  },
  {
   "cell_type": "code",
   "execution_count": 561,
   "metadata": {
    "vscode": {
     "languageId": "python"
    }
   },
   "outputs": [
    {
     "data": {
      "text/plain": [
       "143812.9359162973"
      ]
     },
     "execution_count": null,
     "metadata": {},
     "output_type": "execute_result"
    }
   ],
   "source": [
    "# Linear Regression\n",
    "\n",
    "X = df_baseball_best_numeric.drop(\"Salary\", axis = 1)\n",
    "y = df_baseball_best_numeric[\"Salary\"]\n",
    "\n",
    "linear_pipeline = roee_pipeline()\n",
    "cross_val_score(linear_pipeline, X, y, cv = 5, scoring = \"neg_mean_squared_error\").mean() * -1"
   ]
  },
  {
   "cell_type": "code",
   "execution_count": 562,
   "metadata": {
    "vscode": {
     "languageId": "python"
    }
   },
   "outputs": [
    {
     "data": {
      "text/html": [
       "<div>\n",
       "<style scoped>\n",
       "    .dataframe tbody tr th:only-of-type {\n",
       "        vertical-align: middle;\n",
       "    }\n",
       "\n",
       "    .dataframe tbody tr th {\n",
       "        vertical-align: top;\n",
       "    }\n",
       "\n",
       "    .dataframe thead th {\n",
       "        text-align: right;\n",
       "    }\n",
       "</style>\n",
       "<table border=\"1\" class=\"dataframe\">\n",
       "  <thead>\n",
       "    <tr style=\"text-align: right;\">\n",
       "      <th></th>\n",
       "      <th>Predictor</th>\n",
       "      <th>Coefficient</th>\n",
       "    </tr>\n",
       "  </thead>\n",
       "  <tbody>\n",
       "    <tr>\n",
       "      <th>0</th>\n",
       "      <td>standardize__CRuns</td>\n",
       "      <td>253.351392</td>\n",
       "    </tr>\n",
       "  </tbody>\n",
       "</table>\n",
       "</div>"
      ],
      "text/plain": [
       "            Predictor  Coefficient\n",
       "0  standardize__CRuns   253.351392"
      ]
     },
     "execution_count": null,
     "metadata": {},
     "output_type": "execute_result"
    }
   ],
   "source": [
    "linear_coef = get_coefficients(dataset=df_baseball_best_numeric)\n",
    "linear_coef"
   ]
  },
  {
   "cell_type": "code",
   "execution_count": 563,
   "metadata": {
    "vscode": {
     "languageId": "python"
    }
   },
   "outputs": [
    {
     "data": {
      "text/html": [
       "<div>\n",
       "<style scoped>\n",
       "    .dataframe tbody tr th:only-of-type {\n",
       "        vertical-align: middle;\n",
       "    }\n",
       "\n",
       "    .dataframe tbody tr th {\n",
       "        vertical-align: top;\n",
       "    }\n",
       "\n",
       "    .dataframe thead th {\n",
       "        text-align: right;\n",
       "    }\n",
       "</style>\n",
       "<table border=\"1\" class=\"dataframe\">\n",
       "  <thead>\n",
       "    <tr style=\"text-align: right;\">\n",
       "      <th></th>\n",
       "      <th>model__alpha</th>\n",
       "      <th>scores</th>\n",
       "    </tr>\n",
       "  </thead>\n",
       "  <tbody>\n",
       "    <tr>\n",
       "      <th>4</th>\n",
       "      <td>10.0</td>\n",
       "      <td>143658.517369</td>\n",
       "    </tr>\n",
       "  </tbody>\n",
       "</table>\n",
       "</div>"
      ],
      "text/plain": [
       "   model__alpha         scores\n",
       "4          10.0  143658.517369"
      ]
     },
     "execution_count": null,
     "metadata": {},
     "output_type": "execute_result"
    }
   ],
   "source": [
    "# Ridge Regression\n",
    "\n",
    "ridge_pipeline = roee_pipeline(model=Ridge())\n",
    "df_tuned_ridge = grid_search_df(pipeline=ridge_pipeline, model=\"ridge\", dataset=df_baseball_best_numeric)\n",
    "df_tuned_ridge.head(n=1)"
   ]
  },
  {
   "cell_type": "code",
   "execution_count": 564,
   "metadata": {
    "vscode": {
     "languageId": "python"
    }
   },
   "outputs": [
    {
     "data": {
      "text/html": [
       "<div>\n",
       "<style scoped>\n",
       "    .dataframe tbody tr th:only-of-type {\n",
       "        vertical-align: middle;\n",
       "    }\n",
       "\n",
       "    .dataframe tbody tr th {\n",
       "        vertical-align: top;\n",
       "    }\n",
       "\n",
       "    .dataframe thead th {\n",
       "        text-align: right;\n",
       "    }\n",
       "</style>\n",
       "<table border=\"1\" class=\"dataframe\">\n",
       "  <thead>\n",
       "    <tr style=\"text-align: right;\">\n",
       "      <th></th>\n",
       "      <th>Predictor</th>\n",
       "      <th>Coefficient</th>\n",
       "    </tr>\n",
       "  </thead>\n",
       "  <tbody>\n",
       "    <tr>\n",
       "      <th>0</th>\n",
       "      <td>standardize__CRuns</td>\n",
       "      <td>252.391728</td>\n",
       "    </tr>\n",
       "  </tbody>\n",
       "</table>\n",
       "</div>"
      ],
      "text/plain": [
       "            Predictor  Coefficient\n",
       "0  standardize__CRuns   252.391728"
      ]
     },
     "execution_count": null,
     "metadata": {},
     "output_type": "execute_result"
    }
   ],
   "source": [
    "ridge_coef = get_coefficients(dataset=df_baseball_best_numeric, model=Ridge())\n",
    "ridge_coef"
   ]
  },
  {
   "cell_type": "code",
   "execution_count": 565,
   "metadata": {
    "vscode": {
     "languageId": "python"
    }
   },
   "outputs": [
    {
     "data": {
      "text/html": [
       "<div>\n",
       "<style scoped>\n",
       "    .dataframe tbody tr th:only-of-type {\n",
       "        vertical-align: middle;\n",
       "    }\n",
       "\n",
       "    .dataframe tbody tr th {\n",
       "        vertical-align: top;\n",
       "    }\n",
       "\n",
       "    .dataframe thead th {\n",
       "        text-align: right;\n",
       "    }\n",
       "</style>\n",
       "<table border=\"1\" class=\"dataframe\">\n",
       "  <thead>\n",
       "    <tr style=\"text-align: right;\">\n",
       "      <th></th>\n",
       "      <th>model__alpha</th>\n",
       "      <th>scores</th>\n",
       "    </tr>\n",
       "  </thead>\n",
       "  <tbody>\n",
       "    <tr>\n",
       "      <th>4</th>\n",
       "      <td>10.0</td>\n",
       "      <td>143793.449159</td>\n",
       "    </tr>\n",
       "  </tbody>\n",
       "</table>\n",
       "</div>"
      ],
      "text/plain": [
       "   model__alpha         scores\n",
       "4          10.0  143793.449159"
      ]
     },
     "execution_count": null,
     "metadata": {},
     "output_type": "execute_result"
    }
   ],
   "source": [
    "# Lasso Regression\n",
    "\n",
    "lasso_pipeline = roee_pipeline(model=Lasso())\n",
    "df_tuned_lasso = grid_search_df(pipeline=lasso_pipeline, model=\"lasso\", dataset=df_baseball_best_numeric)\n",
    "df_tuned_lasso.head(n=1)"
   ]
  },
  {
   "cell_type": "code",
   "execution_count": 566,
   "metadata": {
    "vscode": {
     "languageId": "python"
    }
   },
   "outputs": [
    {
     "data": {
      "text/html": [
       "<div>\n",
       "<style scoped>\n",
       "    .dataframe tbody tr th:only-of-type {\n",
       "        vertical-align: middle;\n",
       "    }\n",
       "\n",
       "    .dataframe tbody tr th {\n",
       "        vertical-align: top;\n",
       "    }\n",
       "\n",
       "    .dataframe thead th {\n",
       "        text-align: right;\n",
       "    }\n",
       "</style>\n",
       "<table border=\"1\" class=\"dataframe\">\n",
       "  <thead>\n",
       "    <tr style=\"text-align: right;\">\n",
       "      <th></th>\n",
       "      <th>model__alpha</th>\n",
       "      <th>model__l1_ratio</th>\n",
       "      <th>scores</th>\n",
       "    </tr>\n",
       "  </thead>\n",
       "  <tbody>\n",
       "    <tr>\n",
       "      <th>5</th>\n",
       "      <td>0.1</td>\n",
       "      <td>0.4</td>\n",
       "      <td>143660.021761</td>\n",
       "    </tr>\n",
       "  </tbody>\n",
       "</table>\n",
       "</div>"
      ],
      "text/plain": [
       "   model__alpha  model__l1_ratio         scores\n",
       "5           0.1              0.4  143660.021761"
      ]
     },
     "execution_count": null,
     "metadata": {},
     "output_type": "execute_result"
    }
   ],
   "source": [
    "elastic_pipeline = roee_pipeline(model=ElasticNet(max_iter=100000))\n",
    "df_tuned_elastic = grid_search_df(pipeline=elastic_pipeline, model=\"elastic\", dataset=df_baseball_best_numeric)\n",
    "df_tuned_elastic.head(n=1)"
   ]
  },
  {
   "cell_type": "markdown",
   "metadata": {},
   "source": [
    "The MSE's on the tuned models for the best numeric are as follows:\n",
    "- Regression without regularization: 143812.94\n",
    "- Ridge(Lambda=10): 143658.52\n",
    "- Lasso(Lambda=10): 143793.45\n",
    "- Elastic Net(Lambda=0.1, Alpha=0.2): 143660.02\n",
    "\n",
    "Ridge Regression performs the best, but Elastic Net and Lasso are all incredibly similar. This model is inherently flawed because one predictor variable does not give us a lot of information."
   ]
  },
  {
   "cell_type": "markdown",
   "metadata": {},
   "source": [
    "2. Using only the five best variables."
   ]
  },
  {
   "cell_type": "code",
   "execution_count": 567,
   "metadata": {
    "vscode": {
     "languageId": "python"
    }
   },
   "outputs": [],
   "source": [
    "df_baseball_five = df_baseball[[\"CRuns\", \"Hits\", \"CHits\", \"CRBI\", \"AtBat\", \"Salary\"]]"
   ]
  },
  {
   "cell_type": "code",
   "execution_count": 568,
   "metadata": {
    "vscode": {
     "languageId": "python"
    }
   },
   "outputs": [
    {
     "data": {
      "text/plain": [
       "123972.91619275289"
      ]
     },
     "execution_count": null,
     "metadata": {},
     "output_type": "execute_result"
    }
   ],
   "source": [
    "# Linear Regression\n",
    "\n",
    "X = df_baseball_five.drop(\"Salary\", axis = 1)\n",
    "y = df_baseball_five[\"Salary\"]\n",
    "\n",
    "linear_pipeline = roee_pipeline()\n",
    "cross_val_score(linear_pipeline, X, y, cv = 5, scoring = \"neg_mean_squared_error\").mean() * -1"
   ]
  },
  {
   "cell_type": "code",
   "execution_count": 569,
   "metadata": {
    "vscode": {
     "languageId": "python"
    }
   },
   "outputs": [
    {
     "data": {
      "text/html": [
       "<div>\n",
       "<style scoped>\n",
       "    .dataframe tbody tr th:only-of-type {\n",
       "        vertical-align: middle;\n",
       "    }\n",
       "\n",
       "    .dataframe tbody tr th {\n",
       "        vertical-align: top;\n",
       "    }\n",
       "\n",
       "    .dataframe thead th {\n",
       "        text-align: right;\n",
       "    }\n",
       "</style>\n",
       "<table border=\"1\" class=\"dataframe\">\n",
       "  <thead>\n",
       "    <tr style=\"text-align: right;\">\n",
       "      <th></th>\n",
       "      <th>model__alpha</th>\n",
       "      <th>scores</th>\n",
       "    </tr>\n",
       "  </thead>\n",
       "  <tbody>\n",
       "    <tr>\n",
       "      <th>3</th>\n",
       "      <td>1.0</td>\n",
       "      <td>123314.761609</td>\n",
       "    </tr>\n",
       "  </tbody>\n",
       "</table>\n",
       "</div>"
      ],
      "text/plain": [
       "   model__alpha         scores\n",
       "3           1.0  123314.761609"
      ]
     },
     "execution_count": null,
     "metadata": {},
     "output_type": "execute_result"
    }
   ],
   "source": [
    "# Ridge Regression\n",
    "\n",
    "ridge_pipeline = roee_pipeline(model=Ridge())\n",
    "df_tuned_ridge = grid_search_df(pipeline=ridge_pipeline, model=\"ridge\", dataset=df_baseball_five)\n",
    "df_tuned_ridge.head(n=1)"
   ]
  },
  {
   "cell_type": "code",
   "execution_count": 570,
   "metadata": {
    "vscode": {
     "languageId": "python"
    }
   },
   "outputs": [
    {
     "data": {
      "text/html": [
       "<div>\n",
       "<style scoped>\n",
       "    .dataframe tbody tr th:only-of-type {\n",
       "        vertical-align: middle;\n",
       "    }\n",
       "\n",
       "    .dataframe tbody tr th {\n",
       "        vertical-align: top;\n",
       "    }\n",
       "\n",
       "    .dataframe thead th {\n",
       "        text-align: right;\n",
       "    }\n",
       "</style>\n",
       "<table border=\"1\" class=\"dataframe\">\n",
       "  <thead>\n",
       "    <tr style=\"text-align: right;\">\n",
       "      <th></th>\n",
       "      <th>model__alpha</th>\n",
       "      <th>scores</th>\n",
       "    </tr>\n",
       "  </thead>\n",
       "  <tbody>\n",
       "    <tr>\n",
       "      <th>2</th>\n",
       "      <td>0.1</td>\n",
       "      <td>123952.547214</td>\n",
       "    </tr>\n",
       "  </tbody>\n",
       "</table>\n",
       "</div>"
      ],
      "text/plain": [
       "   model__alpha         scores\n",
       "2           0.1  123952.547214"
      ]
     },
     "execution_count": null,
     "metadata": {},
     "output_type": "execute_result"
    }
   ],
   "source": [
    "# Lasso Regression\n",
    "\n",
    "lasso_pipeline = roee_pipeline(model=Lasso())\n",
    "df_tuned_lasso = grid_search_df(pipeline=lasso_pipeline, model=\"lasso\", dataset=df_baseball_five)\n",
    "df_tuned_lasso.head(n=1)"
   ]
  },
  {
   "cell_type": "code",
   "execution_count": 571,
   "metadata": {
    "vscode": {
     "languageId": "python"
    }
   },
   "outputs": [
    {
     "data": {
      "text/html": [
       "<div>\n",
       "<style scoped>\n",
       "    .dataframe tbody tr th:only-of-type {\n",
       "        vertical-align: middle;\n",
       "    }\n",
       "\n",
       "    .dataframe tbody tr th {\n",
       "        vertical-align: top;\n",
       "    }\n",
       "\n",
       "    .dataframe thead th {\n",
       "        text-align: right;\n",
       "    }\n",
       "</style>\n",
       "<table border=\"1\" class=\"dataframe\">\n",
       "  <thead>\n",
       "    <tr style=\"text-align: right;\">\n",
       "      <th></th>\n",
       "      <th>model__alpha</th>\n",
       "      <th>model__l1_ratio</th>\n",
       "      <th>scores</th>\n",
       "    </tr>\n",
       "  </thead>\n",
       "  <tbody>\n",
       "    <tr>\n",
       "      <th>0</th>\n",
       "      <td>0.01</td>\n",
       "      <td>0.2</td>\n",
       "      <td>123191.112297</td>\n",
       "    </tr>\n",
       "  </tbody>\n",
       "</table>\n",
       "</div>"
      ],
      "text/plain": [
       "   model__alpha  model__l1_ratio         scores\n",
       "0          0.01              0.2  123191.112297"
      ]
     },
     "execution_count": null,
     "metadata": {},
     "output_type": "execute_result"
    }
   ],
   "source": [
    "elastic_pipeline = roee_pipeline(model=ElasticNet(max_iter=100000))\n",
    "df_tuned_elastic = grid_search_df(pipeline=elastic_pipeline, model=\"elastic\", dataset=df_baseball_five)\n",
    "df_tuned_elastic.head(n=1)"
   ]
  },
  {
   "cell_type": "markdown",
   "metadata": {},
   "source": [
    "The test scores are improving! The MSE's on the tuned models for the five best numerics are as follows:\n",
    "\n",
    "- Regression without regularization: 123972.92\n",
    "- Ridge(Lambda=1): 123314.76\n",
    "- Lasso(Lambda=0.1): 123952.55\n",
    "- Elastic Net(Lambda=0.01, Alpha=0.2): 123191.11\n",
    "\n",
    "The best model now is Elastic Net with the above parameters. "
   ]
  },
  {
   "cell_type": "markdown",
   "metadata": {},
   "source": [
    "3. Using the five best numeric variables and their interactions with the one best categorical variable."
   ]
  },
  {
   "cell_type": "code",
   "execution_count": 572,
   "metadata": {
    "vscode": {
     "languageId": "python"
    }
   },
   "outputs": [],
   "source": [
    "X = df_baseball.drop(\"Salary\", axis = 1)\n",
    "y = df_baseball[\"Salary\"]"
   ]
  },
  {
   "cell_type": "code",
   "execution_count": 573,
   "metadata": {
    "vscode": {
     "languageId": "python"
    }
   },
   "outputs": [],
   "source": [
    "# Column Transformers for interaction\n",
    "\n",
    "ct_pre = ColumnTransformer(\n",
    "  [\n",
    "    (\"dummify\", OneHotEncoder(sparse_output = False, drop=\"first\"), [\"Division\"]),\n",
    "    (\"standardize\", StandardScaler(), [\"CRuns\", \"Hits\", \"CHits\", \n",
    "                                       \"CRBI\", \"AtBat\"])\n",
    "  ],\n",
    "  remainder = \"drop\"\n",
    ").set_output(transform = \"pandas\")\n",
    "\n",
    "ct_inter = ColumnTransformer(\n",
    "    [\n",
    "      (\"interaction1\", PolynomialFeatures(interaction_only = True, include_bias=False), [\"dummify__Division_W\", \"standardize__CRuns\"]),\n",
    "      (\"interaction2\", PolynomialFeatures(interaction_only = True, include_bias=False), [\"dummify__Division_W\", \"standardize__Hits\"]),\n",
    "      (\"interaction3\", PolynomialFeatures(interaction_only = True, include_bias=False), [\"dummify__Division_W\", \"standardize__CHits\"]),\n",
    "      (\"interaction4\", PolynomialFeatures(interaction_only = True, include_bias=False), [\"dummify__Division_W\", \"standardize__CRBI\"]),\n",
    "      (\"interaction5\", PolynomialFeatures(interaction_only = True, include_bias=False), [\"dummify__Division_W\", \"standardize__AtBat\"])\n",
    "    ]\n",
    ").set_output(transform=\"pandas\")"
   ]
  },
  {
   "cell_type": "code",
   "execution_count": 574,
   "metadata": {
    "vscode": {
     "languageId": "python"
    }
   },
   "outputs": [
    {
     "data": {
      "text/plain": [
       "127803.44470976581"
      ]
     },
     "execution_count": null,
     "metadata": {},
     "output_type": "execute_result"
    }
   ],
   "source": [
    "# Linear Regression without Regularization\n",
    "\n",
    "linear_pipeline = Pipeline(\n",
    "  [(\"preprocessing\", ct_pre),\n",
    "   (\"interaction\", ct_inter),\n",
    "  (\"model\", LinearRegression())]\n",
    ").set_output(transform=\"pandas\")\n",
    "\n",
    "cross_val_score(linear_pipeline, X, y, cv = 5, scoring = \"neg_mean_squared_error\").mean() * -1"
   ]
  },
  {
   "cell_type": "code",
   "execution_count": 575,
   "metadata": {
    "vscode": {
     "languageId": "python"
    }
   },
   "outputs": [
    {
     "data": {
      "text/html": [
       "<div>\n",
       "<style scoped>\n",
       "    .dataframe tbody tr th:only-of-type {\n",
       "        vertical-align: middle;\n",
       "    }\n",
       "\n",
       "    .dataframe tbody tr th {\n",
       "        vertical-align: top;\n",
       "    }\n",
       "\n",
       "    .dataframe thead th {\n",
       "        text-align: right;\n",
       "    }\n",
       "</style>\n",
       "<table border=\"1\" class=\"dataframe\">\n",
       "  <thead>\n",
       "    <tr style=\"text-align: right;\">\n",
       "      <th></th>\n",
       "      <th>model__alpha</th>\n",
       "      <th>scores</th>\n",
       "    </tr>\n",
       "  </thead>\n",
       "  <tbody>\n",
       "    <tr>\n",
       "      <th>4</th>\n",
       "      <td>10.0</td>\n",
       "      <td>121472.320745</td>\n",
       "    </tr>\n",
       "  </tbody>\n",
       "</table>\n",
       "</div>"
      ],
      "text/plain": [
       "   model__alpha         scores\n",
       "4          10.0  121472.320745"
      ]
     },
     "execution_count": null,
     "metadata": {},
     "output_type": "execute_result"
    }
   ],
   "source": [
    "# Ridge Regression\n",
    "\n",
    "ridge_pipeline = Pipeline(\n",
    "  [(\"preprocessing\", ct_pre),\n",
    "   (\"interaction\", ct_inter),\n",
    "  (\"model\", Ridge())]\n",
    ").set_output(transform=\"pandas\")\n",
    "\n",
    "df_tuned_ridge = grid_search_df(pipeline=ridge_pipeline, model=\"ridge\", dataset=df_baseball)\n",
    "df_tuned_ridge.head(n=1)"
   ]
  },
  {
   "cell_type": "code",
   "execution_count": 576,
   "metadata": {
    "vscode": {
     "languageId": "python"
    }
   },
   "outputs": [
    {
     "data": {
      "text/html": [
       "<div>\n",
       "<style scoped>\n",
       "    .dataframe tbody tr th:only-of-type {\n",
       "        vertical-align: middle;\n",
       "    }\n",
       "\n",
       "    .dataframe tbody tr th {\n",
       "        vertical-align: top;\n",
       "    }\n",
       "\n",
       "    .dataframe thead th {\n",
       "        text-align: right;\n",
       "    }\n",
       "</style>\n",
       "<table border=\"1\" class=\"dataframe\">\n",
       "  <thead>\n",
       "    <tr style=\"text-align: right;\">\n",
       "      <th></th>\n",
       "      <th>model__alpha</th>\n",
       "      <th>scores</th>\n",
       "    </tr>\n",
       "  </thead>\n",
       "  <tbody>\n",
       "    <tr>\n",
       "      <th>4</th>\n",
       "      <td>10.0</td>\n",
       "      <td>123676.132348</td>\n",
       "    </tr>\n",
       "  </tbody>\n",
       "</table>\n",
       "</div>"
      ],
      "text/plain": [
       "   model__alpha         scores\n",
       "4          10.0  123676.132348"
      ]
     },
     "execution_count": null,
     "metadata": {},
     "output_type": "execute_result"
    }
   ],
   "source": [
    "# Lasso Regression\n",
    "\n",
    "lasso_pipeline = Pipeline(\n",
    "  [(\"preprocessing\", ct_pre),\n",
    "   (\"interaction\", ct_inter),\n",
    "  (\"model\", Lasso(max_iter=1000000))]\n",
    ").set_output(transform=\"pandas\")\n",
    "\n",
    "df_tuned_lasso = grid_search_df(pipeline=lasso_pipeline, model=\"lasso\", dataset=df_baseball)\n",
    "df_tuned_lasso.head(n=1)"
   ]
  },
  {
   "cell_type": "code",
   "execution_count": 577,
   "metadata": {
    "vscode": {
     "languageId": "python"
    }
   },
   "outputs": [
    {
     "data": {
      "text/html": [
       "<div>\n",
       "<style scoped>\n",
       "    .dataframe tbody tr th:only-of-type {\n",
       "        vertical-align: middle;\n",
       "    }\n",
       "\n",
       "    .dataframe tbody tr th {\n",
       "        vertical-align: top;\n",
       "    }\n",
       "\n",
       "    .dataframe thead th {\n",
       "        text-align: right;\n",
       "    }\n",
       "</style>\n",
       "<table border=\"1\" class=\"dataframe\">\n",
       "  <thead>\n",
       "    <tr style=\"text-align: right;\">\n",
       "      <th></th>\n",
       "      <th>model__alpha</th>\n",
       "      <th>model__l1_ratio</th>\n",
       "      <th>scores</th>\n",
       "    </tr>\n",
       "  </thead>\n",
       "  <tbody>\n",
       "    <tr>\n",
       "      <th>4</th>\n",
       "      <td>0.1</td>\n",
       "      <td>0.2</td>\n",
       "      <td>121281.565485</td>\n",
       "    </tr>\n",
       "  </tbody>\n",
       "</table>\n",
       "</div>"
      ],
      "text/plain": [
       "   model__alpha  model__l1_ratio         scores\n",
       "4           0.1              0.2  121281.565485"
      ]
     },
     "execution_count": null,
     "metadata": {},
     "output_type": "execute_result"
    }
   ],
   "source": [
    "# Elastic Net Regression\n",
    "\n",
    "elastic_pipeline = Pipeline(\n",
    "  [(\"preprocessing\", ct_pre),\n",
    "   (\"interaction\", ct_inter),\n",
    "  (\"model\", ElasticNet(max_iter=1000000))]\n",
    ").set_output(transform=\"pandas\")\n",
    "\n",
    "df_tuned_elastic = grid_search_df(pipeline=elastic_pipeline, model=\"elastic\", dataset=df_baseball)\n",
    "df_tuned_elastic.head(n=1)"
   ]
  },
  {
   "cell_type": "markdown",
   "metadata": {},
   "source": [
    "The MSE's on the tuned models for the best numeric are as follows:\n",
    "\n",
    "- Regression without regularization: 127803.44\n",
    "- Ridge(Lambda=10): 121472.32\n",
    "- Lasso(Lambda=10): 123676.13\n",
    "- Elastic Net(Lambda=0.01, Alpha=0.2): 121281.57\n",
    "\n",
    "The best model is Elastic Net with the above parameters. "
   ]
  },
  {
   "cell_type": "markdown",
   "metadata": {},
   "source": [
    "**Part 3: Discussion**"
   ]
  },
  {
   "cell_type": "markdown",
   "metadata": {},
   "source": [
    "A. Ridge"
   ]
  },
  {
   "cell_type": "markdown",
   "metadata": {
    "vscode": {
     "languageId": "python"
    }
   },
   "source": [
    "The coefficients on my ridge regression are smaller than those on my ordinary regression models when we are using the full dataset. This is because ridge regression places a penalty on coefficient size to provide a balance between overfitting and underfitting."
   ]
  },
  {
   "cell_type": "markdown",
   "metadata": {},
   "source": [
    "B. LASSO"
   ]
  },
  {
   "cell_type": "markdown",
   "metadata": {},
   "source": [
    "I did not get the same lambda parameters for the different LASSO models I created. There are several reasons for that. Lasso uses a penalty term to prevent overfitting by shrinking coefficient magnitudes towards zero. \n",
    "\n",
    "The parameter with the full dataset is 1. It is 10 with the best numeric variable. It is 0.1 with the five best numeric variables and it is 10 again with the five best numeric variables and there interactions.\n",
    "\n",
    "This makes sense because each of these models have a different amount of variables, so the lambda parameter functions differently to fit these datasets and prevent overfitting.\n",
    "\n",
    "The MSEs are very similar across all four models, not including the model with solely the best numeric variable. This makes sense because LASSO emphasizes the most important coefficients in the first dataset and we chose those most important coefficients to model in Part II. "
   ]
  },
  {
   "cell_type": "markdown",
   "metadata": {},
   "source": [
    "C. Elastic Net"
   ]
  },
  {
   "cell_type": "markdown",
   "metadata": {},
   "source": [
    "Elastic Net often \"wins\" because it combines the flexibility of Ridge and LASSO regression when it comes to dealing with overfit models. We can tune the model now on both lambda and alpha, creating a model that should be at least as good as one of the Ridge or Lasso regressions run before it."
   ]
  },
  {
   "cell_type": "markdown",
   "metadata": {},
   "source": [
    "**Part 4: Final Model**"
   ]
  },
  {
   "cell_type": "markdown",
   "metadata": {},
   "source": [
    "My best model came in the beginning, interestingly enough, with all of the variables and using Elastic Net. I might not have picked the most significant variables in the model and that caused the models in Part II to lack the significance needed to beat model 1. Regardless, this is the best model I created during this lab:"
   ]
  },
  {
   "cell_type": "code",
   "execution_count": 578,
   "metadata": {
    "vscode": {
     "languageId": "python"
    }
   },
   "outputs": [
    {
     "data": {
      "text/html": [
       "<div>\n",
       "<style scoped>\n",
       "    .dataframe tbody tr th:only-of-type {\n",
       "        vertical-align: middle;\n",
       "    }\n",
       "\n",
       "    .dataframe tbody tr th {\n",
       "        vertical-align: top;\n",
       "    }\n",
       "\n",
       "    .dataframe thead th {\n",
       "        text-align: right;\n",
       "    }\n",
       "</style>\n",
       "<table border=\"1\" class=\"dataframe\">\n",
       "  <thead>\n",
       "    <tr style=\"text-align: right;\">\n",
       "      <th></th>\n",
       "      <th>model__alpha</th>\n",
       "      <th>model__l1_ratio</th>\n",
       "      <th>scores</th>\n",
       "    </tr>\n",
       "  </thead>\n",
       "  <tbody>\n",
       "    <tr>\n",
       "      <th>7</th>\n",
       "      <td>0.1</td>\n",
       "      <td>0.8</td>\n",
       "      <td>118750.189196</td>\n",
       "    </tr>\n",
       "  </tbody>\n",
       "</table>\n",
       "</div>"
      ],
      "text/plain": [
       "   model__alpha  model__l1_ratio         scores\n",
       "7           0.1              0.8  118750.189196"
      ]
     },
     "execution_count": null,
     "metadata": {},
     "output_type": "execute_result"
    }
   ],
   "source": [
    "elastic_pipeline = roee_pipeline(model=ElasticNet(max_iter=100000))\n",
    "df_tuned_elastic = grid_search_df(pipeline=elastic_pipeline, model=\"elastic\", dataset=df_baseball)\n",
    "df_tuned_elastic.head(n=1)"
   ]
  },
  {
   "cell_type": "markdown",
   "metadata": {},
   "source": [
    "This model has a MSE of 118750.19."
   ]
  },
  {
   "cell_type": "code",
   "execution_count": 590,
   "metadata": {
    "vscode": {
     "languageId": "python"
    }
   },
   "outputs": [],
   "source": [
    "elastic_df = get_coefficients(dataset=df_baseball, model=ElasticNet(alpha=0.1, l1_ratio=0.8))\n",
    "\n",
    "elastic_df[\"Coefficient_Abs\"] = elastic_df[\"Coefficient\"].abs()\n",
    "elastic_df = elastic_df.sort_values(by=\"Coefficient_Abs\", ascending=False).head(n=6)"
   ]
  },
  {
   "cell_type": "code",
   "execution_count": 591,
   "metadata": {
    "vscode": {
     "languageId": "python"
    }
   },
   "outputs": [
    {
     "data": {
      "text/html": [
       "<div>\n",
       "<style scoped>\n",
       "    .dataframe tbody tr th:only-of-type {\n",
       "        vertical-align: middle;\n",
       "    }\n",
       "\n",
       "    .dataframe tbody tr th {\n",
       "        vertical-align: top;\n",
       "    }\n",
       "\n",
       "    .dataframe thead th {\n",
       "        text-align: right;\n",
       "    }\n",
       "</style>\n",
       "<table border=\"1\" class=\"dataframe\">\n",
       "  <thead>\n",
       "    <tr style=\"text-align: right;\">\n",
       "      <th></th>\n",
       "      <th>Predictor</th>\n",
       "      <th>Coefficient</th>\n",
       "      <th>Coefficient_Abs</th>\n",
       "    </tr>\n",
       "  </thead>\n",
       "  <tbody>\n",
       "    <tr>\n",
       "      <th>4</th>\n",
       "      <td>standardize__Hits</td>\n",
       "      <td>200.830729</td>\n",
       "      <td>200.830729</td>\n",
       "    </tr>\n",
       "    <tr>\n",
       "      <th>3</th>\n",
       "      <td>standardize__AtBat</td>\n",
       "      <td>-186.181515</td>\n",
       "      <td>186.181515</td>\n",
       "    </tr>\n",
       "    <tr>\n",
       "      <th>13</th>\n",
       "      <td>standardize__CRuns</td>\n",
       "      <td>163.907498</td>\n",
       "      <td>163.907498</td>\n",
       "    </tr>\n",
       "    <tr>\n",
       "      <th>15</th>\n",
       "      <td>standardize__CWalks</td>\n",
       "      <td>-125.175493</td>\n",
       "      <td>125.175493</td>\n",
       "    </tr>\n",
       "    <tr>\n",
       "      <th>1</th>\n",
       "      <td>dummify__Division_W</td>\n",
       "      <td>-116.818145</td>\n",
       "      <td>116.818145</td>\n",
       "    </tr>\n",
       "    <tr>\n",
       "      <th>11</th>\n",
       "      <td>standardize__CHits</td>\n",
       "      <td>110.173426</td>\n",
       "      <td>110.173426</td>\n",
       "    </tr>\n",
       "  </tbody>\n",
       "</table>\n",
       "</div>"
      ],
      "text/plain": [
       "              Predictor  Coefficient  Coefficient_Abs\n",
       "4     standardize__Hits   200.830729       200.830729\n",
       "3    standardize__AtBat  -186.181515       186.181515\n",
       "13   standardize__CRuns   163.907498       163.907498\n",
       "15  standardize__CWalks  -125.175493       125.175493\n",
       "1   dummify__Division_W  -116.818145       116.818145\n",
       "11   standardize__CHits   110.173426       110.173426"
      ]
     },
     "execution_count": null,
     "metadata": {},
     "output_type": "execute_result"
    }
   ],
   "source": [
    "elastic_df"
   ]
  },
  {
   "cell_type": "markdown",
   "metadata": {},
   "source": [
    "With this model, I have interpreted the coefficients above, but the most important ones are:\n",
    "- Hits in 1986\n",
    "- Career Runs\n",
    "- Career Hits\n",
    "- Career RBI"
   ]
  },
  {
   "cell_type": "markdown",
   "metadata": {},
   "source": [
    "The instructions for making a plot are a little vague. I am going to plot my most important coefficients on a column chart."
   ]
  },
  {
   "cell_type": "code",
   "execution_count": 597,
   "metadata": {
    "vscode": {
     "languageId": "python"
    }
   },
   "outputs": [
    {
     "data": {
      "image/png": "[encoded data removed]"
     },
     "metadata": {},
     "output_type": "display_data"
    }
   ],
   "source": [
    "from plotnine import ggplot, aes, geom_bar, labs, theme_classic, theme, element_text\n",
    "\n",
    "(ggplot(elastic_df, aes(x=\"Predictor\", y=\"Coefficient\")) +\n",
    "geom_bar(stat=\"identity\", fill=\"blue\") + \n",
    "theme_classic() +\n",
    "theme(axis_text_x=element_text(rotation=45, hjust=1)) +\n",
    "labs(x=\"Predictor Variables\", y=\"Coefficient Value\", \n",
    "     title=\"Coefficients of the Best Model\"))"
   ]
  }
 ],
 "metadata": {
  "language_info": {
   "name": "raw"
  }
 },
 "nbformat": 4,
 "nbformat_minor": 2
}

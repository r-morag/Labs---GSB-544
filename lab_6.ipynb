{
 "cells": [
  {
   "cell_type": "raw",
   "metadata": {},
   "source": [
    "---\n",
    "title: \"Lab 6 - Baseball\"\n",
    "author: \"Roee Morag\"\n",
    "date: \"2024-11-08\"\n",
    "output: \n",
    "  html_document:\n",
    "    theme: \"cosmo\" \n",
    "embed-resources: true\n",
    "--- "
   ]
  },
  {
   "cell_type": "code",
   "execution_count": 160,
   "metadata": {
    "vscode": {
     "languageId": "python"
    }
   },
   "outputs": [],
   "source": [
    "import pandas as pd\n",
    "import numpy as np"
   ]
  },
  {
   "cell_type": "code",
   "execution_count": 161,
   "metadata": {
    "vscode": {
     "languageId": "python"
    }
   },
   "outputs": [],
   "source": [
    "import pandas as pd\n",
    "import numpy as np\n",
    "from sklearn.pipeline import Pipeline\n",
    "from sklearn.compose import make_column_selector, ColumnTransformer\n",
    "from sklearn.preprocessing import StandardScaler, OneHotEncoder, PolynomialFeatures\n",
    "from sklearn.linear_model import LinearRegression, Ridge, Lasso, ElasticNet \n",
    "from sklearn.model_selection import train_test_split, cross_val_score\n",
    "from sklearn.metrics import r2_score\n",
    "from sklearn.model_selection import GridSearchCV"
   ]
  },
  {
   "cell_type": "markdown",
   "metadata": {},
   "source": [
    "**Data Cleaning**"
   ]
  },
  {
   "cell_type": "code",
   "execution_count": 162,
   "metadata": {
    "vscode": {
     "languageId": "python"
    }
   },
   "outputs": [],
   "source": [
    "df_baseball = pd.read_csv(\"Hitters.csv\")"
   ]
  },
  {
   "cell_type": "code",
   "execution_count": 163,
   "metadata": {
    "vscode": {
     "languageId": "python"
    }
   },
   "outputs": [
    {
     "data": {
      "text/html": [
       "<div>\n",
       "<style scoped>\n",
       "    .dataframe tbody tr th:only-of-type {\n",
       "        vertical-align: middle;\n",
       "    }\n",
       "\n",
       "    .dataframe tbody tr th {\n",
       "        vertical-align: top;\n",
       "    }\n",
       "\n",
       "    .dataframe thead th {\n",
       "        text-align: right;\n",
       "    }\n",
       "</style>\n",
       "<table border=\"1\" class=\"dataframe\">\n",
       "  <thead>\n",
       "    <tr style=\"text-align: right;\">\n",
       "      <th></th>\n",
       "      <th>AtBat</th>\n",
       "      <th>Hits</th>\n",
       "      <th>HmRun</th>\n",
       "      <th>Runs</th>\n",
       "      <th>RBI</th>\n",
       "      <th>Walks</th>\n",
       "      <th>Years</th>\n",
       "      <th>CAtBat</th>\n",
       "      <th>CHits</th>\n",
       "      <th>CHmRun</th>\n",
       "      <th>CRuns</th>\n",
       "      <th>CRBI</th>\n",
       "      <th>CWalks</th>\n",
       "      <th>League</th>\n",
       "      <th>Division</th>\n",
       "      <th>PutOuts</th>\n",
       "      <th>Assists</th>\n",
       "      <th>Errors</th>\n",
       "      <th>Salary</th>\n",
       "      <th>NewLeague</th>\n",
       "    </tr>\n",
       "  </thead>\n",
       "  <tbody>\n",
       "    <tr>\n",
       "      <th>0</th>\n",
       "      <td>293</td>\n",
       "      <td>66</td>\n",
       "      <td>1</td>\n",
       "      <td>30</td>\n",
       "      <td>29</td>\n",
       "      <td>14</td>\n",
       "      <td>1</td>\n",
       "      <td>293</td>\n",
       "      <td>66</td>\n",
       "      <td>1</td>\n",
       "      <td>30</td>\n",
       "      <td>29</td>\n",
       "      <td>14</td>\n",
       "      <td>A</td>\n",
       "      <td>E</td>\n",
       "      <td>446</td>\n",
       "      <td>33</td>\n",
       "      <td>20</td>\n",
       "      <td>NaN</td>\n",
       "      <td>A</td>\n",
       "    </tr>\n",
       "    <tr>\n",
       "      <th>1</th>\n",
       "      <td>315</td>\n",
       "      <td>81</td>\n",
       "      <td>7</td>\n",
       "      <td>24</td>\n",
       "      <td>38</td>\n",
       "      <td>39</td>\n",
       "      <td>14</td>\n",
       "      <td>3449</td>\n",
       "      <td>835</td>\n",
       "      <td>69</td>\n",
       "      <td>321</td>\n",
       "      <td>414</td>\n",
       "      <td>375</td>\n",
       "      <td>N</td>\n",
       "      <td>W</td>\n",
       "      <td>632</td>\n",
       "      <td>43</td>\n",
       "      <td>10</td>\n",
       "      <td>475.0</td>\n",
       "      <td>N</td>\n",
       "    </tr>\n",
       "    <tr>\n",
       "      <th>2</th>\n",
       "      <td>479</td>\n",
       "      <td>130</td>\n",
       "      <td>18</td>\n",
       "      <td>66</td>\n",
       "      <td>72</td>\n",
       "      <td>76</td>\n",
       "      <td>3</td>\n",
       "      <td>1624</td>\n",
       "      <td>457</td>\n",
       "      <td>63</td>\n",
       "      <td>224</td>\n",
       "      <td>266</td>\n",
       "      <td>263</td>\n",
       "      <td>A</td>\n",
       "      <td>W</td>\n",
       "      <td>880</td>\n",
       "      <td>82</td>\n",
       "      <td>14</td>\n",
       "      <td>480.0</td>\n",
       "      <td>A</td>\n",
       "    </tr>\n",
       "    <tr>\n",
       "      <th>3</th>\n",
       "      <td>496</td>\n",
       "      <td>141</td>\n",
       "      <td>20</td>\n",
       "      <td>65</td>\n",
       "      <td>78</td>\n",
       "      <td>37</td>\n",
       "      <td>11</td>\n",
       "      <td>5628</td>\n",
       "      <td>1575</td>\n",
       "      <td>225</td>\n",
       "      <td>828</td>\n",
       "      <td>838</td>\n",
       "      <td>354</td>\n",
       "      <td>N</td>\n",
       "      <td>E</td>\n",
       "      <td>200</td>\n",
       "      <td>11</td>\n",
       "      <td>3</td>\n",
       "      <td>500.0</td>\n",
       "      <td>N</td>\n",
       "    </tr>\n",
       "    <tr>\n",
       "      <th>4</th>\n",
       "      <td>321</td>\n",
       "      <td>87</td>\n",
       "      <td>10</td>\n",
       "      <td>39</td>\n",
       "      <td>42</td>\n",
       "      <td>30</td>\n",
       "      <td>2</td>\n",
       "      <td>396</td>\n",
       "      <td>101</td>\n",
       "      <td>12</td>\n",
       "      <td>48</td>\n",
       "      <td>46</td>\n",
       "      <td>33</td>\n",
       "      <td>N</td>\n",
       "      <td>E</td>\n",
       "      <td>805</td>\n",
       "      <td>40</td>\n",
       "      <td>4</td>\n",
       "      <td>91.5</td>\n",
       "      <td>N</td>\n",
       "    </tr>\n",
       "  </tbody>\n",
       "</table>\n",
       "</div>"
      ],
      "text/plain": [
       "   AtBat  Hits  HmRun  Runs  RBI  ...  PutOuts  Assists  Errors  Salary  NewLeague\n",
       "0    293    66      1    30   29  ...      446       33      20     NaN          A\n",
       "1    315    81      7    24   38  ...      632       43      10   475.0          N\n",
       "2    479   130     18    66   72  ...      880       82      14   480.0          A\n",
       "3    496   141     20    65   78  ...      200       11       3   500.0          N\n",
       "4    321    87     10    39   42  ...      805       40       4    91.5          N\n",
       "\n",
       "[5 rows x 20 columns]"
      ]
     },
     "execution_count": null,
     "metadata": {},
     "output_type": "execute_result"
    }
   ],
   "source": [
    "df_baseball.head()"
   ]
  },
  {
   "cell_type": "markdown",
   "metadata": {},
   "source": [
    "We have missing data in the salary column. There are several routes we could take here. If we really prioritized each data point, and we assumed that the NAs in salary are randomly distributed in the population, we could treat the observations with missing salaries as the test data and fit the model on the other data.\n",
    "\n",
    "However, in this case, we want to tune our model using GridSearch() so we want to remove all NAs, because cross-validation uses all points from our dataset as training and test data."
   ]
  },
  {
   "cell_type": "code",
   "execution_count": 164,
   "metadata": {
    "vscode": {
     "languageId": "python"
    }
   },
   "outputs": [
    {
     "data": {
      "text/plain": [
       "59"
      ]
     },
     "execution_count": null,
     "metadata": {},
     "output_type": "execute_result"
    }
   ],
   "source": [
    "df_baseball[\"Salary\"].isna().sum()"
   ]
  },
  {
   "cell_type": "code",
   "execution_count": 165,
   "metadata": {
    "vscode": {
     "languageId": "python"
    }
   },
   "outputs": [
    {
     "data": {
      "text/plain": [
       "263"
      ]
     },
     "execution_count": null,
     "metadata": {},
     "output_type": "execute_result"
    }
   ],
   "source": [
    "# I am aware I am dropping 59 observations with dropna().\n",
    "\n",
    "df_baseball = df_baseball.dropna(subset=[\"Salary\"])\n",
    "len(df_baseball)"
   ]
  },
  {
   "cell_type": "markdown",
   "metadata": {},
   "source": [
    "**Part I: Different Model Specs**\n",
    "\n",
    "A. Regression without regularization"
   ]
  },
  {
   "cell_type": "code",
   "execution_count": 166,
   "metadata": {
    "vscode": {
     "languageId": "python"
    }
   },
   "outputs": [],
   "source": [
    "X = df_baseball.drop(\"Salary\", axis = 1)\n",
    "y = df_baseball[\"Salary\"]"
   ]
  },
  {
   "cell_type": "code",
   "execution_count": 167,
   "metadata": {
    "vscode": {
     "languageId": "python"
    }
   },
   "outputs": [],
   "source": [
    "def roee_pipeline(model=LinearRegression()):\n",
    "  \"\"\"\n",
    "  Creates a pipeline that dummifies the categorical variables and standardizes the numerical.\n",
    "  \n",
    "  Parameters\n",
    "  ----------\n",
    "  model: a sci-kit learn function\n",
    "    model specification\n",
    "    \n",
    "  Return\n",
    "  ------\n",
    "  fit pipeline\n",
    "  \"\"\"\n",
    "\n",
    "  ct = ColumnTransformer(\n",
    "    [\n",
    "      (\"dummify\", \n",
    "      OneHotEncoder(sparse_output = False, handle_unknown='ignore', drop=\"first\"),\n",
    "      make_column_selector(dtype_include=object)),\n",
    "      (\"standardize\", \n",
    "      StandardScaler(), \n",
    "      make_column_selector(dtype_include=np.number))\n",
    "    ],\n",
    "    remainder = \"passthrough\"\n",
    "  )\n",
    "\n",
    "  pipeline = Pipeline(\n",
    "    [(\"preprocessing\", ct),\n",
    "    (\"model\", model)])\n",
    "    \n",
    "  return pipeline"
   ]
  },
  {
   "cell_type": "code",
   "execution_count": 168,
   "metadata": {
    "vscode": {
     "languageId": "python"
    }
   },
   "outputs": [],
   "source": [
    "def get_coefficients(dataset, model=LinearRegression()):\n",
    "  \"\"\"\n",
    "  Creates a pipeline that dummifies the categorical variables and standardizes the numerical.\n",
    "  \n",
    "  Parameters\n",
    "  ----------\n",
    "  model: a sci-kit learn function\n",
    "    model specification\n",
    "    \n",
    "  Return\n",
    "  ------\n",
    "  coefficients\n",
    "  \"\"\"\n",
    "  X = dataset.drop(\"Salary\", axis = 1)\n",
    "  y = dataset[\"Salary\"]\n",
    "  \n",
    "  ct = ColumnTransformer(\n",
    "    [\n",
    "      (\"dummify\", \n",
    "      OneHotEncoder(sparse_output = False, handle_unknown='ignore', drop=\"first\"),\n",
    "      make_column_selector(dtype_include=object)),\n",
    "      (\"standardize\", \n",
    "      StandardScaler(), \n",
    "      make_column_selector(dtype_include=np.number))\n",
    "    ],\n",
    "    remainder = \"passthrough\"\n",
    "  )\n",
    "\n",
    "  pipeline = Pipeline(\n",
    "    [(\"preprocessing\", ct),\n",
    "    (\"model\", model)]).set_output(transform=\"pandas\")\n",
    "\n",
    "  pipeline_fit = pipeline.fit(X, y)\n",
    "  coefficients = pipeline.named_steps['model'].coef_\n",
    "  var_names = ct.fit_transform(X).columns\n",
    "\n",
    "  df_coef = pd.DataFrame({\n",
    "    \"Predictor\": var_names,\n",
    "    \"Coefficient\": coefficients\n",
    "  }).sort_values(by=\"Coefficient\", ascending=False)\n",
    "\n",
    "  return df_coef"
   ]
  },
  {
   "cell_type": "code",
   "execution_count": 169,
   "metadata": {
    "vscode": {
     "languageId": "python"
    }
   },
   "outputs": [
    {
     "data": {
      "text/html": [
       "<div>\n",
       "<style scoped>\n",
       "    .dataframe tbody tr th:only-of-type {\n",
       "        vertical-align: middle;\n",
       "    }\n",
       "\n",
       "    .dataframe tbody tr th {\n",
       "        vertical-align: top;\n",
       "    }\n",
       "\n",
       "    .dataframe thead th {\n",
       "        text-align: right;\n",
       "    }\n",
       "</style>\n",
       "<table border=\"1\" class=\"dataframe\">\n",
       "  <thead>\n",
       "    <tr style=\"text-align: right;\">\n",
       "      <th></th>\n",
       "      <th>Predictor</th>\n",
       "      <th>Coefficient</th>\n",
       "    </tr>\n",
       "  </thead>\n",
       "  <tbody>\n",
       "    <tr>\n",
       "      <th>13</th>\n",
       "      <td>standardize__CRuns</td>\n",
       "      <td>480.747135</td>\n",
       "    </tr>\n",
       "    <tr>\n",
       "      <th>4</th>\n",
       "      <td>standardize__Hits</td>\n",
       "      <td>337.830479</td>\n",
       "    </tr>\n",
       "    <tr>\n",
       "      <th>14</th>\n",
       "      <td>standardize__CRBI</td>\n",
       "      <td>260.689886</td>\n",
       "    </tr>\n",
       "    <tr>\n",
       "      <th>8</th>\n",
       "      <td>standardize__Walks</td>\n",
       "      <td>135.073897</td>\n",
       "    </tr>\n",
       "    <tr>\n",
       "      <th>11</th>\n",
       "      <td>standardize__CHits</td>\n",
       "      <td>86.687617</td>\n",
       "    </tr>\n",
       "    <tr>\n",
       "      <th>16</th>\n",
       "      <td>standardize__PutOuts</td>\n",
       "      <td>78.761296</td>\n",
       "    </tr>\n",
       "    <tr>\n",
       "      <th>0</th>\n",
       "      <td>dummify__League_N</td>\n",
       "      <td>62.599423</td>\n",
       "    </tr>\n",
       "    <tr>\n",
       "      <th>17</th>\n",
       "      <td>standardize__Assists</td>\n",
       "      <td>53.732490</td>\n",
       "    </tr>\n",
       "    <tr>\n",
       "      <th>5</th>\n",
       "      <td>standardize__HmRun</td>\n",
       "      <td>37.853837</td>\n",
       "    </tr>\n",
       "    <tr>\n",
       "      <th>12</th>\n",
       "      <td>standardize__CHmRun</td>\n",
       "      <td>-14.181723</td>\n",
       "    </tr>\n",
       "    <tr>\n",
       "      <th>9</th>\n",
       "      <td>standardize__Years</td>\n",
       "      <td>-16.693359</td>\n",
       "    </tr>\n",
       "    <tr>\n",
       "      <th>18</th>\n",
       "      <td>standardize__Errors</td>\n",
       "      <td>-22.160862</td>\n",
       "    </tr>\n",
       "    <tr>\n",
       "      <th>2</th>\n",
       "      <td>dummify__NewLeague_N</td>\n",
       "      <td>-24.762325</td>\n",
       "    </tr>\n",
       "    <tr>\n",
       "      <th>7</th>\n",
       "      <td>standardize__RBI</td>\n",
       "      <td>-26.994984</td>\n",
       "    </tr>\n",
       "    <tr>\n",
       "      <th>6</th>\n",
       "      <td>standardize__Runs</td>\n",
       "      <td>-60.572479</td>\n",
       "    </tr>\n",
       "    <tr>\n",
       "      <th>1</th>\n",
       "      <td>dummify__Division_W</td>\n",
       "      <td>-116.849246</td>\n",
       "    </tr>\n",
       "    <tr>\n",
       "      <th>15</th>\n",
       "      <td>standardize__CWalks</td>\n",
       "      <td>-213.892259</td>\n",
       "    </tr>\n",
       "    <tr>\n",
       "      <th>3</th>\n",
       "      <td>standardize__AtBat</td>\n",
       "      <td>-291.094556</td>\n",
       "    </tr>\n",
       "    <tr>\n",
       "      <th>10</th>\n",
       "      <td>standardize__CAtBat</td>\n",
       "      <td>-391.038655</td>\n",
       "    </tr>\n",
       "  </tbody>\n",
       "</table>\n",
       "</div>"
      ],
      "text/plain": [
       "               Predictor  Coefficient\n",
       "13    standardize__CRuns   480.747135\n",
       "4      standardize__Hits   337.830479\n",
       "14     standardize__CRBI   260.689886\n",
       "8     standardize__Walks   135.073897\n",
       "11    standardize__CHits    86.687617\n",
       "16  standardize__PutOuts    78.761296\n",
       "0      dummify__League_N    62.599423\n",
       "17  standardize__Assists    53.732490\n",
       "5     standardize__HmRun    37.853837\n",
       "12   standardize__CHmRun   -14.181723\n",
       "9     standardize__Years   -16.693359\n",
       "18   standardize__Errors   -22.160862\n",
       "2   dummify__NewLeague_N   -24.762325\n",
       "7       standardize__RBI   -26.994984\n",
       "6      standardize__Runs   -60.572479\n",
       "1    dummify__Division_W  -116.849246\n",
       "15   standardize__CWalks  -213.892259\n",
       "3     standardize__AtBat  -291.094556\n",
       "10   standardize__CAtBat  -391.038655"
      ]
     },
     "execution_count": null,
     "metadata": {},
     "output_type": "execute_result"
    }
   ],
   "source": [
    "get_coefficients(dataset=df_baseball)"
   ]
  },
  {
   "cell_type": "code",
   "execution_count": 170,
   "metadata": {
    "vscode": {
     "languageId": "python"
    }
   },
   "outputs": [
    {
     "data": {
      "text/plain": [
       "331.19857059564885"
      ]
     },
     "execution_count": null,
     "metadata": {},
     "output_type": "execute_result"
    }
   ],
   "source": [
    "df_baseball[\"CRuns\"].std()"
   ]
  },
  {
   "cell_type": "code",
   "execution_count": 171,
   "metadata": {
    "vscode": {
     "languageId": "python"
    }
   },
   "outputs": [
    {
     "data": {
      "text/plain": [
       "45.12532592258135"
      ]
     },
     "execution_count": null,
     "metadata": {},
     "output_type": "execute_result"
    }
   ],
   "source": [
    "df_baseball[\"Hits\"].std()"
   ]
  },
  {
   "cell_type": "code",
   "execution_count": 172,
   "metadata": {
    "vscode": {
     "languageId": "python"
    }
   },
   "outputs": [
    {
     "data": {
      "text/plain": [
       "323.3676681827309"
      ]
     },
     "execution_count": null,
     "metadata": {},
     "output_type": "execute_result"
    }
   ],
   "source": [
    "df_baseball[\"CRBI\"].std()"
   ]
  },
  {
   "cell_type": "markdown",
   "metadata": {},
   "source": [
    "Career runs, hits in the previous season, and career RBIs are the most significant coefficients by magnitude. \n",
    "\n",
    "One standard deviation increase in career runs, 331, is associated with an average increase of $480,000 in salary, holding all other variables constant.\n",
    "\n",
    "One standard deviation increase in hits from the previous season, 45, is associated with an average increase of $337,000 in salary, holding all other variables constant.\n",
    "\n",
    "One standard deviation increase in career RBIs, 323, is associated with an average increase of $260,000 in salary, holding all other variables constant."
   ]
  },
  {
   "cell_type": "code",
   "execution_count": 173,
   "metadata": {
    "vscode": {
     "languageId": "python"
    }
   },
   "outputs": [
    {
     "data": {
      "text/plain": [
       "121136.31031816879"
      ]
     },
     "execution_count": null,
     "metadata": {},
     "output_type": "execute_result"
    }
   ],
   "source": [
    "linear_pipeline = roee_pipeline()\n",
    "cross_val_score(linear_pipeline, X, y, cv = 5, scoring = \"neg_mean_squared_error\").mean() * -1"
   ]
  },
  {
   "cell_type": "markdown",
   "metadata": {},
   "source": [
    "B. Ridge Regression"
   ]
  },
  {
   "cell_type": "code",
   "execution_count": 174,
   "metadata": {
    "vscode": {
     "languageId": "python"
    }
   },
   "outputs": [],
   "source": [
    "def grid_search_df(dataset, pipeline, model = \"ridge\"):\n",
    "  \"\"\"\n",
    "  Tunes the model and outputs a Data Frame\n",
    "  \n",
    "  Parameters\n",
    "  ----------\n",
    "  pipeline: a sci-kit learn Pipeline object\n",
    "  \n",
    "  model: str\n",
    "  can be \"linear\", \"ridge\", \"lasso\", \"elastic\"\n",
    "\n",
    "  dataset: pandas Data Frame\n",
    "    \n",
    "  Return\n",
    "  ------\n",
    "  coefficients\n",
    "  \"\"\"\n",
    "  X = dataset.drop(\"Salary\", axis = 1)\n",
    "  y = dataset[\"Salary\"]\n",
    "\n",
    "  if model == \"elastic\":\n",
    "    alphas = {\n",
    "    'model__l1_ratio': [0.2, 0.4, 0.6, 0.8],\n",
    "    'model__alpha': [0.01, 0.1, 1, 10]\n",
    "    }\n",
    "  \n",
    "  else:\n",
    "    alphas = {\n",
    "    'model__alpha': [0.001, 0.01, 0.1, 1, 10]\n",
    "    }\n",
    "\n",
    "  gscv = GridSearchCV(pipeline, alphas, cv=5, scoring='neg_mean_squared_error')\n",
    "\n",
    "  gscv_fitted = gscv.fit(X, y)\n",
    "\n",
    "  params_df = pd.DataFrame(gscv_fitted.cv_results_[\"params\"])\n",
    "  results_df = params_df.assign(scores=gscv_fitted.cv_results_[\"mean_test_score\"])\n",
    "\n",
    "  results_df[\"scores\"] = results_df[\"scores\"] * -1\n",
    "  return results_df.sort_values(by=\"scores\", ascending=True)"
   ]
  },
  {
   "cell_type": "code",
   "execution_count": 175,
   "metadata": {
    "vscode": {
     "languageId": "python"
    }
   },
   "outputs": [
    {
     "data": {
      "text/html": [
       "<div>\n",
       "<style scoped>\n",
       "    .dataframe tbody tr th:only-of-type {\n",
       "        vertical-align: middle;\n",
       "    }\n",
       "\n",
       "    .dataframe tbody tr th {\n",
       "        vertical-align: top;\n",
       "    }\n",
       "\n",
       "    .dataframe thead th {\n",
       "        text-align: right;\n",
       "    }\n",
       "</style>\n",
       "<table border=\"1\" class=\"dataframe\">\n",
       "  <thead>\n",
       "    <tr style=\"text-align: right;\">\n",
       "      <th></th>\n",
       "      <th>model__alpha</th>\n",
       "      <th>scores</th>\n",
       "    </tr>\n",
       "  </thead>\n",
       "  <tbody>\n",
       "    <tr>\n",
       "      <th>3</th>\n",
       "      <td>1.000</td>\n",
       "      <td>119034.332720</td>\n",
       "    </tr>\n",
       "    <tr>\n",
       "      <th>4</th>\n",
       "      <td>10.000</td>\n",
       "      <td>119073.956166</td>\n",
       "    </tr>\n",
       "    <tr>\n",
       "      <th>2</th>\n",
       "      <td>0.100</td>\n",
       "      <td>120329.936014</td>\n",
       "    </tr>\n",
       "    <tr>\n",
       "      <th>1</th>\n",
       "      <td>0.010</td>\n",
       "      <td>121021.508944</td>\n",
       "    </tr>\n",
       "    <tr>\n",
       "      <th>0</th>\n",
       "      <td>0.001</td>\n",
       "      <td>121124.318914</td>\n",
       "    </tr>\n",
       "  </tbody>\n",
       "</table>\n",
       "</div>"
      ],
      "text/plain": [
       "   model__alpha         scores\n",
       "3         1.000  119034.332720\n",
       "4        10.000  119073.956166\n",
       "2         0.100  120329.936014\n",
       "1         0.010  121021.508944\n",
       "0         0.001  121124.318914"
      ]
     },
     "execution_count": null,
     "metadata": {},
     "output_type": "execute_result"
    }
   ],
   "source": [
    "ridge_pipeline = roee_pipeline(model=Ridge())\n",
    "df_tuned_ridge = grid_search_df(pipeline=ridge_pipeline, model=\"ridge\", dataset=df_baseball)\n",
    "df_tuned_ridge"
   ]
  },
  {
   "cell_type": "markdown",
   "metadata": {},
   "source": [
    "2. The chosen lambda is 1."
   ]
  },
  {
   "cell_type": "code",
   "execution_count": 176,
   "metadata": {
    "vscode": {
     "languageId": "python"
    }
   },
   "outputs": [
    {
     "data": {
      "text/html": [
       "<div>\n",
       "<style scoped>\n",
       "    .dataframe tbody tr th:only-of-type {\n",
       "        vertical-align: middle;\n",
       "    }\n",
       "\n",
       "    .dataframe tbody tr th {\n",
       "        vertical-align: top;\n",
       "    }\n",
       "\n",
       "    .dataframe thead th {\n",
       "        text-align: right;\n",
       "    }\n",
       "</style>\n",
       "<table border=\"1\" class=\"dataframe\">\n",
       "  <thead>\n",
       "    <tr style=\"text-align: right;\">\n",
       "      <th></th>\n",
       "      <th>Predictor</th>\n",
       "      <th>Coefficient</th>\n",
       "    </tr>\n",
       "  </thead>\n",
       "  <tbody>\n",
       "    <tr>\n",
       "      <th>13</th>\n",
       "      <td>standardize__CRuns</td>\n",
       "      <td>320.802717</td>\n",
       "    </tr>\n",
       "    <tr>\n",
       "      <th>4</th>\n",
       "      <td>standardize__Hits</td>\n",
       "      <td>296.801967</td>\n",
       "    </tr>\n",
       "    <tr>\n",
       "      <th>14</th>\n",
       "      <td>standardize__CRBI</td>\n",
       "      <td>160.409497</td>\n",
       "    </tr>\n",
       "    <tr>\n",
       "      <th>11</th>\n",
       "      <td>standardize__CHits</td>\n",
       "      <td>126.210585</td>\n",
       "    </tr>\n",
       "    <tr>\n",
       "      <th>8</th>\n",
       "      <td>standardize__Walks</td>\n",
       "      <td>124.344012</td>\n",
       "    </tr>\n",
       "    <tr>\n",
       "      <th>16</th>\n",
       "      <td>standardize__PutOuts</td>\n",
       "      <td>78.651037</td>\n",
       "    </tr>\n",
       "    <tr>\n",
       "      <th>0</th>\n",
       "      <td>dummify__League_N</td>\n",
       "      <td>58.555947</td>\n",
       "    </tr>\n",
       "    <tr>\n",
       "      <th>17</th>\n",
       "      <td>standardize__Assists</td>\n",
       "      <td>47.493631</td>\n",
       "    </tr>\n",
       "    <tr>\n",
       "      <th>12</th>\n",
       "      <td>standardize__CHmRun</td>\n",
       "      <td>39.055346</td>\n",
       "    </tr>\n",
       "    <tr>\n",
       "      <th>5</th>\n",
       "      <td>standardize__HmRun</td>\n",
       "      <td>17.973971</td>\n",
       "    </tr>\n",
       "    <tr>\n",
       "      <th>7</th>\n",
       "      <td>standardize__RBI</td>\n",
       "      <td>-8.909304</td>\n",
       "    </tr>\n",
       "    <tr>\n",
       "      <th>18</th>\n",
       "      <td>standardize__Errors</td>\n",
       "      <td>-23.651303</td>\n",
       "    </tr>\n",
       "    <tr>\n",
       "      <th>2</th>\n",
       "      <td>dummify__NewLeague_N</td>\n",
       "      <td>-24.027205</td>\n",
       "    </tr>\n",
       "    <tr>\n",
       "      <th>6</th>\n",
       "      <td>standardize__Runs</td>\n",
       "      <td>-29.212352</td>\n",
       "    </tr>\n",
       "    <tr>\n",
       "      <th>9</th>\n",
       "      <td>standardize__Years</td>\n",
       "      <td>-38.619131</td>\n",
       "    </tr>\n",
       "    <tr>\n",
       "      <th>1</th>\n",
       "      <td>dummify__Division_W</td>\n",
       "      <td>-119.076927</td>\n",
       "    </tr>\n",
       "    <tr>\n",
       "      <th>15</th>\n",
       "      <td>standardize__CWalks</td>\n",
       "      <td>-184.289408</td>\n",
       "    </tr>\n",
       "    <tr>\n",
       "      <th>10</th>\n",
       "      <td>standardize__CAtBat</td>\n",
       "      <td>-225.511649</td>\n",
       "    </tr>\n",
       "    <tr>\n",
       "      <th>3</th>\n",
       "      <td>standardize__AtBat</td>\n",
       "      <td>-271.088165</td>\n",
       "    </tr>\n",
       "  </tbody>\n",
       "</table>\n",
       "</div>"
      ],
      "text/plain": [
       "               Predictor  Coefficient\n",
       "13    standardize__CRuns   320.802717\n",
       "4      standardize__Hits   296.801967\n",
       "14     standardize__CRBI   160.409497\n",
       "11    standardize__CHits   126.210585\n",
       "8     standardize__Walks   124.344012\n",
       "16  standardize__PutOuts    78.651037\n",
       "0      dummify__League_N    58.555947\n",
       "17  standardize__Assists    47.493631\n",
       "12   standardize__CHmRun    39.055346\n",
       "5     standardize__HmRun    17.973971\n",
       "7       standardize__RBI    -8.909304\n",
       "18   standardize__Errors   -23.651303\n",
       "2   dummify__NewLeague_N   -24.027205\n",
       "6      standardize__Runs   -29.212352\n",
       "9     standardize__Years   -38.619131\n",
       "1    dummify__Division_W  -119.076927\n",
       "15   standardize__CWalks  -184.289408\n",
       "10   standardize__CAtBat  -225.511649\n",
       "3     standardize__AtBat  -271.088165"
      ]
     },
     "execution_count": null,
     "metadata": {},
     "output_type": "execute_result"
    }
   ],
   "source": [
    "ridge_coef = get_coefficients(dataset=df_baseball, model=Ridge(alpha=1))\n",
    "ridge_coef"
   ]
  },
  {
   "cell_type": "markdown",
   "metadata": {},
   "source": [
    "Career runs, hits in the previous season, and career RBIs are the most significant coefficients by magnitude. \n",
    "\n",
    "One standard deviation increase in career runs, 331, is associated with an average increase of $320,000 in salary, holding all other variables constant.\n",
    "\n",
    "One standard deviation increase in hits from the previous season, 45, is associated with an average increase of $296,000 in salary, holding all other variables constant.\n",
    "\n",
    "One standard deviation increase in career RBIs, 323, is associated with an average increase of $160,000 in salary, holding all other variables constant."
   ]
  },
  {
   "cell_type": "markdown",
   "metadata": {},
   "source": [
    "4. With the tuning procedure on this data using Ridge Regression, the lowest MSE (with a lambda value of 0.1) is 119,034.33."
   ]
  },
  {
   "cell_type": "markdown",
   "metadata": {},
   "source": [
    "C. Lasso Regression"
   ]
  },
  {
   "cell_type": "code",
   "execution_count": 177,
   "metadata": {
    "vscode": {
     "languageId": "python"
    }
   },
   "outputs": [
    {
     "data": {
      "text/html": [
       "<div>\n",
       "<style scoped>\n",
       "    .dataframe tbody tr th:only-of-type {\n",
       "        vertical-align: middle;\n",
       "    }\n",
       "\n",
       "    .dataframe tbody tr th {\n",
       "        vertical-align: top;\n",
       "    }\n",
       "\n",
       "    .dataframe thead th {\n",
       "        text-align: right;\n",
       "    }\n",
       "</style>\n",
       "<table border=\"1\" class=\"dataframe\">\n",
       "  <thead>\n",
       "    <tr style=\"text-align: right;\">\n",
       "      <th></th>\n",
       "      <th>model__alpha</th>\n",
       "      <th>scores</th>\n",
       "    </tr>\n",
       "  </thead>\n",
       "  <tbody>\n",
       "    <tr>\n",
       "      <th>3</th>\n",
       "      <td>1.000</td>\n",
       "      <td>119758.108873</td>\n",
       "    </tr>\n",
       "    <tr>\n",
       "      <th>2</th>\n",
       "      <td>0.100</td>\n",
       "      <td>120758.508162</td>\n",
       "    </tr>\n",
       "    <tr>\n",
       "      <th>1</th>\n",
       "      <td>0.010</td>\n",
       "      <td>121096.159270</td>\n",
       "    </tr>\n",
       "    <tr>\n",
       "      <th>0</th>\n",
       "      <td>0.001</td>\n",
       "      <td>121132.276754</td>\n",
       "    </tr>\n",
       "    <tr>\n",
       "      <th>4</th>\n",
       "      <td>10.000</td>\n",
       "      <td>121828.141333</td>\n",
       "    </tr>\n",
       "  </tbody>\n",
       "</table>\n",
       "</div>"
      ],
      "text/plain": [
       "   model__alpha         scores\n",
       "3         1.000  119758.108873\n",
       "2         0.100  120758.508162\n",
       "1         0.010  121096.159270\n",
       "0         0.001  121132.276754\n",
       "4        10.000  121828.141333"
      ]
     },
     "execution_count": null,
     "metadata": {},
     "output_type": "execute_result"
    }
   ],
   "source": [
    "lasso_pipeline = roee_pipeline(model=Lasso(max_iter=100000))\n",
    "df_tuned_lasso = grid_search_df(pipeline=lasso_pipeline, model=\"lasso\", dataset=df_baseball)\n",
    "df_tuned_lasso"
   ]
  },
  {
   "cell_type": "markdown",
   "metadata": {},
   "source": [
    "2. The best lambda is 1."
   ]
  },
  {
   "cell_type": "code",
   "execution_count": 178,
   "metadata": {
    "vscode": {
     "languageId": "python"
    }
   },
   "outputs": [
    {
     "data": {
      "text/html": [
       "<div>\n",
       "<style scoped>\n",
       "    .dataframe tbody tr th:only-of-type {\n",
       "        vertical-align: middle;\n",
       "    }\n",
       "\n",
       "    .dataframe tbody tr th {\n",
       "        vertical-align: top;\n",
       "    }\n",
       "\n",
       "    .dataframe thead th {\n",
       "        text-align: right;\n",
       "    }\n",
       "</style>\n",
       "<table border=\"1\" class=\"dataframe\">\n",
       "  <thead>\n",
       "    <tr style=\"text-align: right;\">\n",
       "      <th></th>\n",
       "      <th>Predictor</th>\n",
       "      <th>Coefficient</th>\n",
       "    </tr>\n",
       "  </thead>\n",
       "  <tbody>\n",
       "    <tr>\n",
       "      <th>13</th>\n",
       "      <td>standardize__CRuns</td>\n",
       "      <td>375.565519</td>\n",
       "    </tr>\n",
       "    <tr>\n",
       "      <th>4</th>\n",
       "      <td>standardize__Hits</td>\n",
       "      <td>304.359509</td>\n",
       "    </tr>\n",
       "    <tr>\n",
       "      <th>14</th>\n",
       "      <td>standardize__CRBI</td>\n",
       "      <td>192.610892</td>\n",
       "    </tr>\n",
       "    <tr>\n",
       "      <th>8</th>\n",
       "      <td>standardize__Walks</td>\n",
       "      <td>120.695275</td>\n",
       "    </tr>\n",
       "    <tr>\n",
       "      <th>16</th>\n",
       "      <td>standardize__PutOuts</td>\n",
       "      <td>78.760366</td>\n",
       "    </tr>\n",
       "    <tr>\n",
       "      <th>17</th>\n",
       "      <td>standardize__Assists</td>\n",
       "      <td>41.996680</td>\n",
       "    </tr>\n",
       "    <tr>\n",
       "      <th>0</th>\n",
       "      <td>dummify__League_N</td>\n",
       "      <td>35.826072</td>\n",
       "    </tr>\n",
       "    <tr>\n",
       "      <th>12</th>\n",
       "      <td>standardize__CHmRun</td>\n",
       "      <td>14.225993</td>\n",
       "    </tr>\n",
       "    <tr>\n",
       "      <th>5</th>\n",
       "      <td>standardize__HmRun</td>\n",
       "      <td>11.127022</td>\n",
       "    </tr>\n",
       "    <tr>\n",
       "      <th>2</th>\n",
       "      <td>dummify__NewLeague_N</td>\n",
       "      <td>-0.000000</td>\n",
       "    </tr>\n",
       "    <tr>\n",
       "      <th>7</th>\n",
       "      <td>standardize__RBI</td>\n",
       "      <td>-0.000000</td>\n",
       "    </tr>\n",
       "    <tr>\n",
       "      <th>11</th>\n",
       "      <td>standardize__CHits</td>\n",
       "      <td>0.000000</td>\n",
       "    </tr>\n",
       "    <tr>\n",
       "      <th>18</th>\n",
       "      <td>standardize__Errors</td>\n",
       "      <td>-18.479378</td>\n",
       "    </tr>\n",
       "    <tr>\n",
       "      <th>6</th>\n",
       "      <td>standardize__Runs</td>\n",
       "      <td>-24.966507</td>\n",
       "    </tr>\n",
       "    <tr>\n",
       "      <th>9</th>\n",
       "      <td>standardize__Years</td>\n",
       "      <td>-34.948148</td>\n",
       "    </tr>\n",
       "    <tr>\n",
       "      <th>1</th>\n",
       "      <td>dummify__Division_W</td>\n",
       "      <td>-114.412951</td>\n",
       "    </tr>\n",
       "    <tr>\n",
       "      <th>10</th>\n",
       "      <td>standardize__CAtBat</td>\n",
       "      <td>-162.639794</td>\n",
       "    </tr>\n",
       "    <tr>\n",
       "      <th>15</th>\n",
       "      <td>standardize__CWalks</td>\n",
       "      <td>-189.644642</td>\n",
       "    </tr>\n",
       "    <tr>\n",
       "      <th>3</th>\n",
       "      <td>standardize__AtBat</td>\n",
       "      <td>-282.370957</td>\n",
       "    </tr>\n",
       "  </tbody>\n",
       "</table>\n",
       "</div>"
      ],
      "text/plain": [
       "               Predictor  Coefficient\n",
       "13    standardize__CRuns   375.565519\n",
       "4      standardize__Hits   304.359509\n",
       "14     standardize__CRBI   192.610892\n",
       "8     standardize__Walks   120.695275\n",
       "16  standardize__PutOuts    78.760366\n",
       "17  standardize__Assists    41.996680\n",
       "0      dummify__League_N    35.826072\n",
       "12   standardize__CHmRun    14.225993\n",
       "5     standardize__HmRun    11.127022\n",
       "2   dummify__NewLeague_N    -0.000000\n",
       "7       standardize__RBI    -0.000000\n",
       "11    standardize__CHits     0.000000\n",
       "18   standardize__Errors   -18.479378\n",
       "6      standardize__Runs   -24.966507\n",
       "9     standardize__Years   -34.948148\n",
       "1    dummify__Division_W  -114.412951\n",
       "10   standardize__CAtBat  -162.639794\n",
       "15   standardize__CWalks  -189.644642\n",
       "3     standardize__AtBat  -282.370957"
      ]
     },
     "execution_count": null,
     "metadata": {},
     "output_type": "execute_result"
    }
   ],
   "source": [
    "lasso_coef = get_coefficients(dataset=df_baseball, model=Lasso(alpha=1))\n",
    "lasso_coef"
   ]
  },
  {
   "cell_type": "markdown",
   "metadata": {},
   "source": [
    "Career runs, hits in the previous season, and career RBIs are the most significant coefficients by magnitude. \n",
    "\n",
    "One standard deviation increase in career runs, 331, is associated with an average increase of $375,000 in salary, holding all other variables constant.\n",
    "\n",
    "One standard deviation increase in hits from the previous season, 45, is associated with an average increase of $304,000 in salary, holding all other variables constant.\n",
    "\n",
    "One standard deviation increase in career RBIs, 323, is associated with an average increase of $192,000 in salary, holding all other variables constant."
   ]
  },
  {
   "cell_type": "markdown",
   "metadata": {},
   "source": [
    "4. With the tuning procedure on this data using Lasso Regression, the lowest MSE (with a lambda value of 0.1) is 119,034.33."
   ]
  },
  {
   "cell_type": "markdown",
   "metadata": {},
   "source": [
    "D. Elastic Net"
   ]
  },
  {
   "cell_type": "code",
   "execution_count": 179,
   "metadata": {
    "vscode": {
     "languageId": "python"
    }
   },
   "outputs": [
    {
     "data": {
      "text/html": [
       "<div>\n",
       "<style scoped>\n",
       "    .dataframe tbody tr th:only-of-type {\n",
       "        vertical-align: middle;\n",
       "    }\n",
       "\n",
       "    .dataframe tbody tr th {\n",
       "        vertical-align: top;\n",
       "    }\n",
       "\n",
       "    .dataframe thead th {\n",
       "        text-align: right;\n",
       "    }\n",
       "</style>\n",
       "<table border=\"1\" class=\"dataframe\">\n",
       "  <thead>\n",
       "    <tr style=\"text-align: right;\">\n",
       "      <th></th>\n",
       "      <th>model__alpha</th>\n",
       "      <th>model__l1_ratio</th>\n",
       "      <th>scores</th>\n",
       "    </tr>\n",
       "  </thead>\n",
       "  <tbody>\n",
       "    <tr>\n",
       "      <th>7</th>\n",
       "      <td>0.10</td>\n",
       "      <td>0.8</td>\n",
       "      <td>118750.189196</td>\n",
       "    </tr>\n",
       "    <tr>\n",
       "      <th>0</th>\n",
       "      <td>0.01</td>\n",
       "      <td>0.2</td>\n",
       "      <td>118836.651842</td>\n",
       "    </tr>\n",
       "    <tr>\n",
       "      <th>1</th>\n",
       "      <td>0.01</td>\n",
       "      <td>0.4</td>\n",
       "      <td>118936.657888</td>\n",
       "    </tr>\n",
       "  </tbody>\n",
       "</table>\n",
       "</div>"
      ],
      "text/plain": [
       "   model__alpha  model__l1_ratio         scores\n",
       "7          0.10              0.8  118750.189196\n",
       "0          0.01              0.2  118836.651842\n",
       "1          0.01              0.4  118936.657888"
      ]
     },
     "execution_count": null,
     "metadata": {},
     "output_type": "execute_result"
    }
   ],
   "source": [
    "elastic_pipeline = roee_pipeline(model=ElasticNet(max_iter=100000))\n",
    "df_tuned_elastic = grid_search_df(pipeline=elastic_pipeline, model=\"elastic\", dataset=df_baseball)\n",
    "df_tuned_elastic.head(n=3)"
   ]
  },
  {
   "cell_type": "markdown",
   "metadata": {},
   "source": [
    "2. The best lambda is 0.1 and the best alpha is 0.8 for an MSE of 118,750."
   ]
  },
  {
   "cell_type": "code",
   "execution_count": 180,
   "metadata": {
    "vscode": {
     "languageId": "python"
    }
   },
   "outputs": [
    {
     "data": {
      "text/html": [
       "<div>\n",
       "<style scoped>\n",
       "    .dataframe tbody tr th:only-of-type {\n",
       "        vertical-align: middle;\n",
       "    }\n",
       "\n",
       "    .dataframe tbody tr th {\n",
       "        vertical-align: top;\n",
       "    }\n",
       "\n",
       "    .dataframe thead th {\n",
       "        text-align: right;\n",
       "    }\n",
       "</style>\n",
       "<table border=\"1\" class=\"dataframe\">\n",
       "  <thead>\n",
       "    <tr style=\"text-align: right;\">\n",
       "      <th></th>\n",
       "      <th>Predictor</th>\n",
       "      <th>Coefficient</th>\n",
       "    </tr>\n",
       "  </thead>\n",
       "  <tbody>\n",
       "    <tr>\n",
       "      <th>4</th>\n",
       "      <td>standardize__Hits</td>\n",
       "      <td>200.830729</td>\n",
       "    </tr>\n",
       "    <tr>\n",
       "      <th>13</th>\n",
       "      <td>standardize__CRuns</td>\n",
       "      <td>163.907498</td>\n",
       "    </tr>\n",
       "    <tr>\n",
       "      <th>11</th>\n",
       "      <td>standardize__CHits</td>\n",
       "      <td>110.173426</td>\n",
       "    </tr>\n",
       "    <tr>\n",
       "      <th>14</th>\n",
       "      <td>standardize__CRBI</td>\n",
       "      <td>104.504476</td>\n",
       "    </tr>\n",
       "    <tr>\n",
       "      <th>8</th>\n",
       "      <td>standardize__Walks</td>\n",
       "      <td>97.341332</td>\n",
       "    </tr>\n",
       "    <tr>\n",
       "      <th>16</th>\n",
       "      <td>standardize__PutOuts</td>\n",
       "      <td>76.907372</td>\n",
       "    </tr>\n",
       "    <tr>\n",
       "      <th>12</th>\n",
       "      <td>standardize__CHmRun</td>\n",
       "      <td>59.364022</td>\n",
       "    </tr>\n",
       "    <tr>\n",
       "      <th>0</th>\n",
       "      <td>dummify__League_N</td>\n",
       "      <td>45.390029</td>\n",
       "    </tr>\n",
       "    <tr>\n",
       "      <th>17</th>\n",
       "      <td>standardize__Assists</td>\n",
       "      <td>35.091056</td>\n",
       "    </tr>\n",
       "    <tr>\n",
       "      <th>7</th>\n",
       "      <td>standardize__RBI</td>\n",
       "      <td>10.165051</td>\n",
       "    </tr>\n",
       "    <tr>\n",
       "      <th>6</th>\n",
       "      <td>standardize__Runs</td>\n",
       "      <td>9.950553</td>\n",
       "    </tr>\n",
       "    <tr>\n",
       "      <th>5</th>\n",
       "      <td>standardize__HmRun</td>\n",
       "      <td>-3.812007</td>\n",
       "    </tr>\n",
       "    <tr>\n",
       "      <th>2</th>\n",
       "      <td>dummify__NewLeague_N</td>\n",
       "      <td>-12.909402</td>\n",
       "    </tr>\n",
       "    <tr>\n",
       "      <th>18</th>\n",
       "      <td>standardize__Errors</td>\n",
       "      <td>-24.758404</td>\n",
       "    </tr>\n",
       "    <tr>\n",
       "      <th>9</th>\n",
       "      <td>standardize__Years</td>\n",
       "      <td>-52.040838</td>\n",
       "    </tr>\n",
       "    <tr>\n",
       "      <th>10</th>\n",
       "      <td>standardize__CAtBat</td>\n",
       "      <td>-57.402148</td>\n",
       "    </tr>\n",
       "    <tr>\n",
       "      <th>1</th>\n",
       "      <td>dummify__Division_W</td>\n",
       "      <td>-116.818145</td>\n",
       "    </tr>\n",
       "    <tr>\n",
       "      <th>15</th>\n",
       "      <td>standardize__CWalks</td>\n",
       "      <td>-125.175493</td>\n",
       "    </tr>\n",
       "    <tr>\n",
       "      <th>3</th>\n",
       "      <td>standardize__AtBat</td>\n",
       "      <td>-186.181515</td>\n",
       "    </tr>\n",
       "  </tbody>\n",
       "</table>\n",
       "</div>"
      ],
      "text/plain": [
       "               Predictor  Coefficient\n",
       "4      standardize__Hits   200.830729\n",
       "13    standardize__CRuns   163.907498\n",
       "11    standardize__CHits   110.173426\n",
       "14     standardize__CRBI   104.504476\n",
       "8     standardize__Walks    97.341332\n",
       "16  standardize__PutOuts    76.907372\n",
       "12   standardize__CHmRun    59.364022\n",
       "0      dummify__League_N    45.390029\n",
       "17  standardize__Assists    35.091056\n",
       "7       standardize__RBI    10.165051\n",
       "6      standardize__Runs     9.950553\n",
       "5     standardize__HmRun    -3.812007\n",
       "2   dummify__NewLeague_N   -12.909402\n",
       "18   standardize__Errors   -24.758404\n",
       "9     standardize__Years   -52.040838\n",
       "10   standardize__CAtBat   -57.402148\n",
       "1    dummify__Division_W  -116.818145\n",
       "15   standardize__CWalks  -125.175493\n",
       "3     standardize__AtBat  -186.181515"
      ]
     },
     "execution_count": null,
     "metadata": {},
     "output_type": "execute_result"
    }
   ],
   "source": [
    "elastic_coef = get_coefficients(dataset=df_baseball, model=ElasticNet(alpha=0.1, l1_ratio=0.8))\n",
    "elastic_coef"
   ]
  },
  {
   "cell_type": "code",
   "execution_count": 181,
   "metadata": {
    "vscode": {
     "languageId": "python"
    }
   },
   "outputs": [
    {
     "data": {
      "text/plain": [
       "648.1996437306398"
      ]
     },
     "execution_count": null,
     "metadata": {},
     "output_type": "execute_result"
    }
   ],
   "source": [
    "df_baseball[\"CHits\"].std()"
   ]
  },
  {
   "cell_type": "markdown",
   "metadata": {},
   "source": [
    "Career runs, hits in the previous season, and career hits are the most significant coefficients by magnitude in this model.\n",
    "\n",
    "One standard deviation increase in hits from the previous season, 45, is associated with an average increase of $200,000 in salary, holding all other variables constant.\n",
    "\n",
    "One standard deviation increase in career runs, 331, is associated with an average increase of $163,000 in salary, holding all other variables constant.\n",
    "\n",
    "One standard deviation increase in career hits, 648, is associated with an average increase of $110,000 in salary, holding all other variables constant."
   ]
  },
  {
   "cell_type": "markdown",
   "metadata": {},
   "source": [
    "4. With the tuning procedure on this data using an Elastic Net, the lowest MSE (with a lambda value of 0.1 and alpha of 0.8) is 118,750.19."
   ]
  },
  {
   "cell_type": "markdown",
   "metadata": {},
   "source": [
    "**Part II. Variable Selection**"
   ]
  },
  {
   "cell_type": "markdown",
   "metadata": {},
   "source": [
    "I have decided that "
   ]
  }
 ],
 "metadata": {
  "language_info": {
   "name": "raw"
  }
 },
 "nbformat": 4,
 "nbformat_minor": 2
}

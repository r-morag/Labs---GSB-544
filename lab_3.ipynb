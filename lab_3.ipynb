{
 "cells": [
  {
   "cell_type": "raw",
   "metadata": {},
   "source": [
    "---\n",
    "title: \"Lab 3 - A Christmas Carol\"\n",
    "author: \"Roee Morag\"\n",
    "date: \"2024-10-11\"\n",
    "output: \n",
    "  html_document:\n",
    "    theme: \"cosmo\" \n",
    "--- "
   ]
  },
  {
   "cell_type": "code",
   "execution_count": 1,
   "metadata": {
    "vscode": {
     "languageId": "python"
    }
   },
   "outputs": [],
   "source": [
    "import pandas as pd\n",
    "import numpy as np"
   ]
  },
  {
   "cell_type": "code",
   "execution_count": 2,
   "metadata": {
    "vscode": {
     "languageId": "python"
    }
   },
   "outputs": [],
   "source": [
    "xmas = pd.read_csv(\"https://www.dropbox.com/scl/fi/qxaslqqp5p08i1650rpc4/xmas.csv?rlkey=erdxi7jbh7pqf9fh4lv4cayp5&dl=1\")"
   ]
  },
  {
   "cell_type": "code",
   "execution_count": 4,
   "metadata": {
    "vscode": {
     "languageId": "python"
    }
   },
   "outputs": [],
   "source": [
    "def pluralize_gift(gift):\n",
    "  \"\"\"\n",
    "  Returns plural of a noun\n",
    "  \n",
    "  Parameters\n",
    "  ----------\n",
    "  gift: str\n",
    "    A noun\n",
    "    \n",
    "  Return\n",
    "  ------\n",
    "  str\n",
    "    Plural version\n",
    "  \"\"\"\n",
    "\n",
    "  if gift.find(\"oo\") != -1:\n",
    "    gift = gift.replace(\"oo\", \"ee\")\n",
    "  elif gift[-1] == \"y\":\n",
    "    gift = gift[:-1] + \"ies\"\n",
    "  else:\n",
    "    gift = gift + \"s\"\n",
    "\n",
    "  return gift"
   ]
  },
  {
   "cell_type": "code",
   "execution_count": 5,
   "metadata": {
    "vscode": {
     "languageId": "python"
    }
   },
   "outputs": [],
   "source": [
    "# Check Function\n",
    "\n",
    "pluralize_gift(\"goose\")\n",
    "xmas[\"gift_items\"] = xmas[\"Gift.Item\"].apply(pluralize_gift)"
   ]
  },
  {
   "cell_type": "code",
   "execution_count": 57,
   "metadata": {
    "vscode": {
     "languageId": "python"
    }
   },
   "outputs": [],
   "source": [
    "def make_phrase(num, item, verb=None, adjective=None, location=None):\n",
    "  \"\"\"\n",
    "  Returns Christmas carol phrase\n",
    "  \n",
    "  Parameters\n",
    "  ----------\n",
    "  num: int\n",
    "  Day of Christmas for the phrase to associate with\n",
    "\n",
    "  item: str\n",
    "  The item, or subject, of the phrase\n",
    "\n",
    "  verb: str\n",
    "  The action in the phrase; not all phrases have\n",
    "\n",
    "  adjective: str\n",
    "  The adjective in the phrase; not all phrases have\n",
    "\n",
    "  location: str\n",
    "  The loaction in the phrase; not all phrases have\n",
    "\n",
    "  Returns\n",
    "  ------\n",
    "  str\n",
    "    Combination of the above but formatted nicely\n",
    "  \"\"\"\n",
    "  \n",
    "  adjective = adjective if adjective is not None else \"\"\n",
    "  verb = verb if verb is not None else \"\"\n",
    "  location = location if location is not None else \"\"\n",
    "\n",
    "  if num > 1:\n",
    "    item = pluralize_gift(item)\n",
    "  else:\n",
    "    item = item\n",
    "  \n",
    "  first_letter = item[0].lower()\n",
    "  vowels = {\"a\", \"e\", \"i\", \"o\", \"u\"}\n",
    "  starts_vowel = first_letter in vowels\n",
    "\n",
    "  number_map = {\n",
    "        1: \"one\",\n",
    "        2: \"two\",\n",
    "        3: \"three\",\n",
    "        4: \"four\",\n",
    "        5: \"five\",\n",
    "        6: \"six\",\n",
    "        7: \"seven\",\n",
    "        8: \"eight\",\n",
    "        9: \"nine\",\n",
    "        10: \"ten\",\n",
    "        11: \"eleven\",\n",
    "        12: \"twelve\"\n",
    "    }\n",
    "\n",
    "  ## Step 4: For the first day, if the gift item starts with a vowel, replace the day with \"an\" and if the gift item does not start with a vowel, replace the day with \"a\" (e.g. a partridge in a pear tree). If it is not the first day, use just the number word (e.g. ten lords a leap)\n",
    "  if num == 1 and starts_vowel == True:\n",
    "    start = \"a\"\n",
    "  elif num == 1 and starts_vowel == False:\n",
    "    start = \"an\"\n",
    "  else:\n",
    "    start = number_map.get(num, str(num))\n",
    "\n",
    "  if len(verb) > 0:\n",
    "    phrase = start + \" \" + item + \" \" + verb\n",
    "  elif len(adjective) > 0:\n",
    "    phrase = start + \" \" + adjective + \" \" + item \n",
    "  else:\n",
    "    phrase = start + \" \" + item + \" \" + location\n",
    "  \n",
    "  return phrase"
   ]
  },
  {
   "cell_type": "code",
   "execution_count": 59,
   "metadata": {
    "vscode": {
     "languageId": "python"
    }
   },
   "outputs": [
    {
     "name": "stdout",
     "output_type": "stream",
     "text": [
      "ten lords a-leaping\n",
      "six green apples\n",
      "ten lords a-leaping\n",
      "six green apples\n"
     ]
    }
   ],
   "source": [
    "print(make_phrase(num = 10, \n",
    "            item = \"lord\", \n",
    "            verb = \"a-leaping\", \n",
    "            adjective = \"\", \n",
    "            location = \"\"))\n",
    "\n",
    "print(make_phrase(num = 6, \n",
    "            item = \"apple\", \n",
    "            adjective = \"green\"))"
   ]
  },
  {
   "cell_type": "code",
   "execution_count": null,
   "metadata": {
    "vscode": {
     "languageId": "python"
    }
   },
   "outputs": [],
   "source": []
  }
 ],
 "metadata": {
  "language_info": {
   "name": "raw"
  }
 },
 "nbformat": 4,
 "nbformat_minor": 2
}

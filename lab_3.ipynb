{
 "cells": [
  {
   "cell_type": "raw",
   "metadata": {},
   "source": [
    "---\n",
    "title: \"Lab 3 - A Christmas Carol\"\n",
    "author: \"Roee Morag\"\n",
    "date: \"2024-10-11\"\n",
    "output: \n",
    "  html_document:\n",
    "    theme: \"cosmo\" \n",
    "--- "
   ]
  },
  {
   "cell_type": "code",
   "execution_count": 1,
   "metadata": {
    "vscode": {
     "languageId": "python"
    }
   },
   "outputs": [],
   "source": [
    "import pandas as pd\n",
    "import numpy as np"
   ]
  },
  {
   "cell_type": "code",
   "execution_count": 2,
   "metadata": {
    "vscode": {
     "languageId": "python"
    }
   },
   "outputs": [],
   "source": [
    "xmas = pd.read_csv(\"https://www.dropbox.com/scl/fi/qxaslqqp5p08i1650rpc4/xmas.csv?rlkey=erdxi7jbh7pqf9fh4lv4cayp5&dl=1\")"
   ]
  },
  {
   "cell_type": "code",
   "execution_count": 4,
   "metadata": {
    "vscode": {
     "languageId": "python"
    }
   },
   "outputs": [],
   "source": [
    "def pluralize_gift(gift):\n",
    "  \"\"\"\n",
    "  Returns plural of a noun\n",
    "  \n",
    "  Parameters\n",
    "  ----------\n",
    "  gift: str\n",
    "    A noun\n",
    "    \n",
    "  Return\n",
    "  ------\n",
    "  str\n",
    "    Plural version\n",
    "  \"\"\"\n",
    "\n",
    "  if gift.find(\"oo\") != -1:\n",
    "    gift = gift.replace(\"oo\", \"ee\")\n",
    "  elif gift[-1] == \"y\":\n",
    "    gift = gift[:-1] + \"ies\"\n",
    "  else:\n",
    "    gift = gift + \"s\"\n",
    "\n",
    "  return gift"
   ]
  },
  {
   "cell_type": "code",
   "execution_count": 5,
   "metadata": {
    "vscode": {
     "languageId": "python"
    }
   },
   "outputs": [],
   "source": [
    "# Check Function\n",
    "\n",
    "pluralize_gift(\"goose\")\n",
    "xmas[\"gift_items\"] = xmas[\"Gift.Item\"].apply(pluralize_gift)"
   ]
  },
  {
   "cell_type": "code",
   "execution_count": 114,
   "metadata": {
    "vscode": {
     "languageId": "python"
    }
   },
   "outputs": [],
   "source": [
    "def make_phrase(num, item, verb, adjective, location):\n",
    "  \"\"\"\n",
    "  Returns Christmas carol phrase\n",
    "  \n",
    "  Parameters\n",
    "  ----------\n",
    "  num: int\n",
    "  Day of Christmas for the phrase to associate with\n",
    "\n",
    "  item: str\n",
    "  The item, or subject, of the phrase\n",
    "\n",
    "  verb: str\n",
    "  The action in the phrase; not all phrases have\n",
    "\n",
    "  adjective: str\n",
    "  The adjective in the phrase; not all phrases have\n",
    "\n",
    "  location: str\n",
    "  The loaction in the phrase; not all phrases have\n",
    "\n",
    "  Returns\n",
    "  ------\n",
    "  str\n",
    "    Combination of the above but formatted nicely\n",
    "  \"\"\"\n",
    "  \n",
    "  if type(adjective) == float:\n",
    "    adjective = \"\"\n",
    "  if type(verb) == float:\n",
    "    verb = \"\"\n",
    "  if type(location) == float:\n",
    "    location = \"\"\n",
    "\n",
    "  if num > 1:\n",
    "    item = pluralize_gift(item)\n",
    "  else:\n",
    "    item = item\n",
    "  \n",
    "  first_letter = item[0].lower()\n",
    "  vowels = {\"a\", \"e\", \"i\", \"o\", \"u\"}\n",
    "  starts_vowel = first_letter in vowels\n",
    "\n",
    "  number_map = {\n",
    "        1: \"one\",\n",
    "        2: \"two\",\n",
    "        3: \"three\",\n",
    "        4: \"four\",\n",
    "        5: \"five\",\n",
    "        6: \"six\",\n",
    "        7: \"seven\",\n",
    "        8: \"eight\",\n",
    "        9: \"nine\",\n",
    "        10: \"ten\",\n",
    "        11: \"eleven\",\n",
    "        12: \"twelve\"\n",
    "    }\n",
    "\n",
    "  ## Step 4: For the first day, if the gift item starts with a vowel, replace the day with \"an\" and if the gift item does not start with a vowel, replace the day with \"a\" (e.g. a partridge in a pear tree). If it is not the first day, use just the number word (e.g. ten lords a leap)\n",
    "  if num == 1 and starts_vowel == True:\n",
    "    start = \"an\"\n",
    "  elif num == 1 and starts_vowel == False:\n",
    "    start = \"a\"\n",
    "  else:\n",
    "    start = number_map.get(num, str(num))\n",
    "\n",
    "  if verb:  # ChatGPT assisted in debugging the \n",
    "    phrase = start + \" \" + item + \" \" + verb\n",
    "  elif adjective:\n",
    "    phrase = start + \" \" + adjective + \" \" + item \n",
    "  else:\n",
    "    phrase = start + \" \" + item + \" \" + location\n",
    "  \n",
    "  return phrase"
   ]
  },
  {
   "cell_type": "code",
   "execution_count": 118,
   "metadata": {
    "vscode": {
     "languageId": "python"
    }
   },
   "outputs": [
    {
     "name": "stdout",
     "output_type": "stream",
     "text": [
      "ten lords a-leaping\n",
      "six green apples\n",
      "a needle in a haystack\n",
      "an almond in a trail mix packet\n",
      "ten lords a-leaping\n",
      "six green apples\n",
      "a needle in a haystack\n",
      "an almond in a trail mix packet\n"
     ]
    }
   ],
   "source": [
    "print(make_phrase(num = 10, \n",
    "            item = \"lord\", \n",
    "            verb = \"a-leaping\", \n",
    "            adjective = \"\", \n",
    "            location = \"\"))\n",
    "\n",
    "print(make_phrase(num = 6, \n",
    "            item = \"apple\",\n",
    "            verb = \"\", \n",
    "            adjective = \"green\",\n",
    "            location = \"\"))\n",
    "\n",
    "print(make_phrase(num = 1, \n",
    "            item = \"needle\",\n",
    "            verb = \"\", \n",
    "            adjective = \"\",\n",
    "            location = \"in a haystack\"))\n",
    "\n",
    "print(make_phrase(num = 1, \n",
    "            item = \"almond\",\n",
    "            verb = \"\", \n",
    "            adjective = \"\",\n",
    "            location = \"in a trail mix packet\"))"
   ]
  },
  {
   "cell_type": "code",
   "execution_count": 119,
   "metadata": {
    "vscode": {
     "languageId": "python"
    }
   },
   "outputs": [],
   "source": [
    "xmas[\"Full.Phrase\"] = xmas.apply(lambda row: make_phrase(\n",
    "    num = row[\"Day\"], item = row[\"Gift.Item\"], verb = row[\"Verb\"], \n",
    "    adjective = row[\"Adjective\"], location = row[\"Location\"]), axis=1)"
   ]
  },
  {
   "cell_type": "code",
   "execution_count": 152,
   "metadata": {
    "vscode": {
     "languageId": "python"
    }
   },
   "outputs": [],
   "source": [
    "def sing_day(dataset, num, phrase_col):\n",
    "  \"\"\"\n",
    "  Christmas day song up until a certain day. Could also sing similar songs of a similar format\n",
    "  \n",
    "  Parameters\n",
    "  ----------\n",
    "  dataset: pandas Data Frame\n",
    "    dataset of specific parameters/column set up\n",
    "  \n",
    "  num: int\n",
    "    day of Christmas to sing from\n",
    "  \n",
    "  phrase_col: string\n",
    "    the name of the column in the data set that already contains the full phrases\n",
    "    \n",
    "  Return\n",
    "  ------\n",
    "  str\n",
    "    A Christmas Carol!\n",
    "  \"\"\"\n",
    "  \n",
    "  # Step 1: Setup the intro line\n",
    "  num_word = dataset[\"Day.in.Words\"][num - 1]  # convert \"1\" to \"first\" etc.\n",
    "  intro = \"On the \" + num_word + \" day of Christmas, my true love sent to me: \\n\"\n",
    "  \n",
    "  # Step 2: Sing the gift phrases\n",
    "  # Hint: What order are they gifts sung in each day?\n",
    "  gifts = \"\"\n",
    "  for i in range(num, 0, -1):\n",
    "    if i == 1:\n",
    "      gifts = gifts + \"and \" +  dataset[phrase_col][i - 1] + \".\"\n",
    "    else:\n",
    "      gifts = gifts + dataset[phrase_col][i - 1] + \",\\n\"\n",
    "    \n",
    "  \n",
    "  # Step 3: Put it all together and return\n",
    "\n",
    "  return intro + gifts"
   ]
  },
  {
   "cell_type": "code",
   "execution_count": 154,
   "metadata": {
    "vscode": {
     "languageId": "python"
    }
   },
   "outputs": [
    {
     "name": "stdout",
     "output_type": "stream",
     "text": [
      "On the third day of Christmas, my true love sent to me: \n",
      "three french hens,\n",
      "two turtle doves,\n",
      "and a partridge in a pear tree.\n",
      "On the third day of Christmas, my true love sent to me: \n",
      "three french hens,\n",
      "two turtle doves,\n",
      "and a partridge in a pear tree.\n"
     ]
    }
   ],
   "source": [
    "# Unit Test\n",
    "print(sing_day(xmas, 3, \"Full.Phrase\"))"
   ]
  },
  {
   "cell_type": "code",
   "execution_count": 156,
   "metadata": {
    "vscode": {
     "languageId": "python"
    }
   },
   "outputs": [
    {
     "name": "stdout",
     "output_type": "stream",
     "text": [
      "On the twelfth day of Christmas, my true love sent to me: \n",
      "twelve drummers drumming,\n",
      "eleven pipers piping,\n",
      "ten lords a-leaping,\n",
      "nine ladies dancing,\n",
      "eight maids a-milking,\n",
      "seven swans a-swimming,\n",
      "six geese a-laying,\n",
      "five golden rings,\n",
      "four calling birds,\n",
      "three french hens,\n",
      "two turtle doves,\n",
      "and a partridge in a pear tree.\n",
      "On the twelfth day of Christmas, my true love sent to me: \n",
      "twelve drummers drumming,\n",
      "eleven pipers piping,\n",
      "ten lords a-leaping,\n",
      "nine ladies dancing,\n",
      "eight maids a-milking,\n",
      "seven swans a-swimming,\n",
      "six geese a-laying,\n",
      "five golden rings,\n",
      "four calling birds,\n",
      "three french hens,\n",
      "two turtle doves,\n",
      "and a partridge in a pear tree.\n"
     ]
    }
   ],
   "source": [
    "print(sing_day(xmas, 12, \"Full.Phrase\"))"
   ]
  },
  {
   "cell_type": "code",
   "execution_count": 157,
   "metadata": {
    "vscode": {
     "languageId": "python"
    }
   },
   "outputs": [],
   "source": [
    "xmas2 = pd.read_csv(\"https://www.dropbox.com/scl/fi/p9x9k8xwuzs9rhp582vfy/xmas_2.csv?rlkey=kvc3j3lmyn4opcidsrhcmrof1&dl=1\")"
   ]
  },
  {
   "cell_type": "code",
   "execution_count": 158,
   "metadata": {
    "vscode": {
     "languageId": "python"
    }
   },
   "outputs": [],
   "source": [
    "xmas2[\"Full.Phrase\"] = xmas2.apply(lambda row: make_phrase(\n",
    "    num = row[\"Day\"], item = row[\"Gift.Item\"], verb = row[\"Verb\"], \n",
    "    adjective = row[\"Adjective\"], location = row[\"Location\"]), axis=1)"
   ]
  },
  {
   "cell_type": "code",
   "execution_count": 160,
   "metadata": {
    "vscode": {
     "languageId": "python"
    }
   },
   "outputs": [
    {
     "name": "stdout",
     "output_type": "stream",
     "text": [
      "On the twelfth day of Christmas, my true love sent to me: \n",
      "twelve hours sleeping,\n",
      "eleven friends goodbye-ing,\n",
      "ten loads of laundry,\n",
      "nine parties bumping,\n",
      "eight moms a-calling,\n",
      "seven seniors stressing,\n",
      "six graders grading,\n",
      "five practice exams,\n",
      "four course reviews,\n",
      "three lost pens,\n",
      "two meal points,\n",
      "and an email from Cal Poly.\n",
      "On the twelfth day of Christmas, my true love sent to me: \n",
      "twelve hours sleeping,\n",
      "eleven friends goodbye-ing,\n",
      "ten loads of laundry,\n",
      "nine parties bumping,\n",
      "eight moms a-calling,\n",
      "seven seniors stressing,\n",
      "six graders grading,\n",
      "five practice exams,\n",
      "four course reviews,\n",
      "three lost pens,\n",
      "two meal points,\n",
      "and an email from Cal Poly.\n"
     ]
    }
   ],
   "source": [
    "print(sing_day(xmas2, 12, \"Full.Phrase\"))"
   ]
  }
 ],
 "metadata": {
  "language_info": {
   "name": "raw"
  }
 },
 "nbformat": 4,
 "nbformat_minor": 2
}

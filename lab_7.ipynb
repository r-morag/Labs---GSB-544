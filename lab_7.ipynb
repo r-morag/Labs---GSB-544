{
 "cells": [
  {
   "cell_type": "raw",
   "metadata": {
    "vscode": {
     "languageId": "raw"
    }
   },
   "source": [
    "---\n",
    "title: \"Lab 7 - Heart Attack\"\n",
    "author: \"Roee Morag\"\n",
    "date: \"2024-11-27\"\n",
    "output: \n",
    "  html_document:\n",
    "    theme: \"cosmo\" \n",
    "embed-resources: true\n",
    "---"
   ]
  },
  {
   "cell_type": "code",
   "execution_count": 394,
   "metadata": {},
   "outputs": [],
   "source": [
    "import pandas as pd \n",
    "import numpy as np\n",
    "\n",
    "from sklearn.pipeline import Pipeline\n",
    "from sklearn.neighbors import KNeighborsClassifier\n",
    "from sklearn.tree import DecisionTreeClassifier\n",
    "from sklearn.linear_model import LogisticRegression\n",
    "from sklearn.compose import make_column_selector, ColumnTransformer\n",
    "from sklearn.preprocessing import StandardScaler, OneHotEncoder, PolynomialFeatures, FunctionTransformer\n",
    "from sklearn.discriminant_analysis import LinearDiscriminantAnalysis, QuadraticDiscriminantAnalysis\n",
    "from sklearn.svm import SVC\n",
    "from sklearn.model_selection import GridSearchCV\n",
    "from sklearn.model_selection import train_test_split, cross_val_score, cross_val_predict\n",
    "from sklearn.metrics import r2_score, confusion_matrix, ConfusionMatrixDisplay, accuracy_score, classification_report\n",
    "from sklearn.metrics import roc_curve, roc_auc_score"
   ]
  },
  {
   "cell_type": "code",
   "execution_count": 395,
   "metadata": {},
   "outputs": [],
   "source": [
    "df_heart = pd.read_csv(\"https://www.dropbox.com/s/aohbr6yb9ifmc8w/heart_attack.csv?dl=1\")"
   ]
  },
  {
   "cell_type": "code",
   "execution_count": 396,
   "metadata": {},
   "outputs": [
    {
     "data": {
      "text/html": [
       "<div>\n",
       "<style scoped>\n",
       "    .dataframe tbody tr th:only-of-type {\n",
       "        vertical-align: middle;\n",
       "    }\n",
       "\n",
       "    .dataframe tbody tr th {\n",
       "        vertical-align: top;\n",
       "    }\n",
       "\n",
       "    .dataframe thead th {\n",
       "        text-align: right;\n",
       "    }\n",
       "</style>\n",
       "<table border=\"1\" class=\"dataframe\">\n",
       "  <thead>\n",
       "    <tr style=\"text-align: right;\">\n",
       "      <th></th>\n",
       "      <th>age</th>\n",
       "      <th>sex</th>\n",
       "      <th>cp</th>\n",
       "      <th>trtbps</th>\n",
       "      <th>chol</th>\n",
       "      <th>restecg</th>\n",
       "      <th>thalach</th>\n",
       "      <th>output</th>\n",
       "    </tr>\n",
       "  </thead>\n",
       "  <tbody>\n",
       "    <tr>\n",
       "      <th>0</th>\n",
       "      <td>63</td>\n",
       "      <td>1</td>\n",
       "      <td>3</td>\n",
       "      <td>145</td>\n",
       "      <td>233</td>\n",
       "      <td>0</td>\n",
       "      <td>150</td>\n",
       "      <td>1</td>\n",
       "    </tr>\n",
       "    <tr>\n",
       "      <th>1</th>\n",
       "      <td>37</td>\n",
       "      <td>1</td>\n",
       "      <td>2</td>\n",
       "      <td>130</td>\n",
       "      <td>250</td>\n",
       "      <td>1</td>\n",
       "      <td>187</td>\n",
       "      <td>1</td>\n",
       "    </tr>\n",
       "    <tr>\n",
       "      <th>2</th>\n",
       "      <td>56</td>\n",
       "      <td>1</td>\n",
       "      <td>1</td>\n",
       "      <td>120</td>\n",
       "      <td>236</td>\n",
       "      <td>1</td>\n",
       "      <td>178</td>\n",
       "      <td>1</td>\n",
       "    </tr>\n",
       "    <tr>\n",
       "      <th>3</th>\n",
       "      <td>57</td>\n",
       "      <td>0</td>\n",
       "      <td>0</td>\n",
       "      <td>120</td>\n",
       "      <td>354</td>\n",
       "      <td>1</td>\n",
       "      <td>163</td>\n",
       "      <td>1</td>\n",
       "    </tr>\n",
       "    <tr>\n",
       "      <th>4</th>\n",
       "      <td>57</td>\n",
       "      <td>1</td>\n",
       "      <td>0</td>\n",
       "      <td>140</td>\n",
       "      <td>192</td>\n",
       "      <td>1</td>\n",
       "      <td>148</td>\n",
       "      <td>1</td>\n",
       "    </tr>\n",
       "  </tbody>\n",
       "</table>\n",
       "</div>"
      ],
      "text/plain": [
       "   age  sex  cp  trtbps  chol  restecg  thalach  output\n",
       "0   63    1   3     145   233        0      150       1\n",
       "1   37    1   2     130   250        1      187       1\n",
       "2   56    1   1     120   236        1      178       1\n",
       "3   57    0   0     120   354        1      163       1\n",
       "4   57    1   0     140   192        1      148       1"
      ]
     },
     "execution_count": 396,
     "metadata": {},
     "output_type": "execute_result"
    }
   ],
   "source": [
    "df_heart.head()"
   ]
  },
  {
   "cell_type": "markdown",
   "metadata": {},
   "source": [
    "All of these predictors seem mildly important in determining a doctor's diagnosis of a heart attack. I will run a first model with all of these variables and adjust what seems necessary based on coefficients."
   ]
  },
  {
   "cell_type": "markdown",
   "metadata": {},
   "source": [
    "**Part 1: Fitting Models**"
   ]
  },
  {
   "cell_type": "code",
   "execution_count": 397,
   "metadata": {},
   "outputs": [],
   "source": [
    "ct = ColumnTransformer(\n",
    "    [\n",
    "      (\"dummify\", \n",
    "      OneHotEncoder(sparse_output = False, handle_unknown='ignore', drop=\"first\"),\n",
    "      make_column_selector(dtype_include=object)),\n",
    "      (\"standardize\", \n",
    "      StandardScaler(), \n",
    "      make_column_selector(dtype_include=np.number))\n",
    "    ],\n",
    "    remainder = \"drop\"\n",
    ")"
   ]
  },
  {
   "cell_type": "markdown",
   "metadata": {},
   "source": [
    "**Q1: KNN**"
   ]
  },
  {
   "cell_type": "code",
   "execution_count": 398,
   "metadata": {},
   "outputs": [],
   "source": [
    "# First model with all variables.\n",
    "\n",
    "X = df_heart.drop(\"output\", axis=1)\n",
    "y = df_heart[\"output\"]\n",
    "\n",
    "pipeline = Pipeline(\n",
    "  [(\"selection\", ct),\n",
    "  (\"kNN\", KNeighborsClassifier())]\n",
    ").set_output(transform=\"pandas\")\n",
    "\n",
    "neighbors = {'kNN__n_neighbors': [1, 3, 5, 7, 15]}\n",
    "\n",
    "gscv = GridSearchCV(pipeline, neighbors, cv=5, scoring=\"roc_auc\")\n",
    "\n",
    "gscv_fitted = gscv.fit(X, y)\n",
    "\n",
    "params_df = pd.DataFrame(gscv_fitted.cv_results_[\"params\"])\n",
    "results_df = params_df.assign(scores=gscv_fitted.cv_results_[\"mean_test_score\"])"
   ]
  },
  {
   "cell_type": "code",
   "execution_count": 399,
   "metadata": {},
   "outputs": [
    {
     "data": {
      "text/html": [
       "<div>\n",
       "<style scoped>\n",
       "    .dataframe tbody tr th:only-of-type {\n",
       "        vertical-align: middle;\n",
       "    }\n",
       "\n",
       "    .dataframe tbody tr th {\n",
       "        vertical-align: top;\n",
       "    }\n",
       "\n",
       "    .dataframe thead th {\n",
       "        text-align: right;\n",
       "    }\n",
       "</style>\n",
       "<table border=\"1\" class=\"dataframe\">\n",
       "  <thead>\n",
       "    <tr style=\"text-align: right;\">\n",
       "      <th></th>\n",
       "      <th>kNN__n_neighbors</th>\n",
       "      <th>scores</th>\n",
       "    </tr>\n",
       "  </thead>\n",
       "  <tbody>\n",
       "    <tr>\n",
       "      <th>4</th>\n",
       "      <td>15</td>\n",
       "      <td>0.853045</td>\n",
       "    </tr>\n",
       "  </tbody>\n",
       "</table>\n",
       "</div>"
      ],
      "text/plain": [
       "   kNN__n_neighbors    scores\n",
       "4                15  0.853045"
      ]
     },
     "execution_count": 399,
     "metadata": {},
     "output_type": "execute_result"
    }
   ],
   "source": [
    "# Trying all sorts of different options - the final ouput shown is the best ROC AUC\n",
    "\n",
    "X = df_heart.drop([\"output\", \"restecg\", \"chol\"], axis=1)\n",
    "y= df_heart[\"output\"]\n",
    "\n",
    "pipeline = Pipeline(\n",
    "  [(\"selection\", ct),\n",
    "  (\"kNN\", KNeighborsClassifier())]\n",
    ").set_output(transform=\"pandas\")\n",
    "\n",
    "neighbors = {'kNN__n_neighbors': [1, 3, 5, 7, 15]}\n",
    "\n",
    "gscv = GridSearchCV(pipeline, neighbors, cv=5, scoring=\"roc_auc\")\n",
    "\n",
    "gscv_fitted = gscv.fit(X, y)\n",
    "\n",
    "params_df = pd.DataFrame(gscv_fitted.cv_results_[\"params\"])\n",
    "results_df = params_df.assign(scores=gscv_fitted.cv_results_[\"mean_test_score\"])\n",
    "results_df.sort_values(by=\"scores\", ascending=False).head(n=1)"
   ]
  },
  {
   "cell_type": "markdown",
   "metadata": {
    "vscode": {
     "languageId": "plaintext"
    }
   },
   "source": [
    "The model, using all of the predictors besides resting electrocardiographic results and cholesterol gave a cross-validated ROC AUC score of 0.853."
   ]
  },
  {
   "cell_type": "code",
   "execution_count": 400,
   "metadata": {},
   "outputs": [],
   "source": [
    "knn_pipeline = Pipeline(\n",
    "  [(\"selection\", ct),\n",
    "  (\"kNN\", KNeighborsClassifier(n_neighbors=15))]\n",
    ").set_output(transform=\"pandas\")\n",
    "\n",
    "knn_fit = knn_pipeline.fit(X, y)"
   ]
  },
  {
   "cell_type": "code",
   "execution_count": 401,
   "metadata": {},
   "outputs": [],
   "source": [
    "y_prob = cross_val_predict(knn_pipeline, X, y, cv=5, method=\"predict_proba\")[:, 1]\n",
    "\n",
    "fpr, tpr, thresholds = roc_curve(y, y_prob)\n",
    "roc_auc = roc_auc_score(y, y_prob)\n",
    "\n",
    "roc_data = pd.DataFrame({\n",
    "    \"method\": \"KNN\",\n",
    "    \"FPR\": fpr,\n",
    "    \"TPR\": tpr\n",
    "})"
   ]
  },
  {
   "cell_type": "code",
   "execution_count": 402,
   "metadata": {},
   "outputs": [
    {
     "data": {
      "text/plain": [
       "<sklearn.metrics._plot.confusion_matrix.ConfusionMatrixDisplay at 0x187b071e4d0>"
      ]
     },
     "execution_count": 402,
     "metadata": {},
     "output_type": "execute_result"
    },
    {
     "data": {
      "image/png": "[encoded data removed]",
      "text/plain": [
       "<Figure size 640x480 with 2 Axes>"
      ]
     },
     "metadata": {},
     "output_type": "display_data"
    }
   ],
   "source": [
    "y_pred_knn = cross_val_predict(knn_pipeline, X, y, cv=5)\n",
    "cm = confusion_matrix(y, y_pred_knn)\n",
    "ConfusionMatrixDisplay(confusion_matrix=cm, display_labels=np.unique(y)).plot()"
   ]
  },
  {
   "cell_type": "markdown",
   "metadata": {},
   "source": [
    "It is not applicable to interpret coefficients with a KNN model."
   ]
  },
  {
   "cell_type": "markdown",
   "metadata": {},
   "source": [
    "**Q2: Logistic Regression**"
   ]
  },
  {
   "cell_type": "code",
   "execution_count": 403,
   "metadata": {},
   "outputs": [],
   "source": [
    "# First model with all variables.\n",
    "\n",
    "X = df_heart.drop(\"output\", axis=1)\n",
    "y= df_heart[\"output\"]\n",
    "\n",
    "pipeline = Pipeline(\n",
    "  [(\"selection\", ct),\n",
    "  (\"log\", LogisticRegression())]\n",
    ").set_output(transform=\"pandas\")\n",
    "\n",
    "reg_terms = {\"log__C\": [0.001, 0.01, 0.1, 1, 10, 100, 1000]}\n",
    "\n",
    "gscv = GridSearchCV(pipeline, reg_terms, cv=5, scoring=\"roc_auc\")\n",
    "\n",
    "gscv_fitted = gscv.fit(X, y)\n",
    "\n",
    "params_df = pd.DataFrame(gscv_fitted.cv_results_[\"params\"])\n",
    "results_df = params_df.assign(scores=gscv_fitted.cv_results_[\"mean_test_score\"])"
   ]
  },
  {
   "cell_type": "code",
   "execution_count": 404,
   "metadata": {},
   "outputs": [
    {
     "data": {
      "text/html": [
       "<div>\n",
       "<style scoped>\n",
       "    .dataframe tbody tr th:only-of-type {\n",
       "        vertical-align: middle;\n",
       "    }\n",
       "\n",
       "    .dataframe tbody tr th {\n",
       "        vertical-align: top;\n",
       "    }\n",
       "\n",
       "    .dataframe thead th {\n",
       "        text-align: right;\n",
       "    }\n",
       "</style>\n",
       "<table border=\"1\" class=\"dataframe\">\n",
       "  <thead>\n",
       "    <tr style=\"text-align: right;\">\n",
       "      <th></th>\n",
       "      <th>log__C</th>\n",
       "      <th>scores</th>\n",
       "    </tr>\n",
       "  </thead>\n",
       "  <tbody>\n",
       "    <tr>\n",
       "      <th>4</th>\n",
       "      <td>10.0</td>\n",
       "      <td>0.859289</td>\n",
       "    </tr>\n",
       "  </tbody>\n",
       "</table>\n",
       "</div>"
      ],
      "text/plain": [
       "   log__C    scores\n",
       "4    10.0  0.859289"
      ]
     },
     "execution_count": 404,
     "metadata": {},
     "output_type": "execute_result"
    }
   ],
   "source": [
    "# Trying all sorts of different variable combinations. Output shown is the best model.\n",
    "\n",
    "X = df_heart.drop([\"output\", \"restecg\", \"age\"], axis=1)\n",
    "y= df_heart[\"output\"]\n",
    "\n",
    "pipeline = Pipeline(\n",
    "  [(\"selection\", ct),\n",
    "  (\"log\", LogisticRegression())]\n",
    ").set_output(transform=\"pandas\")\n",
    "\n",
    "reg_terms = {\"log__C\": [0.001, 0.01, 0.1, 1, 10, 100, 1000]}\n",
    "\n",
    "gscv = GridSearchCV(pipeline, reg_terms, cv=5, scoring=\"roc_auc\")\n",
    "\n",
    "gscv_fitted = gscv.fit(X, y)\n",
    "\n",
    "params_df = pd.DataFrame(gscv_fitted.cv_results_[\"params\"])\n",
    "results_df = params_df.assign(scores=gscv_fitted.cv_results_[\"mean_test_score\"])\n",
    "results_df.sort_values(by=\"scores\", ascending=False).head(n=1)"
   ]
  },
  {
   "cell_type": "markdown",
   "metadata": {},
   "source": [
    "The model, using all of the predictors besides resting electrocardiographic results and age, gave a cross-validated ROC AUC score of 0.8593."
   ]
  },
  {
   "cell_type": "code",
   "execution_count": 405,
   "metadata": {},
   "outputs": [],
   "source": [
    "y_prob = cross_val_predict(log_pipeline, X, y, cv=5, method=\"predict_proba\")[:, 1]\n",
    "\n",
    "fpr, tpr, thresholds = roc_curve(y, y_prob)\n",
    "roc_auc = roc_auc_score(y, y_prob)\n",
    "\n",
    "temp_data = pd.DataFrame({\n",
    "    \"method\": \"Logistic Regression\",\n",
    "    \"FPR\": fpr,\n",
    "    \"TPR\": tpr\n",
    "})\n",
    "\n",
    "roc_data = pd.concat([roc_data, temp_data], axis=0)"
   ]
  },
  {
   "cell_type": "code",
   "execution_count": 406,
   "metadata": {},
   "outputs": [
    {
     "data": {
      "text/plain": [
       "<sklearn.metrics._plot.confusion_matrix.ConfusionMatrixDisplay at 0x187b212db10>"
      ]
     },
     "execution_count": 406,
     "metadata": {},
     "output_type": "execute_result"
    },
    {
     "data": {
      "image/png": "[encoded data removed]",
      "text/plain": [
       "<Figure size 640x480 with 2 Axes>"
      ]
     },
     "metadata": {},
     "output_type": "display_data"
    }
   ],
   "source": [
    "y_pred_log = cross_val_predict(log_pipeline, X, y, cv=5)\n",
    "cm = confusion_matrix(y, y_pred_log)\n",
    "ConfusionMatrixDisplay(confusion_matrix=cm, display_labels=np.unique(y)).plot()"
   ]
  },
  {
   "cell_type": "code",
   "execution_count": 407,
   "metadata": {},
   "outputs": [
    {
     "data": {
      "text/html": [
       "<div>\n",
       "<style scoped>\n",
       "    .dataframe tbody tr th:only-of-type {\n",
       "        vertical-align: middle;\n",
       "    }\n",
       "\n",
       "    .dataframe tbody tr th {\n",
       "        vertical-align: top;\n",
       "    }\n",
       "\n",
       "    .dataframe thead th {\n",
       "        text-align: right;\n",
       "    }\n",
       "</style>\n",
       "<table border=\"1\" class=\"dataframe\">\n",
       "  <thead>\n",
       "    <tr style=\"text-align: right;\">\n",
       "      <th></th>\n",
       "      <th>Feature</th>\n",
       "      <th>Coefficient</th>\n",
       "    </tr>\n",
       "  </thead>\n",
       "  <tbody>\n",
       "    <tr>\n",
       "      <th>0</th>\n",
       "      <td>sex</td>\n",
       "      <td>-0.988176</td>\n",
       "    </tr>\n",
       "    <tr>\n",
       "      <th>1</th>\n",
       "      <td>cp</td>\n",
       "      <td>0.881753</td>\n",
       "    </tr>\n",
       "    <tr>\n",
       "      <th>2</th>\n",
       "      <td>trtbps</td>\n",
       "      <td>-0.483509</td>\n",
       "    </tr>\n",
       "    <tr>\n",
       "      <th>3</th>\n",
       "      <td>chol</td>\n",
       "      <td>-0.341750</td>\n",
       "    </tr>\n",
       "    <tr>\n",
       "      <th>4</th>\n",
       "      <td>thalach</td>\n",
       "      <td>1.013340</td>\n",
       "    </tr>\n",
       "  </tbody>\n",
       "</table>\n",
       "</div>"
      ],
      "text/plain": [
       "   Feature  Coefficient\n",
       "0      sex    -0.988176\n",
       "1       cp     0.881753\n",
       "2   trtbps    -0.483509\n",
       "3     chol    -0.341750\n",
       "4  thalach     1.013340"
      ]
     },
     "execution_count": 407,
     "metadata": {},
     "output_type": "execute_result"
    }
   ],
   "source": [
    "log_pipeline = Pipeline(\n",
    "  [(\"selection\", ct),\n",
    "  (\"logistic_regression\", LogisticRegression(C=10))]\n",
    ").set_output(transform=\"pandas\")\n",
    "\n",
    "log_fit = log_pipeline.fit(X, y)\n",
    "\n",
    "logistic_regression_model = log_pipeline.named_steps[\"logistic_regression\"]\n",
    "\n",
    "coef = logistic_regression_model.coef_[0]\n",
    "feature_names = X.columns\n",
    "\n",
    "coef_df = pd.DataFrame({\n",
    "    \"Feature\": feature_names,\n",
    "    \"Coefficient\": coef\n",
    "})\n",
    "\n",
    "coef_df"
   ]
  },
  {
   "cell_type": "markdown",
   "metadata": {},
   "source": [
    "A higher chest pain increases your odds of having a heart attack; same with maximum heart rate achieved during exercise. A higher resting blood pressure decreases your odds of having a heart attack; same with cholesterol. Being a female is associated with less of a risk of heart attack as being male."
   ]
  },
  {
   "cell_type": "markdown",
   "metadata": {},
   "source": [
    "**Q3: Decision Tree**"
   ]
  },
  {
   "cell_type": "code",
   "execution_count": 408,
   "metadata": {},
   "outputs": [],
   "source": [
    "# First model with all variables.\n",
    "\n",
    "X = df_heart.drop(\"output\", axis=1)\n",
    "y= df_heart[\"output\"]\n",
    "\n",
    "pipeline = Pipeline(\n",
    "  [(\"selection\", ct),\n",
    "  (\"tree\", DecisionTreeClassifier())]\n",
    ").set_output(transform=\"pandas\")\n",
    "\n",
    "alphas = {\"tree__ccp_alpha\": [0.001, 0.01, 0.1, 0.2, 0.5, 1, 5, 10]}\n",
    "\n",
    "gscv = GridSearchCV(pipeline, alphas, cv=5, scoring=\"roc_auc\")\n",
    "\n",
    "gscv_fitted = gscv.fit(X, y)\n",
    "\n",
    "params_df = pd.DataFrame(gscv_fitted.cv_results_[\"params\"])\n",
    "results_df = params_df.assign(scores=gscv_fitted.cv_results_[\"mean_test_score\"])"
   ]
  },
  {
   "cell_type": "code",
   "execution_count": 409,
   "metadata": {},
   "outputs": [
    {
     "data": {
      "text/html": [
       "<div>\n",
       "<style scoped>\n",
       "    .dataframe tbody tr th:only-of-type {\n",
       "        vertical-align: middle;\n",
       "    }\n",
       "\n",
       "    .dataframe tbody tr th {\n",
       "        vertical-align: top;\n",
       "    }\n",
       "\n",
       "    .dataframe thead th {\n",
       "        text-align: right;\n",
       "    }\n",
       "</style>\n",
       "<table border=\"1\" class=\"dataframe\">\n",
       "  <thead>\n",
       "    <tr style=\"text-align: right;\">\n",
       "      <th></th>\n",
       "      <th>tree__ccp_alpha</th>\n",
       "      <th>scores</th>\n",
       "    </tr>\n",
       "  </thead>\n",
       "  <tbody>\n",
       "    <tr>\n",
       "      <th>1</th>\n",
       "      <td>0.01</td>\n",
       "      <td>0.783892</td>\n",
       "    </tr>\n",
       "  </tbody>\n",
       "</table>\n",
       "</div>"
      ],
      "text/plain": [
       "   tree__ccp_alpha    scores\n",
       "1             0.01  0.783892"
      ]
     },
     "execution_count": 409,
     "metadata": {},
     "output_type": "execute_result"
    }
   ],
   "source": [
    "# Trying all sorts of different variable combinations. Output shown is the best model.\n",
    "\n",
    "X = df_heart.drop([\"output\", \"thalach\"], axis=1)\n",
    "y= df_heart[\"output\"]\n",
    "\n",
    "pipeline = Pipeline(\n",
    "  [(\"selection\", ct),\n",
    "  (\"tree\", DecisionTreeClassifier())]\n",
    ").set_output(transform=\"pandas\")\n",
    "\n",
    "alphas = {\"tree__ccp_alpha\": [0.001, 0.01, 0.1, 0.2, 0.5, 1, 5, 10]}\n",
    "\n",
    "gscv = GridSearchCV(pipeline, alphas, cv=5, scoring=\"roc_auc\")\n",
    "\n",
    "gscv_fitted = gscv.fit(X, y)\n",
    "\n",
    "params_df = pd.DataFrame(gscv_fitted.cv_results_[\"params\"])\n",
    "results_df = params_df.assign(scores=gscv_fitted.cv_results_[\"mean_test_score\"])\n",
    "results_df.sort_values(by=\"scores\", ascending=False).head(n=1)"
   ]
  },
  {
   "cell_type": "markdown",
   "metadata": {},
   "source": [
    "The model, using all of the predictors besides maximum heart rate during exercise, gave a cross-validated ROC AUC score of 0.784."
   ]
  },
  {
   "cell_type": "code",
   "execution_count": 410,
   "metadata": {},
   "outputs": [],
   "source": [
    "tree_pipeline = Pipeline(\n",
    "  [(\"selection\", ct),\n",
    "  (\"tree\", DecisionTreeClassifier(ccp_alpha=0.01))]\n",
    ").set_output(transform=\"pandas\")\n",
    "\n",
    "tree_fit = tree_pipeline.fit(X, y)"
   ]
  },
  {
   "cell_type": "code",
   "execution_count": 411,
   "metadata": {},
   "outputs": [],
   "source": [
    "y_prob = cross_val_predict(tree_pipeline, X, y, cv=5, method=\"predict_proba\")[:, 1]\n",
    "\n",
    "fpr, tpr, thresholds = roc_curve(y, y_prob)\n",
    "roc_auc = roc_auc_score(y, y_prob)\n",
    "\n",
    "temp_data = pd.DataFrame({\n",
    "    \"method\": \"Decision Tree\",\n",
    "    \"FPR\": fpr,\n",
    "    \"TPR\": tpr\n",
    "})\n",
    "\n",
    "roc_data = pd.concat([roc_data, temp_data], axis=0)"
   ]
  },
  {
   "cell_type": "code",
   "execution_count": 412,
   "metadata": {},
   "outputs": [
    {
     "data": {
      "text/plain": [
       "<sklearn.metrics._plot.confusion_matrix.ConfusionMatrixDisplay at 0x187b08a8050>"
      ]
     },
     "execution_count": 412,
     "metadata": {},
     "output_type": "execute_result"
    },
    {
     "data": {
      "image/png": "[encoded data removed]",
      "text/plain": [
       "<Figure size 640x480 with 2 Axes>"
      ]
     },
     "metadata": {},
     "output_type": "display_data"
    }
   ],
   "source": [
    "y_pred_tree = cross_val_predict(tree_pipeline, X, y, cv=5)\n",
    "cm = confusion_matrix(y, y_pred_tree)\n",
    "ConfusionMatrixDisplay(confusion_matrix=cm, display_labels=np.unique(y)).plot()"
   ]
  },
  {
   "cell_type": "markdown",
   "metadata": {},
   "source": [
    "**Q4: Interpretations**"
   ]
  },
  {
   "cell_type": "markdown",
   "metadata": {},
   "source": [
    "In my observations, the most important variables were the predictors that were always adding value to the different models I tested (each with varying feature sets not shown in the rendered document).\n",
    "\n",
    "Sex, chest pain type and resting blood pressure were the three most important variables by that qualitative measure. Based on the choice of model, where KNN, Decision Tree, etc., one of the other predictor variables in the dataset worsened the cross-validated ROC AUC score."
   ]
  },
  {
   "cell_type": "markdown",
   "metadata": {},
   "source": [
    "**Q5: ROC Curve**"
   ]
  },
  {
   "cell_type": "code",
   "execution_count": 413,
   "metadata": {},
   "outputs": [
    {
     "data": {
      "image/png": "[encoded data removed]"
     },
     "metadata": {
      "image/png": {
       "height": 480,
       "width": 640
      }
     },
     "output_type": "display_data"
    }
   ],
   "source": [
    "from plotnine import ggplot, aes, geom_line, labs, theme_minimal, geom_abline\n",
    "\n",
    "(ggplot(roc_data, aes(x=\"FPR\", y=\"TPR\", color=\"method\")) +\n",
    "geom_line() +\n",
    "geom_abline(slope=1, intercept=0, linetype='--', color=\"red\") +\n",
    "labs(title=\"ROC Curve for Different Models Predicting Heart Attack\",\n",
    "         x=\"False Positive Rate\",\n",
    "         y=\"True Positive Rate\") +\n",
    "theme_minimal())"
   ]
  },
  {
   "cell_type": "markdown",
   "metadata": {},
   "source": [
    "**Part Two: Metrics**"
   ]
  },
  {
   "cell_type": "code",
   "execution_count": 414,
   "metadata": {},
   "outputs": [],
   "source": [
    "# Specificity = True Negatives / (True Negatives + False Positives)\n",
    "\n",
    "from sklearn.metrics import make_scorer\n",
    "\n",
    "def specificity(y_true, y_pred):\n",
    "    tn, fp, fn, tp = confusion_matrix(y_true, y_pred).ravel()\n",
    "    return tn / (tn + fp)\n",
    "\n",
    "specificity_scorer = make_scorer(specificity)"
   ]
  },
  {
   "cell_type": "code",
   "execution_count": 415,
   "metadata": {},
   "outputs": [
    {
     "data": {
      "text/plain": [
       "(0.8158620689655173, 0.7833704115684095, 0.74)"
      ]
     },
     "execution_count": 415,
     "metadata": {},
     "output_type": "execute_result"
    }
   ],
   "source": [
    "X = df_heart.drop([\"output\", \"restecg\", \"chol\"], axis=1)\n",
    "y= df_heart[\"output\"]\n",
    "\n",
    "recall_knn = cross_val_score(knn_pipeline, X, y, cv=5, scoring='recall').mean()\n",
    "\n",
    "precision_knn = cross_val_score(knn_pipeline, X, y, cv=5, scoring='precision').mean()\n",
    "\n",
    "specificity_knn = cross_val_score(knn_pipeline, X, y, cv=5, scoring=specificity_scorer).mean()\n",
    "\n",
    "recall_knn, precision_knn, specificity_knn"
   ]
  },
  {
   "cell_type": "code",
   "execution_count": 416,
   "metadata": {},
   "outputs": [
    {
     "data": {
      "text/plain": [
       "(0.8289655172413793, 0.7901181614084839, 0.7387692307692308)"
      ]
     },
     "execution_count": 416,
     "metadata": {},
     "output_type": "execute_result"
    }
   ],
   "source": [
    "X = df_heart.drop([\"output\", \"restecg\", \"age\"], axis=1)\n",
    "y= df_heart[\"output\"]\n",
    "\n",
    "recall_log = cross_val_score(log_pipeline, X, y, cv=5, scoring='recall').mean()\n",
    "\n",
    "precision_log = cross_val_score(log_pipeline, X, y, cv=5, scoring='precision').mean()\n",
    "\n",
    "specificity_log = cross_val_score(log_pipeline, X, y, cv=5, scoring=specificity_scorer).mean()\n",
    "\n",
    "recall_log, precision_log, specificity_log"
   ]
  },
  {
   "cell_type": "code",
   "execution_count": 417,
   "metadata": {},
   "outputs": [
    {
     "data": {
      "text/plain": [
       "(0.8156321839080458, 0.7852347101850145, 0.730153846153846)"
      ]
     },
     "execution_count": 417,
     "metadata": {},
     "output_type": "execute_result"
    }
   ],
   "source": [
    "X = df_heart.drop([\"output\", \"thalach\"], axis=1)\n",
    "y= df_heart[\"output\"]\n",
    "\n",
    "recall_tree = cross_val_score(tree_pipeline, X, y, cv=5, scoring='recall').mean()\n",
    "\n",
    "precision_tree = cross_val_score(tree_pipeline, X, y, cv=5, scoring='precision').mean()\n",
    "\n",
    "specificity_tree = cross_val_score(tree_pipeline, X, y, cv=5, scoring=specificity_scorer).mean()\n",
    "\n",
    "recall_tree, precision_tree, specificity_tree"
   ]
  },
  {
   "cell_type": "markdown",
   "metadata": {},
   "source": [
    "**Part Three: Discussion**"
   ]
  },
  {
   "cell_type": "markdown",
   "metadata": {},
   "source": [
    "**Q1**\n",
    "The hospital faces severe lawsuits if they deem a patient to be low risk, and that patient later experiences a heart attack."
   ]
  },
  {
   "cell_type": "markdown",
   "metadata": {},
   "source": [
    "With this situation, it is very important that the model correctly identifies patients who are truly at risk (true positives). A high recall is the metric to focus on. I would recommend the Logistic Regression to the hopsital, as they should expect a recall score of 0.816 in the future with this method: higher than the other two methods."
   ]
  },
  {
   "cell_type": "markdown",
   "metadata": {},
   "source": [
    "**Q2**\n",
    "The hospital is overfull, and wants to only use bed space for patients most in need of monitoring due to heart attack risk."
   ]
  },
  {
   "cell_type": "markdown",
   "metadata": {},
   "source": [
    "With this situation, it is very important that the model correctly identifies patients who are not truly at risk (True Negatives). Specificity is the metric to focus on. Precision is important as well because we want to lower the amount of false positives - patients who are not in need of care. All of the models have very similar results - I would focus on the one with the highest specificity - the KNN model."
   ]
  },
  {
   "cell_type": "markdown",
   "metadata": {},
   "source": [
    "**Q3**\n",
    "The hospital is studying root causes of heart attacks, and would like to understand which biological measures are associated with heart attack risk."
   ]
  },
  {
   "cell_type": "markdown",
   "metadata": {},
   "source": [
    "In this case, there isn't a strict metric to use. Instead, you need to view the coefficients of a model and determine by their sign and magnitude their individual contributions to heart attacks. With the three models we have used in this lab, Logistic Regression is the only one that uses coefficients in its modeling."
   ]
  },
  {
   "cell_type": "markdown",
   "metadata": {},
   "source": [
    "**Q4**\n",
    "The hospital is training a new batch of doctors, and they would like to compare the diagnoses of these doctors to the predictions given by the algorithm to measure the ability of new doctors to diagnose patients."
   ]
  },
  {
   "cell_type": "markdown",
   "metadata": {},
   "source": [
    "In this case, it is very open ended on what metric the hosiptal should use. Overall accuracy makes the most sense. Of the metrics we tested above, I would recommend recall. In the case of heart attacks, it is very important that doctors correctly identify the cases of concern and recall does that. I would use the logistic regression model for this."
   ]
  },
  {
   "cell_type": "markdown",
   "metadata": {},
   "source": [
    "**Part Four: Validation**"
   ]
  },
  {
   "cell_type": "code",
   "execution_count": 418,
   "metadata": {},
   "outputs": [],
   "source": [
    "ha_validation = pd.read_csv(\"https://www.dropbox.com/s/jkwqdiyx6o6oad0/heart_attack_validation.csv?dl=1\")"
   ]
  },
  {
   "cell_type": "code",
   "execution_count": 419,
   "metadata": {},
   "outputs": [
    {
     "data": {
      "text/plain": [
       "(0.8875598086124402, 0.9333333333333333, 0.7368421052631579)"
      ]
     },
     "execution_count": 419,
     "metadata": {},
     "output_type": "execute_result"
    }
   ],
   "source": [
    "from sklearn.metrics import roc_auc_score, precision_score, recall_score\n",
    "\n",
    "# For KNN\n",
    "\n",
    "X = df_heart.drop([\"output\", \"restecg\", \"chol\"], axis=1)\n",
    "y= df_heart[\"output\"]\n",
    "\n",
    "knn_pipeline = Pipeline(\n",
    "  [(\"selection\", ct),\n",
    "  (\"kNN\", KNeighborsClassifier(n_neighbors=15))]\n",
    ").set_output(transform=\"pandas\")\n",
    "\n",
    "knn_fit = knn_pipeline.fit(X, y)\n",
    "\n",
    "\n",
    "X_test = ha_validation.drop([\"output\", \"restecg\", \"chol\"], axis=1)\n",
    "y_test = ha_validation[\"output\"]\n",
    "\n",
    "knn_pred = knn_fit.predict(X_test)\n",
    "\n",
    "roc_auc = roc_auc_score(y_test, knn_fit.predict_proba(X_test)[:, 1])\n",
    "precision = precision_score(y_test, knn_pred)\n",
    "recall = recall_score(y_test, knn_pred)\n",
    "\n",
    "roc_auc, precision, recall"
   ]
  },
  {
   "cell_type": "code",
   "execution_count": 420,
   "metadata": {},
   "outputs": [
    {
     "data": {
      "text/plain": [
       "<sklearn.metrics._plot.confusion_matrix.ConfusionMatrixDisplay at 0x187af7fff90>"
      ]
     },
     "execution_count": 420,
     "metadata": {},
     "output_type": "execute_result"
    },
    {
     "data": {
      "image/png": "[encoded data removed]",
      "text/plain": [
       "<Figure size 640x480 with 2 Axes>"
      ]
     },
     "metadata": {},
     "output_type": "display_data"
    }
   ],
   "source": [
    "cm = confusion_matrix(y_test, knn_pred)\n",
    "ConfusionMatrixDisplay(confusion_matrix=cm, display_labels=np.unique(y)).plot()"
   ]
  },
  {
   "cell_type": "code",
   "execution_count": 421,
   "metadata": {},
   "outputs": [
    {
     "data": {
      "text/plain": [
       "(0.8947368421052632, 0.8235294117647058, 0.7368421052631579)"
      ]
     },
     "execution_count": 421,
     "metadata": {},
     "output_type": "execute_result"
    }
   ],
   "source": [
    "# For Logistic\n",
    "\n",
    "X = df_heart.drop([\"output\", \"restecg\", \"age\"], axis=1)\n",
    "y= df_heart[\"output\"]\n",
    "\n",
    "log_pipeline = Pipeline(\n",
    "  [(\"selection\", ct),\n",
    "  (\"logistic_regression\", LogisticRegression(C=10))]\n",
    ").set_output(transform=\"pandas\")\n",
    "\n",
    "log_fit = log_pipeline.fit(X, y)\n",
    "\n",
    "\n",
    "X_test = ha_validation.drop([\"output\", \"restecg\", \"age\"], axis=1)\n",
    "y_test = ha_validation[\"output\"]\n",
    "\n",
    "log_pred = log_fit.predict(X_test)\n",
    "\n",
    "roc_auc = roc_auc_score(y_test, log_fit.predict_proba(X_test)[:, 1])\n",
    "precision = precision_score(y_test, log_pred)\n",
    "recall = recall_score(y_test, log_pred)\n",
    "\n",
    "roc_auc, precision, recall"
   ]
  },
  {
   "cell_type": "code",
   "execution_count": 422,
   "metadata": {},
   "outputs": [
    {
     "data": {
      "text/plain": [
       "<sklearn.metrics._plot.confusion_matrix.ConfusionMatrixDisplay at 0x187aa2ea310>"
      ]
     },
     "execution_count": 422,
     "metadata": {},
     "output_type": "execute_result"
    },
    {
     "data": {
      "image/png": "[encoded data removed]",
      "text/plain": [
       "<Figure size 640x480 with 2 Axes>"
      ]
     },
     "metadata": {},
     "output_type": "display_data"
    }
   ],
   "source": [
    "cm = confusion_matrix(y_test, log_pred)\n",
    "ConfusionMatrixDisplay(confusion_matrix=cm, display_labels=np.unique(y)).plot()"
   ]
  },
  {
   "cell_type": "code",
   "execution_count": 423,
   "metadata": {},
   "outputs": [
    {
     "data": {
      "text/plain": [
       "(0.8373205741626792, 0.9333333333333333, 0.7368421052631579)"
      ]
     },
     "execution_count": 423,
     "metadata": {},
     "output_type": "execute_result"
    }
   ],
   "source": [
    "# For Decision\n",
    "\n",
    "X = df_heart.drop([\"output\", \"thalach\"], axis=1)\n",
    "y= df_heart[\"output\"]\n",
    "\n",
    "tree_pipeline = Pipeline(\n",
    "  [(\"selection\", ct),\n",
    "  (\"tree\", DecisionTreeClassifier(ccp_alpha=0.01))]\n",
    ").set_output(transform=\"pandas\")\n",
    "\n",
    "tree_fit = tree_pipeline.fit(X, y)\n",
    "\n",
    "\n",
    "X_test = ha_validation.drop([\"output\", \"thalach\"], axis=1)\n",
    "y_test = ha_validation[\"output\"]\n",
    "\n",
    "tree_pred = tree_fit.predict(X_test)\n",
    "\n",
    "roc_auc = roc_auc_score(y_test, tree_fit.predict_proba(X_test)[:, 1])\n",
    "precision = precision_score(y_test, tree_pred)\n",
    "recall = recall_score(y_test, tree_pred)\n",
    "\n",
    "roc_auc, precision, recall"
   ]
  },
  {
   "cell_type": "code",
   "execution_count": 424,
   "metadata": {},
   "outputs": [
    {
     "data": {
      "text/plain": [
       "<sklearn.metrics._plot.confusion_matrix.ConfusionMatrixDisplay at 0x187ac737d90>"
      ]
     },
     "execution_count": 424,
     "metadata": {},
     "output_type": "execute_result"
    },
    {
     "data": {
      "image/png": "[encoded data removed]",
      "text/plain": [
       "<Figure size 640x480 with 2 Axes>"
      ]
     },
     "metadata": {},
     "output_type": "display_data"
    }
   ],
   "source": [
    "cm = confusion_matrix(y_test, tree_pred)\n",
    "ConfusionMatrixDisplay(confusion_matrix=cm, display_labels=np.unique(y)).plot()"
   ]
  },
  {
   "cell_type": "markdown",
   "metadata": {},
   "source": [
    "We are very precise across the board, especially with the KNN and Decision Tree models. Our measures of success seem approximately very similar between our training data and our validation data."
   ]
  },
  {
   "cell_type": "markdown",
   "metadata": {},
   "source": [
    "**Part Five: Cohen’s Kappa**"
   ]
  },
  {
   "cell_type": "code",
   "execution_count": 433,
   "metadata": {},
   "outputs": [
    {
     "data": {
      "text/plain": [
       "(0.6, 0.4470046082949308, 0.6)"
      ]
     },
     "execution_count": 433,
     "metadata": {},
     "output_type": "execute_result"
    }
   ],
   "source": [
    "from sklearn.metrics import cohen_kappa_score\n",
    "\n",
    "knn_cks = cohen_kappa_score(y_test, knn_pred)\n",
    "log_cks = cohen_kappa_score(y_test, log_pred)\n",
    "tree_cks = cohen_kappa_score(y_test, tree_pred)\n",
    "\n",
    "knn_cks, log_cks, tree_cks"
   ]
  },
  {
   "cell_type": "markdown",
   "metadata": {},
   "source": [
    "In this case, interestingly enough, the KNN and Decision Tree models have the same Cohen Kappa Score with the validation set. My conclusions from above do slightly change with these results. Now, I would feel less confident using the Logistic Regression Model, as it has a definitive lower score than the other two models with the validation set. \n",
    "\n",
    "I would follow this up with cross-validated predictions on the entire data set with a Cohen Kappa Score for each model before coming to a final conclusion though."
   ]
  }
 ],
 "metadata": {
  "kernelspec": {
   "display_name": "base",
   "language": "python",
   "name": "python3"
  },
  "language_info": {
   "codemirror_mode": {
    "name": "ipython",
    "version": 3
   },
   "file_extension": ".py",
   "mimetype": "text/x-python",
   "name": "python",
   "nbconvert_exporter": "python",
   "pygments_lexer": "ipython3",
   "version": "3.11.7"
  }
 },
 "nbformat": 4,
 "nbformat_minor": 2
}

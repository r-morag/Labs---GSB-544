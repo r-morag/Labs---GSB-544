{
 "cells": [
  {
   "cell_type": "raw",
   "metadata": {
    "vscode": {
     "languageId": "raw"
    }
   },
   "source": [
    "---\n",
    "title: \"Lab 7 - Heart Attack\"\n",
    "author: \"Roee Morag\"\n",
    "date: \"2024-11-01\"\n",
    "output: \n",
    "  html_document:\n",
    "    theme: \"cosmo\" \n",
    "embed-resources: true\n",
    "---"
   ]
  },
  {
   "cell_type": "code",
   "execution_count": 1,
   "metadata": {},
   "outputs": [],
   "source": [
    "import pandas as pd \n",
    "import numpy as np\n",
    "\n",
    "from sklearn.pipeline import Pipeline\n",
    "from sklearn.neighbors import KNeighborsClassifier\n",
    "from sklearn.tree import DecisionTreeClassifier\n",
    "from sklearn.linear_model import LogisticRegression\n",
    "from sklearn.compose import make_column_selector, ColumnTransformer\n",
    "from sklearn.preprocessing import StandardScaler, OneHotEncoder, PolynomialFeatures, FunctionTransformer\n",
    "from sklearn.discriminant_analysis import LinearDiscriminantAnalysis, QuadraticDiscriminantAnalysis\n",
    "from sklearn.svm import SVC\n",
    "from sklearn.model_selection import GridSearchCV\n",
    "from sklearn.model_selection import train_test_split, cross_val_score, cross_val_predict\n",
    "from sklearn.metrics import r2_score, confusion_matrix, ConfusionMatrixDisplay, accuracy_score, classification_report\n",
    "from sklearn.metrics import roc_curve, roc_auc_score"
   ]
  },
  {
   "cell_type": "code",
   "execution_count": 2,
   "metadata": {},
   "outputs": [],
   "source": [
    "df_heart = pd.read_csv(\"https://www.dropbox.com/s/aohbr6yb9ifmc8w/heart_attack.csv?dl=1\")"
   ]
  },
  {
   "cell_type": "code",
   "execution_count": 3,
   "metadata": {},
   "outputs": [
    {
     "data": {
      "text/html": [
       "<div>\n",
       "<style scoped>\n",
       "    .dataframe tbody tr th:only-of-type {\n",
       "        vertical-align: middle;\n",
       "    }\n",
       "\n",
       "    .dataframe tbody tr th {\n",
       "        vertical-align: top;\n",
       "    }\n",
       "\n",
       "    .dataframe thead th {\n",
       "        text-align: right;\n",
       "    }\n",
       "</style>\n",
       "<table border=\"1\" class=\"dataframe\">\n",
       "  <thead>\n",
       "    <tr style=\"text-align: right;\">\n",
       "      <th></th>\n",
       "      <th>age</th>\n",
       "      <th>sex</th>\n",
       "      <th>cp</th>\n",
       "      <th>trtbps</th>\n",
       "      <th>chol</th>\n",
       "      <th>restecg</th>\n",
       "      <th>thalach</th>\n",
       "      <th>output</th>\n",
       "    </tr>\n",
       "  </thead>\n",
       "  <tbody>\n",
       "    <tr>\n",
       "      <th>0</th>\n",
       "      <td>63</td>\n",
       "      <td>1</td>\n",
       "      <td>3</td>\n",
       "      <td>145</td>\n",
       "      <td>233</td>\n",
       "      <td>0</td>\n",
       "      <td>150</td>\n",
       "      <td>1</td>\n",
       "    </tr>\n",
       "    <tr>\n",
       "      <th>1</th>\n",
       "      <td>37</td>\n",
       "      <td>1</td>\n",
       "      <td>2</td>\n",
       "      <td>130</td>\n",
       "      <td>250</td>\n",
       "      <td>1</td>\n",
       "      <td>187</td>\n",
       "      <td>1</td>\n",
       "    </tr>\n",
       "    <tr>\n",
       "      <th>2</th>\n",
       "      <td>56</td>\n",
       "      <td>1</td>\n",
       "      <td>1</td>\n",
       "      <td>120</td>\n",
       "      <td>236</td>\n",
       "      <td>1</td>\n",
       "      <td>178</td>\n",
       "      <td>1</td>\n",
       "    </tr>\n",
       "    <tr>\n",
       "      <th>3</th>\n",
       "      <td>57</td>\n",
       "      <td>0</td>\n",
       "      <td>0</td>\n",
       "      <td>120</td>\n",
       "      <td>354</td>\n",
       "      <td>1</td>\n",
       "      <td>163</td>\n",
       "      <td>1</td>\n",
       "    </tr>\n",
       "    <tr>\n",
       "      <th>4</th>\n",
       "      <td>57</td>\n",
       "      <td>1</td>\n",
       "      <td>0</td>\n",
       "      <td>140</td>\n",
       "      <td>192</td>\n",
       "      <td>1</td>\n",
       "      <td>148</td>\n",
       "      <td>1</td>\n",
       "    </tr>\n",
       "  </tbody>\n",
       "</table>\n",
       "</div>"
      ],
      "text/plain": [
       "   age  sex  cp  trtbps  chol  restecg  thalach  output\n",
       "0   63    1   3     145   233        0      150       1\n",
       "1   37    1   2     130   250        1      187       1\n",
       "2   56    1   1     120   236        1      178       1\n",
       "3   57    0   0     120   354        1      163       1\n",
       "4   57    1   0     140   192        1      148       1"
      ]
     },
     "execution_count": 3,
     "metadata": {},
     "output_type": "execute_result"
    }
   ],
   "source": [
    "df_heart.head()"
   ]
  },
  {
   "cell_type": "markdown",
   "metadata": {},
   "source": [
    "All of these predictors seem mildly important in determining a doctor's diagnosis of a heart attack. I will run a first model with all of these variables and adjust what seems necessary based on coefficients."
   ]
  },
  {
   "cell_type": "markdown",
   "metadata": {},
   "source": [
    "**Part 1: Fitting Models**"
   ]
  },
  {
   "cell_type": "code",
   "execution_count": 4,
   "metadata": {},
   "outputs": [],
   "source": [
    "ct = ColumnTransformer(\n",
    "    [\n",
    "      (\"dummify\", \n",
    "      OneHotEncoder(sparse_output = False, handle_unknown='ignore', drop=\"first\"),\n",
    "      make_column_selector(dtype_include=object)),\n",
    "      (\"standardize\", \n",
    "      StandardScaler(), \n",
    "      make_column_selector(dtype_include=np.number))\n",
    "    ],\n",
    "    remainder = \"drop\"\n",
    ")"
   ]
  },
  {
   "cell_type": "markdown",
   "metadata": {},
   "source": [
    "**Q1: KNN**"
   ]
  },
  {
   "cell_type": "code",
   "execution_count": 5,
   "metadata": {},
   "outputs": [],
   "source": [
    "# First model with all variables.\n",
    "\n",
    "X = df_heart.drop(\"output\", axis=1)\n",
    "y= df_heart[\"output\"]\n",
    "\n",
    "pipeline = Pipeline(\n",
    "  [(\"selection\", ct),\n",
    "  (\"kNN\", KNeighborsClassifier())]\n",
    ").set_output(transform=\"pandas\")\n",
    "\n",
    "neighbors = {'kNN__n_neighbors': [1, 3, 5, 7, 15]}\n",
    "\n",
    "gscv = GridSearchCV(pipeline, neighbors, cv=5, scoring=\"roc_auc\")\n",
    "\n",
    "gscv_fitted = gscv.fit(X, y)\n",
    "\n",
    "params_df = pd.DataFrame(gscv_fitted.cv_results_[\"params\"])\n",
    "results_df = params_df.assign(scores=gscv_fitted.cv_results_[\"mean_test_score\"])"
   ]
  },
  {
   "cell_type": "code",
   "execution_count": 6,
   "metadata": {},
   "outputs": [
    {
     "data": {
      "text/html": [
       "<div>\n",
       "<style scoped>\n",
       "    .dataframe tbody tr th:only-of-type {\n",
       "        vertical-align: middle;\n",
       "    }\n",
       "\n",
       "    .dataframe tbody tr th {\n",
       "        vertical-align: top;\n",
       "    }\n",
       "\n",
       "    .dataframe thead th {\n",
       "        text-align: right;\n",
       "    }\n",
       "</style>\n",
       "<table border=\"1\" class=\"dataframe\">\n",
       "  <thead>\n",
       "    <tr style=\"text-align: right;\">\n",
       "      <th></th>\n",
       "      <th>kNN__n_neighbors</th>\n",
       "      <th>scores</th>\n",
       "    </tr>\n",
       "  </thead>\n",
       "  <tbody>\n",
       "    <tr>\n",
       "      <th>4</th>\n",
       "      <td>15</td>\n",
       "      <td>0.853045</td>\n",
       "    </tr>\n",
       "  </tbody>\n",
       "</table>\n",
       "</div>"
      ],
      "text/plain": [
       "   kNN__n_neighbors    scores\n",
       "4                15  0.853045"
      ]
     },
     "execution_count": 6,
     "metadata": {},
     "output_type": "execute_result"
    }
   ],
   "source": [
    "# Trying all sorts of different options - the final ouput shown is the best ROC AUC\n",
    "\n",
    "X = df_heart.drop([\"output\", \"restecg\", \"chol\"], axis=1)\n",
    "y= df_heart[\"output\"]\n",
    "\n",
    "pipeline = Pipeline(\n",
    "  [(\"selection\", ct),\n",
    "  (\"kNN\", KNeighborsClassifier())]\n",
    ").set_output(transform=\"pandas\")\n",
    "\n",
    "neighbors = {'kNN__n_neighbors': [1, 3, 5, 7, 15]}\n",
    "\n",
    "gscv = GridSearchCV(pipeline, neighbors, cv=5, scoring=\"roc_auc\")\n",
    "\n",
    "gscv_fitted = gscv.fit(X, y)\n",
    "\n",
    "params_df = pd.DataFrame(gscv_fitted.cv_results_[\"params\"])\n",
    "results_df = params_df.assign(scores=gscv_fitted.cv_results_[\"mean_test_score\"])\n",
    "results_df.sort_values(by=\"scores\", ascending=False).head(n=1)"
   ]
  },
  {
   "cell_type": "markdown",
   "metadata": {
    "vscode": {
     "languageId": "plaintext"
    }
   },
   "source": [
    "The model, using all of the predictors besides resting electrocardiographic results and cholesterol gave a cross-validated ROC AUC score of 0.853."
   ]
  },
  {
   "cell_type": "code",
   "execution_count": 7,
   "metadata": {},
   "outputs": [],
   "source": [
    "pipeline = Pipeline(\n",
    "  [(\"selection\", ct),\n",
    "  (\"kNN\", KNeighborsClassifier(n_neighbors=15))]\n",
    ").set_output(transform=\"pandas\")"
   ]
  },
  {
   "cell_type": "code",
   "execution_count": 8,
   "metadata": {},
   "outputs": [],
   "source": [
    "y_prob = cross_val_predict(pipeline, X, y, cv=5, method=\"predict_proba\")[:, 1]\n",
    "\n",
    "fpr, tpr, thresholds = roc_curve(y, y_prob)\n",
    "roc_auc = roc_auc_score(y, y_prob)\n",
    "\n",
    "roc_data = pd.DataFrame({\n",
    "    \"method\": \"KNN\",\n",
    "    \"FPR\": fpr,\n",
    "    \"TPR\": tpr\n",
    "})"
   ]
  },
  {
   "cell_type": "code",
   "execution_count": 9,
   "metadata": {},
   "outputs": [
    {
     "data": {
      "text/plain": [
       "<sklearn.metrics._plot.confusion_matrix.ConfusionMatrixDisplay at 0x24ae5cdbb50>"
      ]
     },
     "execution_count": 9,
     "metadata": {},
     "output_type": "execute_result"
    },
    {
     "data": {
      "image/png": "[encoded data removed]",
      "text/plain": [
       "<Figure size 640x480 with 2 Axes>"
      ]
     },
     "metadata": {},
     "output_type": "display_data"
    }
   ],
   "source": [
    "y_pred = cross_val_predict(pipeline, X, y, cv=5)\n",
    "cm = confusion_matrix(y, y_pred)\n",
    "ConfusionMatrixDisplay(confusion_matrix=cm, display_labels=np.unique(y)).plot()"
   ]
  },
  {
   "cell_type": "markdown",
   "metadata": {},
   "source": [
    "It is not applicable to interpret coefficients with a KNN model."
   ]
  },
  {
   "cell_type": "markdown",
   "metadata": {},
   "source": [
    "**Q2: Logistic Regression**"
   ]
  },
  {
   "cell_type": "code",
   "execution_count": 10,
   "metadata": {},
   "outputs": [],
   "source": [
    "# First model with all variables.\n",
    "\n",
    "X = df_heart.drop(\"output\", axis=1)\n",
    "y= df_heart[\"output\"]\n",
    "\n",
    "pipeline = Pipeline(\n",
    "  [(\"selection\", ct),\n",
    "  (\"log\", LogisticRegression())]\n",
    ").set_output(transform=\"pandas\")\n",
    "\n",
    "reg_terms = {\"log__C\": [0.001, 0.01, 0.1, 1, 10, 100, 1000]}\n",
    "\n",
    "gscv = GridSearchCV(pipeline, reg_terms, cv=5, scoring=\"roc_auc\")\n",
    "\n",
    "gscv_fitted = gscv.fit(X, y)\n",
    "\n",
    "params_df = pd.DataFrame(gscv_fitted.cv_results_[\"params\"])\n",
    "results_df = params_df.assign(scores=gscv_fitted.cv_results_[\"mean_test_score\"])"
   ]
  },
  {
   "cell_type": "code",
   "execution_count": 11,
   "metadata": {},
   "outputs": [
    {
     "data": {
      "text/html": [
       "<div>\n",
       "<style scoped>\n",
       "    .dataframe tbody tr th:only-of-type {\n",
       "        vertical-align: middle;\n",
       "    }\n",
       "\n",
       "    .dataframe tbody tr th {\n",
       "        vertical-align: top;\n",
       "    }\n",
       "\n",
       "    .dataframe thead th {\n",
       "        text-align: right;\n",
       "    }\n",
       "</style>\n",
       "<table border=\"1\" class=\"dataframe\">\n",
       "  <thead>\n",
       "    <tr style=\"text-align: right;\">\n",
       "      <th></th>\n",
       "      <th>log__C</th>\n",
       "      <th>scores</th>\n",
       "    </tr>\n",
       "  </thead>\n",
       "  <tbody>\n",
       "    <tr>\n",
       "      <th>4</th>\n",
       "      <td>10.0</td>\n",
       "      <td>0.859289</td>\n",
       "    </tr>\n",
       "  </tbody>\n",
       "</table>\n",
       "</div>"
      ],
      "text/plain": [
       "   log__C    scores\n",
       "4    10.0  0.859289"
      ]
     },
     "execution_count": 11,
     "metadata": {},
     "output_type": "execute_result"
    }
   ],
   "source": [
    "# Trying all sorts of different variable combinations. Output shown is the best model.\n",
    "\n",
    "X = df_heart.drop([\"output\", \"restecg\", \"age\"], axis=1)\n",
    "y= df_heart[\"output\"]\n",
    "\n",
    "pipeline = Pipeline(\n",
    "  [(\"selection\", ct),\n",
    "  (\"log\", LogisticRegression())]\n",
    ").set_output(transform=\"pandas\")\n",
    "\n",
    "reg_terms = {\"log__C\": [0.001, 0.01, 0.1, 1, 10, 100, 1000]}\n",
    "\n",
    "gscv = GridSearchCV(pipeline, reg_terms, cv=5, scoring=\"roc_auc\")\n",
    "\n",
    "gscv_fitted = gscv.fit(X, y)\n",
    "\n",
    "params_df = pd.DataFrame(gscv_fitted.cv_results_[\"params\"])\n",
    "results_df = params_df.assign(scores=gscv_fitted.cv_results_[\"mean_test_score\"])\n",
    "results_df.sort_values(by=\"scores\", ascending=False).head(n=1)"
   ]
  },
  {
   "cell_type": "markdown",
   "metadata": {},
   "source": [
    "The model, using all of the predictors besides resting electrocardiographic results and age, gave a cross-validated ROC AUC score of 0.8593."
   ]
  },
  {
   "cell_type": "code",
   "execution_count": 12,
   "metadata": {},
   "outputs": [],
   "source": [
    "pipeline = Pipeline(\n",
    "  [(\"selection\", ct),\n",
    "  (\"log\", LogisticRegression(C=10))]\n",
    ").set_output(transform=\"pandas\")"
   ]
  },
  {
   "cell_type": "code",
   "execution_count": null,
   "metadata": {},
   "outputs": [],
   "source": [
    "y_prob = cross_val_predict(pipeline, X, y, cv=5, method=\"predict_proba\")[:, 1]\n",
    "\n",
    "fpr, tpr, thresholds = roc_curve(y, y_prob)\n",
    "roc_auc = roc_auc_score(y, y_prob)\n",
    "\n",
    "temp_data = pd.DataFrame({\n",
    "    \"method\": \"Logistic Regression\",\n",
    "    \"FPR\": fpr,\n",
    "    \"TPR\": tpr\n",
    "})"
   ]
  },
  {
   "cell_type": "code",
   "execution_count": 14,
   "metadata": {},
   "outputs": [
    {
     "data": {
      "text/plain": [
       "<sklearn.metrics._plot.confusion_matrix.ConfusionMatrixDisplay at 0x24ae60f94d0>"
      ]
     },
     "execution_count": 14,
     "metadata": {},
     "output_type": "execute_result"
    },
    {
     "data": {
      "image/png": "[encoded data removed]",
      "text/plain": [
       "<Figure size 640x480 with 2 Axes>"
      ]
     },
     "metadata": {},
     "output_type": "display_data"
    }
   ],
   "source": [
    "y_pred = cross_val_predict(pipeline, X, y, cv=5)\n",
    "cm = confusion_matrix(y, y_pred)\n",
    "ConfusionMatrixDisplay(confusion_matrix=cm, display_labels=np.unique(y)).plot()"
   ]
  },
  {
   "cell_type": "code",
   "execution_count": 15,
   "metadata": {},
   "outputs": [
    {
     "data": {
      "text/html": [
       "<div>\n",
       "<style scoped>\n",
       "    .dataframe tbody tr th:only-of-type {\n",
       "        vertical-align: middle;\n",
       "    }\n",
       "\n",
       "    .dataframe tbody tr th {\n",
       "        vertical-align: top;\n",
       "    }\n",
       "\n",
       "    .dataframe thead th {\n",
       "        text-align: right;\n",
       "    }\n",
       "</style>\n",
       "<table border=\"1\" class=\"dataframe\">\n",
       "  <thead>\n",
       "    <tr style=\"text-align: right;\">\n",
       "      <th></th>\n",
       "      <th>Feature</th>\n",
       "      <th>Coefficient</th>\n",
       "    </tr>\n",
       "  </thead>\n",
       "  <tbody>\n",
       "    <tr>\n",
       "      <th>0</th>\n",
       "      <td>sex</td>\n",
       "      <td>-0.988176</td>\n",
       "    </tr>\n",
       "    <tr>\n",
       "      <th>1</th>\n",
       "      <td>cp</td>\n",
       "      <td>0.881753</td>\n",
       "    </tr>\n",
       "    <tr>\n",
       "      <th>2</th>\n",
       "      <td>trtbps</td>\n",
       "      <td>-0.483509</td>\n",
       "    </tr>\n",
       "    <tr>\n",
       "      <th>3</th>\n",
       "      <td>chol</td>\n",
       "      <td>-0.341750</td>\n",
       "    </tr>\n",
       "    <tr>\n",
       "      <th>4</th>\n",
       "      <td>thalach</td>\n",
       "      <td>1.013340</td>\n",
       "    </tr>\n",
       "  </tbody>\n",
       "</table>\n",
       "</div>"
      ],
      "text/plain": [
       "   Feature  Coefficient\n",
       "0      sex    -0.988176\n",
       "1       cp     0.881753\n",
       "2   trtbps    -0.483509\n",
       "3     chol    -0.341750\n",
       "4  thalach     1.013340"
      ]
     },
     "execution_count": 15,
     "metadata": {},
     "output_type": "execute_result"
    }
   ],
   "source": [
    "pipeline = Pipeline(\n",
    "  [(\"selection\", ct),\n",
    "  (\"logestic_regression\", LogisticRegression(C=10))]\n",
    ").set_output(transform=\"pandas\")\n",
    "\n",
    "pipeline.fit(X, y)\n",
    "logistic_regression_model = pipeline.named_steps[\"logestic_regression\"]\n",
    "\n",
    "coef = logistic_regression_model.coef_[0]\n",
    "feature_names = X.columns\n",
    "\n",
    "coef_df = pd.DataFrame({\n",
    "    \"Feature\": feature_names,\n",
    "    \"Coefficient\": coef\n",
    "})\n",
    "\n",
    "coef_df"
   ]
  },
  {
   "cell_type": "markdown",
   "metadata": {},
   "source": [
    "A higher chest pain increases your odds of having a heart attack; same with maximum heart rate achieved during exercise. A higher resting blood pressure decreases your odds of having a heart attack; same with cholesterol. Being a female is associated with less of a risk of heart attack as being male."
   ]
  },
  {
   "cell_type": "markdown",
   "metadata": {},
   "source": [
    "**Q3: Decision Tree**"
   ]
  },
  {
   "cell_type": "code",
   "execution_count": 16,
   "metadata": {},
   "outputs": [],
   "source": [
    "# First model with all variables.\n",
    "\n",
    "X = df_heart.drop(\"output\", axis=1)\n",
    "y= df_heart[\"output\"]\n",
    "\n",
    "pipeline = Pipeline(\n",
    "  [(\"selection\", ct),\n",
    "  (\"tree\", DecisionTreeClassifier())]\n",
    ").set_output(transform=\"pandas\")\n",
    "\n",
    "alphas = {\"tree__ccp_alpha\": [0.001, 0.01, 0.1, 0.2, 0.5, 1, 5, 10]}\n",
    "\n",
    "gscv = GridSearchCV(pipeline, alphas, cv=5, scoring=\"roc_auc\")\n",
    "\n",
    "gscv_fitted = gscv.fit(X, y)\n",
    "\n",
    "params_df = pd.DataFrame(gscv_fitted.cv_results_[\"params\"])\n",
    "results_df = params_df.assign(scores=gscv_fitted.cv_results_[\"mean_test_score\"])"
   ]
  },
  {
   "cell_type": "code",
   "execution_count": 17,
   "metadata": {},
   "outputs": [
    {
     "data": {
      "text/html": [
       "<div>\n",
       "<style scoped>\n",
       "    .dataframe tbody tr th:only-of-type {\n",
       "        vertical-align: middle;\n",
       "    }\n",
       "\n",
       "    .dataframe tbody tr th {\n",
       "        vertical-align: top;\n",
       "    }\n",
       "\n",
       "    .dataframe thead th {\n",
       "        text-align: right;\n",
       "    }\n",
       "</style>\n",
       "<table border=\"1\" class=\"dataframe\">\n",
       "  <thead>\n",
       "    <tr style=\"text-align: right;\">\n",
       "      <th></th>\n",
       "      <th>tree__ccp_alpha</th>\n",
       "      <th>scores</th>\n",
       "    </tr>\n",
       "  </thead>\n",
       "  <tbody>\n",
       "    <tr>\n",
       "      <th>1</th>\n",
       "      <td>0.01</td>\n",
       "      <td>0.783892</td>\n",
       "    </tr>\n",
       "  </tbody>\n",
       "</table>\n",
       "</div>"
      ],
      "text/plain": [
       "   tree__ccp_alpha    scores\n",
       "1             0.01  0.783892"
      ]
     },
     "execution_count": 17,
     "metadata": {},
     "output_type": "execute_result"
    }
   ],
   "source": [
    "# Trying all sorts of different variable combinations. Output shown is the best model.\n",
    "\n",
    "X = df_heart.drop([\"output\", \"thalach\"], axis=1)\n",
    "y= df_heart[\"output\"]\n",
    "\n",
    "pipeline = Pipeline(\n",
    "  [(\"selection\", ct),\n",
    "  (\"tree\", DecisionTreeClassifier())]\n",
    ").set_output(transform=\"pandas\")\n",
    "\n",
    "alphas = {\"tree__ccp_alpha\": [0.001, 0.01, 0.1, 0.2, 0.5, 1, 5, 10]}\n",
    "\n",
    "gscv = GridSearchCV(pipeline, alphas, cv=5, scoring=\"roc_auc\")\n",
    "\n",
    "gscv_fitted = gscv.fit(X, y)\n",
    "\n",
    "params_df = pd.DataFrame(gscv_fitted.cv_results_[\"params\"])\n",
    "results_df = params_df.assign(scores=gscv_fitted.cv_results_[\"mean_test_score\"])\n",
    "results_df.sort_values(by=\"scores\", ascending=False).head(n=1)"
   ]
  },
  {
   "cell_type": "markdown",
   "metadata": {},
   "source": [
    "The model, using all of the predictors besides maximum heart rate during exercise, gave a cross-validated ROC AUC score of 0.784."
   ]
  },
  {
   "cell_type": "code",
   "execution_count": 18,
   "metadata": {},
   "outputs": [],
   "source": [
    "pipeline = Pipeline(\n",
    "  [(\"selection\", ct),\n",
    "  (\"tree\", DecisionTreeClassifier(ccp_alpha=0.01))]\n",
    ").set_output(transform=\"pandas\")"
   ]
  },
  {
   "cell_type": "code",
   "execution_count": 19,
   "metadata": {},
   "outputs": [
    {
     "data": {
      "text/plain": [
       "<sklearn.metrics._plot.confusion_matrix.ConfusionMatrixDisplay at 0x24aea3c3110>"
      ]
     },
     "execution_count": 19,
     "metadata": {},
     "output_type": "execute_result"
    },
    {
     "data": {
      "image/png": "[encoded data removed]",
      "text/plain": [
       "<Figure size 640x480 with 2 Axes>"
      ]
     },
     "metadata": {},
     "output_type": "display_data"
    }
   ],
   "source": [
    "y_pred = cross_val_predict(pipeline, X, y, cv=5)\n",
    "cm = confusion_matrix(y, y_pred)\n",
    "ConfusionMatrixDisplay(confusion_matrix=cm, display_labels=np.unique(y)).plot()"
   ]
  },
  {
   "cell_type": "markdown",
   "metadata": {},
   "source": [
    "**Q4: Interpretations**"
   ]
  },
  {
   "cell_type": "markdown",
   "metadata": {},
   "source": [
    "In my observations, the most important variables were the predictors that were always adding value to the different models I tested (each with varying feature sets not shown in the rendered document).\n",
    "\n",
    "Sex, chest pain type and resting blood pressure were the three most important variables by that qualitative measure. Based on the choice of model, where KNN, Decision Tree, etc., one of the other predictor variables in the dataset worsened the cross-validated ROC AUC score."
   ]
  },
  {
   "cell_type": "markdown",
   "metadata": {},
   "source": [
    "**Q5: ROC Curve**"
   ]
  },
  {
   "cell_type": "code",
   "execution_count": 212,
   "metadata": {},
   "outputs": [],
   "source": []
  }
 ],
 "metadata": {
  "kernelspec": {
   "display_name": "base",
   "language": "python",
   "name": "python3"
  },
  "language_info": {
   "codemirror_mode": {
    "name": "ipython",
    "version": 3
   },
   "file_extension": ".py",
   "mimetype": "text/x-python",
   "name": "python",
   "nbconvert_exporter": "python",
   "pygments_lexer": "ipython3",
   "version": "3.11.7"
  }
 },
 "nbformat": 4,
 "nbformat_minor": 2
}
